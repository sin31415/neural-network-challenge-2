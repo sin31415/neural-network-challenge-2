{
 "cells": [
  {
   "cell_type": "markdown",
   "metadata": {
    "id": "alIIEHibGc3M"
   },
   "source": [
    "## Part 1: Preprocessing"
   ]
  },
  {
   "cell_type": "code",
   "execution_count": 61,
   "metadata": {
    "colab": {
     "base_uri": "https://localhost:8080/",
     "height": 325
    },
    "id": "6eDUJ4NtGc3P",
    "outputId": "2480098c-135c-4cbf-9552-018494ee8ff5"
   },
   "outputs": [],
   "source": [
    "# Import our dependencies\n",
    "from sklearn.model_selection import train_test_split\n",
    "from sklearn.preprocessing import StandardScaler\n",
    "import pandas as pd\n",
    "import numpy as np\n",
    "import tensorflow as tf\n",
    "from tensorflow.keras.models import Model\n",
    "from tensorflow.keras import layers\n",
    "from sklearn.preprocessing import OneHotEncoder, LabelEncoder"
   ]
  },
  {
   "cell_type": "code",
   "execution_count": 3,
   "metadata": {
    "colab": {
     "base_uri": "https://localhost:8080/",
     "height": 325
    },
    "id": "6eDUJ4NtGc3P",
    "outputId": "2480098c-135c-4cbf-9552-018494ee8ff5"
   },
   "outputs": [
    {
     "data": {
      "text/html": [
       "<div>\n",
       "<style scoped>\n",
       "    .dataframe tbody tr th:only-of-type {\n",
       "        vertical-align: middle;\n",
       "    }\n",
       "\n",
       "    .dataframe tbody tr th {\n",
       "        vertical-align: top;\n",
       "    }\n",
       "\n",
       "    .dataframe thead th {\n",
       "        text-align: right;\n",
       "    }\n",
       "</style>\n",
       "<table border=\"1\" class=\"dataframe\">\n",
       "  <thead>\n",
       "    <tr style=\"text-align: right;\">\n",
       "      <th></th>\n",
       "      <th>Age</th>\n",
       "      <th>Attrition</th>\n",
       "      <th>BusinessTravel</th>\n",
       "      <th>Department</th>\n",
       "      <th>DistanceFromHome</th>\n",
       "      <th>Education</th>\n",
       "      <th>EducationField</th>\n",
       "      <th>EnvironmentSatisfaction</th>\n",
       "      <th>HourlyRate</th>\n",
       "      <th>JobInvolvement</th>\n",
       "      <th>...</th>\n",
       "      <th>PerformanceRating</th>\n",
       "      <th>RelationshipSatisfaction</th>\n",
       "      <th>StockOptionLevel</th>\n",
       "      <th>TotalWorkingYears</th>\n",
       "      <th>TrainingTimesLastYear</th>\n",
       "      <th>WorkLifeBalance</th>\n",
       "      <th>YearsAtCompany</th>\n",
       "      <th>YearsInCurrentRole</th>\n",
       "      <th>YearsSinceLastPromotion</th>\n",
       "      <th>YearsWithCurrManager</th>\n",
       "    </tr>\n",
       "  </thead>\n",
       "  <tbody>\n",
       "    <tr>\n",
       "      <th>0</th>\n",
       "      <td>41</td>\n",
       "      <td>Yes</td>\n",
       "      <td>Travel_Rarely</td>\n",
       "      <td>Sales</td>\n",
       "      <td>1</td>\n",
       "      <td>2</td>\n",
       "      <td>Life Sciences</td>\n",
       "      <td>2</td>\n",
       "      <td>94</td>\n",
       "      <td>3</td>\n",
       "      <td>...</td>\n",
       "      <td>3</td>\n",
       "      <td>1</td>\n",
       "      <td>0</td>\n",
       "      <td>8</td>\n",
       "      <td>0</td>\n",
       "      <td>1</td>\n",
       "      <td>6</td>\n",
       "      <td>4</td>\n",
       "      <td>0</td>\n",
       "      <td>5</td>\n",
       "    </tr>\n",
       "    <tr>\n",
       "      <th>1</th>\n",
       "      <td>49</td>\n",
       "      <td>No</td>\n",
       "      <td>Travel_Frequently</td>\n",
       "      <td>Research &amp; Development</td>\n",
       "      <td>8</td>\n",
       "      <td>1</td>\n",
       "      <td>Life Sciences</td>\n",
       "      <td>3</td>\n",
       "      <td>61</td>\n",
       "      <td>2</td>\n",
       "      <td>...</td>\n",
       "      <td>4</td>\n",
       "      <td>4</td>\n",
       "      <td>1</td>\n",
       "      <td>10</td>\n",
       "      <td>3</td>\n",
       "      <td>3</td>\n",
       "      <td>10</td>\n",
       "      <td>7</td>\n",
       "      <td>1</td>\n",
       "      <td>7</td>\n",
       "    </tr>\n",
       "    <tr>\n",
       "      <th>2</th>\n",
       "      <td>37</td>\n",
       "      <td>Yes</td>\n",
       "      <td>Travel_Rarely</td>\n",
       "      <td>Research &amp; Development</td>\n",
       "      <td>2</td>\n",
       "      <td>2</td>\n",
       "      <td>Other</td>\n",
       "      <td>4</td>\n",
       "      <td>92</td>\n",
       "      <td>2</td>\n",
       "      <td>...</td>\n",
       "      <td>3</td>\n",
       "      <td>2</td>\n",
       "      <td>0</td>\n",
       "      <td>7</td>\n",
       "      <td>3</td>\n",
       "      <td>3</td>\n",
       "      <td>0</td>\n",
       "      <td>0</td>\n",
       "      <td>0</td>\n",
       "      <td>0</td>\n",
       "    </tr>\n",
       "    <tr>\n",
       "      <th>3</th>\n",
       "      <td>33</td>\n",
       "      <td>No</td>\n",
       "      <td>Travel_Frequently</td>\n",
       "      <td>Research &amp; Development</td>\n",
       "      <td>3</td>\n",
       "      <td>4</td>\n",
       "      <td>Life Sciences</td>\n",
       "      <td>4</td>\n",
       "      <td>56</td>\n",
       "      <td>3</td>\n",
       "      <td>...</td>\n",
       "      <td>3</td>\n",
       "      <td>3</td>\n",
       "      <td>0</td>\n",
       "      <td>8</td>\n",
       "      <td>3</td>\n",
       "      <td>3</td>\n",
       "      <td>8</td>\n",
       "      <td>7</td>\n",
       "      <td>3</td>\n",
       "      <td>0</td>\n",
       "    </tr>\n",
       "    <tr>\n",
       "      <th>4</th>\n",
       "      <td>27</td>\n",
       "      <td>No</td>\n",
       "      <td>Travel_Rarely</td>\n",
       "      <td>Research &amp; Development</td>\n",
       "      <td>2</td>\n",
       "      <td>1</td>\n",
       "      <td>Medical</td>\n",
       "      <td>1</td>\n",
       "      <td>40</td>\n",
       "      <td>3</td>\n",
       "      <td>...</td>\n",
       "      <td>3</td>\n",
       "      <td>4</td>\n",
       "      <td>1</td>\n",
       "      <td>6</td>\n",
       "      <td>3</td>\n",
       "      <td>3</td>\n",
       "      <td>2</td>\n",
       "      <td>2</td>\n",
       "      <td>2</td>\n",
       "      <td>2</td>\n",
       "    </tr>\n",
       "  </tbody>\n",
       "</table>\n",
       "<p>5 rows × 27 columns</p>\n",
       "</div>"
      ],
      "text/plain": [
       "   Age Attrition     BusinessTravel              Department  DistanceFromHome  \\\n",
       "0   41       Yes      Travel_Rarely                   Sales                 1   \n",
       "1   49        No  Travel_Frequently  Research & Development                 8   \n",
       "2   37       Yes      Travel_Rarely  Research & Development                 2   \n",
       "3   33        No  Travel_Frequently  Research & Development                 3   \n",
       "4   27        No      Travel_Rarely  Research & Development                 2   \n",
       "\n",
       "   Education EducationField  EnvironmentSatisfaction  HourlyRate  \\\n",
       "0          2  Life Sciences                        2          94   \n",
       "1          1  Life Sciences                        3          61   \n",
       "2          2          Other                        4          92   \n",
       "3          4  Life Sciences                        4          56   \n",
       "4          1        Medical                        1          40   \n",
       "\n",
       "   JobInvolvement  ...  PerformanceRating RelationshipSatisfaction  \\\n",
       "0               3  ...                  3                        1   \n",
       "1               2  ...                  4                        4   \n",
       "2               2  ...                  3                        2   \n",
       "3               3  ...                  3                        3   \n",
       "4               3  ...                  3                        4   \n",
       "\n",
       "   StockOptionLevel TotalWorkingYears  TrainingTimesLastYear WorkLifeBalance  \\\n",
       "0                 0                 8                      0               1   \n",
       "1                 1                10                      3               3   \n",
       "2                 0                 7                      3               3   \n",
       "3                 0                 8                      3               3   \n",
       "4                 1                 6                      3               3   \n",
       "\n",
       "   YearsAtCompany  YearsInCurrentRole  YearsSinceLastPromotion  \\\n",
       "0               6                   4                        0   \n",
       "1              10                   7                        1   \n",
       "2               0                   0                        0   \n",
       "3               8                   7                        3   \n",
       "4               2                   2                        2   \n",
       "\n",
       "   YearsWithCurrManager  \n",
       "0                     5  \n",
       "1                     7  \n",
       "2                     0  \n",
       "3                     0  \n",
       "4                     2  \n",
       "\n",
       "[5 rows x 27 columns]"
      ]
     },
     "execution_count": 3,
     "metadata": {},
     "output_type": "execute_result"
    }
   ],
   "source": [
    "#  Import and read the attrition data\n",
    "attrition_df = pd.read_csv('https://static.bc-edx.com/ai/ail-v-1-0/m19/lms/datasets/attrition.csv')\n",
    "attrition_df.head()"
   ]
  },
  {
   "cell_type": "code",
   "execution_count": 4,
   "metadata": {
    "colab": {
     "base_uri": "https://localhost:8080/"
    },
    "id": "g22aQSY4Gc3Q",
    "outputId": "1f5c13c1-b981-4e40-a7ed-dd3fe6f1b81e"
   },
   "outputs": [
    {
     "data": {
      "text/plain": [
       "Age                         43\n",
       "Attrition                    2\n",
       "BusinessTravel               3\n",
       "Department                   3\n",
       "DistanceFromHome            29\n",
       "Education                    5\n",
       "EducationField               6\n",
       "EnvironmentSatisfaction      4\n",
       "HourlyRate                  71\n",
       "JobInvolvement               4\n",
       "JobLevel                     5\n",
       "JobRole                      9\n",
       "JobSatisfaction              4\n",
       "MaritalStatus                3\n",
       "NumCompaniesWorked          10\n",
       "OverTime                     2\n",
       "PercentSalaryHike           15\n",
       "PerformanceRating            2\n",
       "RelationshipSatisfaction     4\n",
       "StockOptionLevel             4\n",
       "TotalWorkingYears           40\n",
       "TrainingTimesLastYear        7\n",
       "WorkLifeBalance              4\n",
       "YearsAtCompany              37\n",
       "YearsInCurrentRole          19\n",
       "YearsSinceLastPromotion     16\n",
       "YearsWithCurrManager        18\n",
       "dtype: int64"
      ]
     },
     "execution_count": 4,
     "metadata": {},
     "output_type": "execute_result"
    }
   ],
   "source": [
    "# Determine the number of unique values in each column.\n",
    "attrition_df.nunique()"
   ]
  },
  {
   "cell_type": "code",
   "execution_count": 5,
   "metadata": {
    "id": "50vMgBEnJbfM"
   },
   "outputs": [
    {
     "data": {
      "text/html": [
       "<div>\n",
       "<style scoped>\n",
       "    .dataframe tbody tr th:only-of-type {\n",
       "        vertical-align: middle;\n",
       "    }\n",
       "\n",
       "    .dataframe tbody tr th {\n",
       "        vertical-align: top;\n",
       "    }\n",
       "\n",
       "    .dataframe thead th {\n",
       "        text-align: right;\n",
       "    }\n",
       "</style>\n",
       "<table border=\"1\" class=\"dataframe\">\n",
       "  <thead>\n",
       "    <tr style=\"text-align: right;\">\n",
       "      <th></th>\n",
       "      <th>Attrition</th>\n",
       "      <th>Department</th>\n",
       "    </tr>\n",
       "  </thead>\n",
       "  <tbody>\n",
       "    <tr>\n",
       "      <th>0</th>\n",
       "      <td>Yes</td>\n",
       "      <td>Sales</td>\n",
       "    </tr>\n",
       "    <tr>\n",
       "      <th>1</th>\n",
       "      <td>No</td>\n",
       "      <td>Research &amp; Development</td>\n",
       "    </tr>\n",
       "    <tr>\n",
       "      <th>2</th>\n",
       "      <td>Yes</td>\n",
       "      <td>Research &amp; Development</td>\n",
       "    </tr>\n",
       "    <tr>\n",
       "      <th>3</th>\n",
       "      <td>No</td>\n",
       "      <td>Research &amp; Development</td>\n",
       "    </tr>\n",
       "    <tr>\n",
       "      <th>4</th>\n",
       "      <td>No</td>\n",
       "      <td>Research &amp; Development</td>\n",
       "    </tr>\n",
       "  </tbody>\n",
       "</table>\n",
       "</div>"
      ],
      "text/plain": [
       "  Attrition              Department\n",
       "0       Yes                   Sales\n",
       "1        No  Research & Development\n",
       "2       Yes  Research & Development\n",
       "3        No  Research & Development\n",
       "4        No  Research & Development"
      ]
     },
     "execution_count": 5,
     "metadata": {},
     "output_type": "execute_result"
    }
   ],
   "source": [
    "# Create y_df with the Attrition and Department columns\n",
    "y_df = attrition_df[['Attrition', 'Department']]\n",
    "y_df.head()"
   ]
  },
  {
   "cell_type": "code",
   "execution_count": 6,
   "metadata": {
    "colab": {
     "base_uri": "https://localhost:8080/"
    },
    "id": "Virka0zLGc3R",
    "outputId": "dd5aee3a-9458-4ba6-e857-1b234de40915"
   },
   "outputs": [
    {
     "data": {
      "text/plain": [
       "Education                   int64\n",
       "Age                         int64\n",
       "DistanceFromHome            int64\n",
       "JobSatisfaction             int64\n",
       "OverTime                   object\n",
       "StockOptionLevel            int64\n",
       "WorkLifeBalance             int64\n",
       "YearsAtCompany              int64\n",
       "YearsSinceLastPromotion     int64\n",
       "NumCompaniesWorked          int64\n",
       "dtype: object"
      ]
     },
     "execution_count": 6,
     "metadata": {},
     "output_type": "execute_result"
    }
   ],
   "source": [
    "# Create a list of at least 10 column names to use as X data\n",
    "features_list = ['Education', 'Age', 'DistanceFromHome', 'JobSatisfaction', 'OverTime', 'StockOptionLevel', 'WorkLifeBalance', 'YearsAtCompany', 'YearsSinceLastPromotion', 'NumCompaniesWorked']\n",
    "\n",
    "\n",
    "# Create X_df using your selected columns\n",
    "X_df = attrition_df[features_list]\n",
    "\n",
    "# Show the data types for X_df\n",
    "X_df.dtypes\n"
   ]
  },
  {
   "cell_type": "code",
   "execution_count": 7,
   "metadata": {},
   "outputs": [
    {
     "name": "stderr",
     "output_type": "stream",
     "text": [
      "/var/folders/h4/xm09cdqx717237dwyz2xxbbw0000gn/T/ipykernel_16738/3672064100.py:1: SettingWithCopyWarning: \n",
      "A value is trying to be set on a copy of a slice from a DataFrame.\n",
      "Try using .loc[row_indexer,col_indexer] = value instead\n",
      "\n",
      "See the caveats in the documentation: https://pandas.pydata.org/pandas-docs/stable/user_guide/indexing.html#returning-a-view-versus-a-copy\n",
      "  X_df['OverTime'] = X_df['OverTime'].replace({'Yes': 1, 'No': 0})\n"
     ]
    },
    {
     "data": {
      "text/plain": [
       "OverTime\n",
       "0    1054\n",
       "1     416\n",
       "Name: count, dtype: int64"
      ]
     },
     "execution_count": 7,
     "metadata": {},
     "output_type": "execute_result"
    }
   ],
   "source": [
    "X_df['OverTime'] = X_df['OverTime'].replace({'Yes': 1, 'No': 0})\n",
    "X_df['OverTime'].value_counts()"
   ]
  },
  {
   "cell_type": "code",
   "execution_count": 8,
   "metadata": {
    "id": "KaJfdOGUMHMR"
   },
   "outputs": [],
   "source": [
    "# Split the data into training and testing sets\n",
    "from sklearn.model_selection import train_test_split\n",
    "\n",
    "X_train, X_test, y_train, y_test = train_test_split(X_df, y_df, random_state=1)"
   ]
  },
  {
   "cell_type": "code",
   "execution_count": 9,
   "metadata": {
    "colab": {
     "base_uri": "https://localhost:8080/"
    },
    "id": "NYubUJqiLCSp",
    "outputId": "53f31721-571c-4c94-d13e-25a715749593"
   },
   "outputs": [
    {
     "data": {
      "text/plain": [
       "OverTime\n",
       "0    798\n",
       "1    304\n",
       "Name: count, dtype: int64"
      ]
     },
     "execution_count": 9,
     "metadata": {},
     "output_type": "execute_result"
    }
   ],
   "source": [
    "# Convert your X data to numeric data types however you see fit\n",
    "# Add new code cells as necessary\n",
    "\n",
    "### I dont know why we would do this here so I am going to do this before the split so that the test data also follows the same structure...\n",
    "X_train['OverTime'].value_counts()"
   ]
  },
  {
   "cell_type": "code",
   "execution_count": 10,
   "metadata": {},
   "outputs": [
    {
     "data": {
      "text/plain": [
       "dtype('int64')"
      ]
     },
     "execution_count": 10,
     "metadata": {},
     "output_type": "execute_result"
    }
   ],
   "source": [
    "X_train['OverTime'].dtypes"
   ]
  },
  {
   "cell_type": "code",
   "execution_count": 11,
   "metadata": {},
   "outputs": [],
   "source": [
    "X_train_scaling = X_train.drop(columns='OverTime')\n",
    "X_test_scaling = X_test.drop(columns='OverTime')"
   ]
  },
  {
   "cell_type": "code",
   "execution_count": 12,
   "metadata": {
    "id": "EWA-aIA5Gc3T"
   },
   "outputs": [],
   "source": [
    "# Create a StandardScaler\n",
    "X_scaler = StandardScaler()\n",
    "\n",
    "# Fit the StandardScaler to the training data\n",
    "X_scaler.fit(X_train_scaling)\n",
    "\n",
    "# Scale the training and testing data\n",
    "X_train_scaled = X_scaler.transform(X_train_scaling)\n",
    "X_test_scaled = X_scaler.transform(X_test_scaling)\n",
    "\n",
    "X_train_scaled_df = pd.DataFrame(X_train_scaled, columns = X_train_scaling.columns)\n",
    "X_test_scaled_df = pd.DataFrame(X_test_scaled, columns = X_test_scaling.columns)"
   ]
  },
  {
   "cell_type": "code",
   "execution_count": 13,
   "metadata": {},
   "outputs": [],
   "source": [
    "X_train_post_scaled = pd.concat([X_train_scaled_df, X_train['OverTime'].reset_index()], axis=1)\n",
    "X_test_post_scaled = pd.concat([X_test_scaled_df, X_test['OverTime'].reset_index()], axis=1)"
   ]
  },
  {
   "cell_type": "code",
   "execution_count": 14,
   "metadata": {},
   "outputs": [],
   "source": [
    "X_train_post_scaled = X_train_post_scaled.set_index('index')\n",
    "X_test_post_scaled = X_test_post_scaled.set_index('index')"
   ]
  },
  {
   "cell_type": "code",
   "execution_count": 15,
   "metadata": {},
   "outputs": [
    {
     "data": {
      "text/html": [
       "<div>\n",
       "<style scoped>\n",
       "    .dataframe tbody tr th:only-of-type {\n",
       "        vertical-align: middle;\n",
       "    }\n",
       "\n",
       "    .dataframe tbody tr th {\n",
       "        vertical-align: top;\n",
       "    }\n",
       "\n",
       "    .dataframe thead th {\n",
       "        text-align: right;\n",
       "    }\n",
       "</style>\n",
       "<table border=\"1\" class=\"dataframe\">\n",
       "  <thead>\n",
       "    <tr style=\"text-align: right;\">\n",
       "      <th></th>\n",
       "      <th>Education</th>\n",
       "      <th>Age</th>\n",
       "      <th>DistanceFromHome</th>\n",
       "      <th>JobSatisfaction</th>\n",
       "      <th>StockOptionLevel</th>\n",
       "      <th>WorkLifeBalance</th>\n",
       "      <th>YearsAtCompany</th>\n",
       "      <th>YearsSinceLastPromotion</th>\n",
       "      <th>NumCompaniesWorked</th>\n",
       "      <th>OverTime</th>\n",
       "    </tr>\n",
       "    <tr>\n",
       "      <th>index</th>\n",
       "      <th></th>\n",
       "      <th></th>\n",
       "      <th></th>\n",
       "      <th></th>\n",
       "      <th></th>\n",
       "      <th></th>\n",
       "      <th></th>\n",
       "      <th></th>\n",
       "      <th></th>\n",
       "      <th></th>\n",
       "    </tr>\n",
       "  </thead>\n",
       "  <tbody>\n",
       "    <tr>\n",
       "      <th>464</th>\n",
       "      <td>0.080843</td>\n",
       "      <td>-0.000597</td>\n",
       "      <td>-1.009337</td>\n",
       "      <td>1.167247</td>\n",
       "      <td>-0.929636</td>\n",
       "      <td>1.790592</td>\n",
       "      <td>-0.142174</td>\n",
       "      <td>-0.350760</td>\n",
       "      <td>0.505016</td>\n",
       "      <td>0</td>\n",
       "    </tr>\n",
       "    <tr>\n",
       "      <th>512</th>\n",
       "      <td>1.070722</td>\n",
       "      <td>-1.097736</td>\n",
       "      <td>-0.761501</td>\n",
       "      <td>1.167247</td>\n",
       "      <td>-0.929636</td>\n",
       "      <td>0.356557</td>\n",
       "      <td>-0.483145</td>\n",
       "      <td>-0.350760</td>\n",
       "      <td>-1.093053</td>\n",
       "      <td>0</td>\n",
       "    </tr>\n",
       "    <tr>\n",
       "      <th>480</th>\n",
       "      <td>1.070722</td>\n",
       "      <td>-0.768595</td>\n",
       "      <td>0.353763</td>\n",
       "      <td>-1.589124</td>\n",
       "      <td>0.253342</td>\n",
       "      <td>1.790592</td>\n",
       "      <td>-0.994602</td>\n",
       "      <td>-0.663492</td>\n",
       "      <td>-0.693536</td>\n",
       "      <td>0</td>\n",
       "    </tr>\n",
       "    <tr>\n",
       "      <th>680</th>\n",
       "      <td>1.070722</td>\n",
       "      <td>-0.110311</td>\n",
       "      <td>-0.265828</td>\n",
       "      <td>1.167247</td>\n",
       "      <td>-0.929636</td>\n",
       "      <td>0.356557</td>\n",
       "      <td>-0.142174</td>\n",
       "      <td>-0.663492</td>\n",
       "      <td>-0.294019</td>\n",
       "      <td>0</td>\n",
       "    </tr>\n",
       "    <tr>\n",
       "      <th>1023</th>\n",
       "      <td>-0.909036</td>\n",
       "      <td>2.083967</td>\n",
       "      <td>-1.009337</td>\n",
       "      <td>-1.589124</td>\n",
       "      <td>0.253342</td>\n",
       "      <td>1.790592</td>\n",
       "      <td>-0.653631</td>\n",
       "      <td>-0.350760</td>\n",
       "      <td>-0.294019</td>\n",
       "      <td>0</td>\n",
       "    </tr>\n",
       "  </tbody>\n",
       "</table>\n",
       "</div>"
      ],
      "text/plain": [
       "       Education       Age  DistanceFromHome  JobSatisfaction  \\\n",
       "index                                                           \n",
       "464     0.080843 -0.000597         -1.009337         1.167247   \n",
       "512     1.070722 -1.097736         -0.761501         1.167247   \n",
       "480     1.070722 -0.768595          0.353763        -1.589124   \n",
       "680     1.070722 -0.110311         -0.265828         1.167247   \n",
       "1023   -0.909036  2.083967         -1.009337        -1.589124   \n",
       "\n",
       "       StockOptionLevel  WorkLifeBalance  YearsAtCompany  \\\n",
       "index                                                      \n",
       "464           -0.929636         1.790592       -0.142174   \n",
       "512           -0.929636         0.356557       -0.483145   \n",
       "480            0.253342         1.790592       -0.994602   \n",
       "680           -0.929636         0.356557       -0.142174   \n",
       "1023           0.253342         1.790592       -0.653631   \n",
       "\n",
       "       YearsSinceLastPromotion  NumCompaniesWorked  OverTime  \n",
       "index                                                         \n",
       "464                  -0.350760            0.505016         0  \n",
       "512                  -0.350760           -1.093053         0  \n",
       "480                  -0.663492           -0.693536         0  \n",
       "680                  -0.663492           -0.294019         0  \n",
       "1023                 -0.350760           -0.294019         0  "
      ]
     },
     "metadata": {},
     "output_type": "display_data"
    },
    {
     "data": {
      "text/html": [
       "<div>\n",
       "<style scoped>\n",
       "    .dataframe tbody tr th:only-of-type {\n",
       "        vertical-align: middle;\n",
       "    }\n",
       "\n",
       "    .dataframe tbody tr th {\n",
       "        vertical-align: top;\n",
       "    }\n",
       "\n",
       "    .dataframe thead th {\n",
       "        text-align: right;\n",
       "    }\n",
       "</style>\n",
       "<table border=\"1\" class=\"dataframe\">\n",
       "  <thead>\n",
       "    <tr style=\"text-align: right;\">\n",
       "      <th></th>\n",
       "      <th>Education</th>\n",
       "      <th>Age</th>\n",
       "      <th>DistanceFromHome</th>\n",
       "      <th>JobSatisfaction</th>\n",
       "      <th>StockOptionLevel</th>\n",
       "      <th>WorkLifeBalance</th>\n",
       "      <th>YearsAtCompany</th>\n",
       "      <th>YearsSinceLastPromotion</th>\n",
       "      <th>NumCompaniesWorked</th>\n",
       "      <th>OverTime</th>\n",
       "    </tr>\n",
       "    <tr>\n",
       "      <th>index</th>\n",
       "      <th></th>\n",
       "      <th></th>\n",
       "      <th></th>\n",
       "      <th></th>\n",
       "      <th></th>\n",
       "      <th></th>\n",
       "      <th></th>\n",
       "      <th></th>\n",
       "      <th></th>\n",
       "      <th></th>\n",
       "    </tr>\n",
       "  </thead>\n",
       "  <tbody>\n",
       "    <tr>\n",
       "      <th>1291</th>\n",
       "      <td>1.070722</td>\n",
       "      <td>-0.000597</td>\n",
       "      <td>0.105926</td>\n",
       "      <td>-1.589124</td>\n",
       "      <td>-0.929636</td>\n",
       "      <td>-2.511514</td>\n",
       "      <td>0.539768</td>\n",
       "      <td>-0.663492</td>\n",
       "      <td>-0.693536</td>\n",
       "      <td>0</td>\n",
       "    </tr>\n",
       "    <tr>\n",
       "      <th>1153</th>\n",
       "      <td>-0.909036</td>\n",
       "      <td>-2.085162</td>\n",
       "      <td>-0.761501</td>\n",
       "      <td>1.167247</td>\n",
       "      <td>-0.929636</td>\n",
       "      <td>1.790592</td>\n",
       "      <td>-1.165088</td>\n",
       "      <td>-0.663492</td>\n",
       "      <td>-0.693536</td>\n",
       "      <td>1</td>\n",
       "    </tr>\n",
       "    <tr>\n",
       "      <th>720</th>\n",
       "      <td>0.080843</td>\n",
       "      <td>-0.768595</td>\n",
       "      <td>1.592945</td>\n",
       "      <td>0.248457</td>\n",
       "      <td>-0.929636</td>\n",
       "      <td>0.356557</td>\n",
       "      <td>-0.312660</td>\n",
       "      <td>-0.663492</td>\n",
       "      <td>0.505016</td>\n",
       "      <td>1</td>\n",
       "    </tr>\n",
       "    <tr>\n",
       "      <th>763</th>\n",
       "      <td>1.070722</td>\n",
       "      <td>-0.329739</td>\n",
       "      <td>0.105926</td>\n",
       "      <td>0.248457</td>\n",
       "      <td>0.253342</td>\n",
       "      <td>0.356557</td>\n",
       "      <td>-0.994602</td>\n",
       "      <td>-0.663492</td>\n",
       "      <td>-0.693536</td>\n",
       "      <td>1</td>\n",
       "    </tr>\n",
       "    <tr>\n",
       "      <th>976</th>\n",
       "      <td>0.080843</td>\n",
       "      <td>2.083967</td>\n",
       "      <td>1.716863</td>\n",
       "      <td>-0.670333</td>\n",
       "      <td>0.253342</td>\n",
       "      <td>0.356557</td>\n",
       "      <td>2.074137</td>\n",
       "      <td>4.027495</td>\n",
       "      <td>0.505016</td>\n",
       "      <td>1</td>\n",
       "    </tr>\n",
       "  </tbody>\n",
       "</table>\n",
       "</div>"
      ],
      "text/plain": [
       "       Education       Age  DistanceFromHome  JobSatisfaction  \\\n",
       "index                                                           \n",
       "1291    1.070722 -0.000597          0.105926        -1.589124   \n",
       "1153   -0.909036 -2.085162         -0.761501         1.167247   \n",
       "720     0.080843 -0.768595          1.592945         0.248457   \n",
       "763     1.070722 -0.329739          0.105926         0.248457   \n",
       "976     0.080843  2.083967          1.716863        -0.670333   \n",
       "\n",
       "       StockOptionLevel  WorkLifeBalance  YearsAtCompany  \\\n",
       "index                                                      \n",
       "1291          -0.929636        -2.511514        0.539768   \n",
       "1153          -0.929636         1.790592       -1.165088   \n",
       "720           -0.929636         0.356557       -0.312660   \n",
       "763            0.253342         0.356557       -0.994602   \n",
       "976            0.253342         0.356557        2.074137   \n",
       "\n",
       "       YearsSinceLastPromotion  NumCompaniesWorked  OverTime  \n",
       "index                                                         \n",
       "1291                 -0.663492           -0.693536         0  \n",
       "1153                 -0.663492           -0.693536         1  \n",
       "720                  -0.663492            0.505016         1  \n",
       "763                  -0.663492           -0.693536         1  \n",
       "976                   4.027495            0.505016         1  "
      ]
     },
     "metadata": {},
     "output_type": "display_data"
    }
   ],
   "source": [
    "display(X_train_post_scaled.head())\n",
    "display(X_test_post_scaled.head())"
   ]
  },
  {
   "cell_type": "code",
   "execution_count": 16,
   "metadata": {
    "colab": {
     "base_uri": "https://localhost:8080/"
    },
    "id": "-z0Mky8vQSz4",
    "outputId": "debefc85-c20b-48f5-f4d9-91eadd65d36a"
   },
   "outputs": [],
   "source": [
    "# Create a OneHotEncoder for the Department column\n",
    "dept_encoder = OneHotEncoder(sparse_output=False)\n",
    "\n",
    "# Fit the encoder to the training data\n",
    "dept_encoded = dept_encoder.fit(y_train[['Department']])\n",
    "\n",
    "# Create two new variables by applying the encoder\n",
    "# to the training and testing data\n",
    "dept_encoded_train = dept_encoder.transform(y_train[['Department']])\n",
    "dept_encoded_test = dept_encoder.transform(y_test[['Department']])\n",
    "\n",
    "dept_colums = dept_encoder.get_feature_names_out(['Department'])\n",
    "\n",
    "dept_encoded_train_df = pd.DataFrame(dept_encoded_train, columns=dept_colums)\n",
    "dept_encoded_test_df = pd.DataFrame(dept_encoded_test, columns=dept_colums)"
   ]
  },
  {
   "cell_type": "code",
   "execution_count": 17,
   "metadata": {
    "colab": {
     "base_uri": "https://localhost:8080/"
    },
    "id": "-G4DSpvFRrk4",
    "outputId": "9842e948-8a55-4b80-8fac-f96714e85589"
   },
   "outputs": [],
   "source": [
    "# Create a OneHotEncoder for the Attrition column\n",
    "attrition_encoder = OneHotEncoder(sparse_output=False)\n",
    "\n",
    "# Fit the encoder to the training data\n",
    "attrition_encoded = attrition_encoder.fit(y_train[['Attrition']])\n",
    "\n",
    "# Create two new variables by applying the encoder\n",
    "# to the training and testing data\n",
    "attrition_encoded_train = attrition_encoder.transform(y_train[['Attrition']])\n",
    "attrition_encoded_test = attrition_encoder.transform(y_test[['Attrition']])\n",
    "\n",
    "attrition_colums = attrition_encoder.get_feature_names_out(['Attrition'])\n",
    "\n",
    "attrition_encoded_train_df = pd.DataFrame(attrition_encoded_train, columns=attrition_colums)\n",
    "attrition_encoded_test_df = pd.DataFrame(attrition_encoded_test, columns=attrition_colums)"
   ]
  },
  {
   "cell_type": "code",
   "execution_count": 18,
   "metadata": {},
   "outputs": [],
   "source": [
    "### COMBINING ALL Y encoded dfs\n",
    "\n",
    "y_train_processed_df = pd.concat([\n",
    "    dept_encoded_train_df,\n",
    "    attrition_encoded_train_df],\n",
    "    axis=1\n",
    "    )\n",
    "\n",
    "y_test_processed_df = pd.concat([\n",
    "    dept_encoded_test_df,\n",
    "    attrition_encoded_test_df],\n",
    "    axis=1\n",
    "    )"
   ]
  },
  {
   "cell_type": "code",
   "execution_count": 85,
   "metadata": {},
   "outputs": [],
   "source": [
    "dept_encoded_train_df = np.array(dept_encoded_train_df)\n",
    "attrition_encoded_train_df = np.array(attrition_encoded_train_df)"
   ]
  },
  {
   "cell_type": "code",
   "execution_count": 87,
   "metadata": {},
   "outputs": [],
   "source": [
    "dept_encoded_train_df = dept_encoded_train_df.reshape(-1, 3)\n",
    "attrition_encoded_train_df = attrition_encoded_train_df.reshape(-1, 2)"
   ]
  },
  {
   "cell_type": "code",
   "execution_count": 89,
   "metadata": {},
   "outputs": [
    {
     "name": "stdout",
     "output_type": "stream",
     "text": [
      "Reshaped Department target shape: (1102, 3)\n",
      "Reshaped Attrition target shape: (1102, 2)\n"
     ]
    }
   ],
   "source": [
    "print(\"Reshaped Department target shape:\", dept_encoded_train_df.shape)\n",
    "print(\"Reshaped Attrition target shape:\", attrition_encoded_train_df.shape)"
   ]
  },
  {
   "cell_type": "markdown",
   "metadata": {
    "id": "ykNmu_WWGc3T"
   },
   "source": [
    "## Create, Compile, and Train the Model"
   ]
  },
  {
   "cell_type": "code",
   "execution_count": 91,
   "metadata": {},
   "outputs": [],
   "source": [
    "tf.keras.backend.clear_session()"
   ]
  },
  {
   "cell_type": "code",
   "execution_count": 93,
   "metadata": {
    "id": "WUptZqmSGc3T"
   },
   "outputs": [],
   "source": [
    "# Find the number of columns in the X training data\n",
    "num_features = X_train_post_scaled.shape[1]\n",
    "\n",
    "# Create the input layer\n",
    "input_layer = layers.Input(shape=(num_features,), name='input_layer')\n",
    "\n",
    "# Create at least two shared layers\n",
    "shared_layer1 = layers.Dense(64, activation='relu', name='shared_layer1')(input_layer)\n",
    "shared_layer2 = layers.Dense(128, activation='relu', name='shared_layer2')(shared_layer1)"
   ]
  },
  {
   "cell_type": "code",
   "execution_count": 95,
   "metadata": {
    "id": "JukjTm2yTEqd"
   },
   "outputs": [
    {
     "name": "stdout",
     "output_type": "stream",
     "text": [
      "Expected department output shape: (None, 3)\n"
     ]
    }
   ],
   "source": [
    "# Create a branch for Department\n",
    "# with a hidden layer and an output layer\n",
    "\n",
    "# Create the hidden layer\n",
    "department_dense = layers.Dense(32, activation='relu', name='department_dense')(shared_layer2)\n",
    "\n",
    "# Create the output layer\n",
    "department_output = layers.Dense(3, activation='softmax', name='department_output')(department_dense)\n",
    "\n",
    "print(\"Expected department output shape:\", department_output.shape)"
   ]
  },
  {
   "cell_type": "code",
   "execution_count": 97,
   "metadata": {
    "id": "9OqhUiOJUBkR"
   },
   "outputs": [
    {
     "name": "stdout",
     "output_type": "stream",
     "text": [
      "Expected attrition output shape: (None, 2)\n"
     ]
    }
   ],
   "source": [
    "## Create a branch for Attrition\n",
    "# with a hidden layer and an output layer\n",
    "\n",
    "# Create the hidden layer\n",
    "attrition_dense = layers.Dense(32, activation='relu', name = 'attrition_dense')(shared_layer2)\n",
    "\n",
    "# Create the output layer\n",
    "attrition_output = layers.Dense(2, activation='softmax', name='attrition_output')(attrition_dense)\n",
    "\n",
    "print(\"Expected attrition output shape:\", attrition_output.shape)"
   ]
  },
  {
   "cell_type": "code",
   "execution_count": 109,
   "metadata": {
    "colab": {
     "base_uri": "https://localhost:8080/"
    },
    "id": "twmuejdxGc3T",
    "outputId": "25096308-b68b-42e4-e4ea-ae82e97c435a"
   },
   "outputs": [
    {
     "data": {
      "text/html": [
       "<pre style=\"white-space:pre;overflow-x:auto;line-height:normal;font-family:Menlo,'DejaVu Sans Mono',consolas,'Courier New',monospace\"><span style=\"font-weight: bold\">Model: \"functional_1\"</span>\n",
       "</pre>\n"
      ],
      "text/plain": [
       "\u001b[1mModel: \"functional_1\"\u001b[0m\n"
      ]
     },
     "metadata": {},
     "output_type": "display_data"
    },
    {
     "data": {
      "text/html": [
       "<pre style=\"white-space:pre;overflow-x:auto;line-height:normal;font-family:Menlo,'DejaVu Sans Mono',consolas,'Courier New',monospace\">┏━━━━━━━━━━━━━━━━━━━━━┳━━━━━━━━━━━━━━━━━━━┳━━━━━━━━━━━━┳━━━━━━━━━━━━━━━━━━━┓\n",
       "┃<span style=\"font-weight: bold\"> Layer (type)        </span>┃<span style=\"font-weight: bold\"> Output Shape      </span>┃<span style=\"font-weight: bold\">    Param # </span>┃<span style=\"font-weight: bold\"> Connected to      </span>┃\n",
       "┡━━━━━━━━━━━━━━━━━━━━━╇━━━━━━━━━━━━━━━━━━━╇━━━━━━━━━━━━╇━━━━━━━━━━━━━━━━━━━┩\n",
       "│ input_layer         │ (<span style=\"color: #00d7ff; text-decoration-color: #00d7ff\">None</span>, <span style=\"color: #00af00; text-decoration-color: #00af00\">10</span>)        │          <span style=\"color: #00af00; text-decoration-color: #00af00\">0</span> │ -                 │\n",
       "│ (<span style=\"color: #0087ff; text-decoration-color: #0087ff\">InputLayer</span>)        │                   │            │                   │\n",
       "├─────────────────────┼───────────────────┼────────────┼───────────────────┤\n",
       "│ shared_layer1       │ (<span style=\"color: #00d7ff; text-decoration-color: #00d7ff\">None</span>, <span style=\"color: #00af00; text-decoration-color: #00af00\">64</span>)        │        <span style=\"color: #00af00; text-decoration-color: #00af00\">704</span> │ input_layer[<span style=\"color: #00af00; text-decoration-color: #00af00\">0</span>][<span style=\"color: #00af00; text-decoration-color: #00af00\">0</span>] │\n",
       "│ (<span style=\"color: #0087ff; text-decoration-color: #0087ff\">Dense</span>)             │                   │            │                   │\n",
       "├─────────────────────┼───────────────────┼────────────┼───────────────────┤\n",
       "│ shared_layer2       │ (<span style=\"color: #00d7ff; text-decoration-color: #00d7ff\">None</span>, <span style=\"color: #00af00; text-decoration-color: #00af00\">128</span>)       │      <span style=\"color: #00af00; text-decoration-color: #00af00\">8,320</span> │ shared_layer1[<span style=\"color: #00af00; text-decoration-color: #00af00\">0</span>]… │\n",
       "│ (<span style=\"color: #0087ff; text-decoration-color: #0087ff\">Dense</span>)             │                   │            │                   │\n",
       "├─────────────────────┼───────────────────┼────────────┼───────────────────┤\n",
       "│ attrition_dense     │ (<span style=\"color: #00d7ff; text-decoration-color: #00d7ff\">None</span>, <span style=\"color: #00af00; text-decoration-color: #00af00\">32</span>)        │      <span style=\"color: #00af00; text-decoration-color: #00af00\">4,128</span> │ shared_layer2[<span style=\"color: #00af00; text-decoration-color: #00af00\">0</span>]… │\n",
       "│ (<span style=\"color: #0087ff; text-decoration-color: #0087ff\">Dense</span>)             │                   │            │                   │\n",
       "├─────────────────────┼───────────────────┼────────────┼───────────────────┤\n",
       "│ department_dense    │ (<span style=\"color: #00d7ff; text-decoration-color: #00d7ff\">None</span>, <span style=\"color: #00af00; text-decoration-color: #00af00\">32</span>)        │      <span style=\"color: #00af00; text-decoration-color: #00af00\">4,128</span> │ shared_layer2[<span style=\"color: #00af00; text-decoration-color: #00af00\">0</span>]… │\n",
       "│ (<span style=\"color: #0087ff; text-decoration-color: #0087ff\">Dense</span>)             │                   │            │                   │\n",
       "├─────────────────────┼───────────────────┼────────────┼───────────────────┤\n",
       "│ attrition_output    │ (<span style=\"color: #00d7ff; text-decoration-color: #00d7ff\">None</span>, <span style=\"color: #00af00; text-decoration-color: #00af00\">2</span>)         │         <span style=\"color: #00af00; text-decoration-color: #00af00\">66</span> │ attrition_dense[<span style=\"color: #00af00; text-decoration-color: #00af00\">…</span> │\n",
       "│ (<span style=\"color: #0087ff; text-decoration-color: #0087ff\">Dense</span>)             │                   │            │                   │\n",
       "├─────────────────────┼───────────────────┼────────────┼───────────────────┤\n",
       "│ department_output   │ (<span style=\"color: #00d7ff; text-decoration-color: #00d7ff\">None</span>, <span style=\"color: #00af00; text-decoration-color: #00af00\">3</span>)         │         <span style=\"color: #00af00; text-decoration-color: #00af00\">99</span> │ department_dense… │\n",
       "│ (<span style=\"color: #0087ff; text-decoration-color: #0087ff\">Dense</span>)             │                   │            │                   │\n",
       "└─────────────────────┴───────────────────┴────────────┴───────────────────┘\n",
       "</pre>\n"
      ],
      "text/plain": [
       "┏━━━━━━━━━━━━━━━━━━━━━┳━━━━━━━━━━━━━━━━━━━┳━━━━━━━━━━━━┳━━━━━━━━━━━━━━━━━━━┓\n",
       "┃\u001b[1m \u001b[0m\u001b[1mLayer (type)       \u001b[0m\u001b[1m \u001b[0m┃\u001b[1m \u001b[0m\u001b[1mOutput Shape     \u001b[0m\u001b[1m \u001b[0m┃\u001b[1m \u001b[0m\u001b[1m   Param #\u001b[0m\u001b[1m \u001b[0m┃\u001b[1m \u001b[0m\u001b[1mConnected to     \u001b[0m\u001b[1m \u001b[0m┃\n",
       "┡━━━━━━━━━━━━━━━━━━━━━╇━━━━━━━━━━━━━━━━━━━╇━━━━━━━━━━━━╇━━━━━━━━━━━━━━━━━━━┩\n",
       "│ input_layer         │ (\u001b[38;5;45mNone\u001b[0m, \u001b[38;5;34m10\u001b[0m)        │          \u001b[38;5;34m0\u001b[0m │ -                 │\n",
       "│ (\u001b[38;5;33mInputLayer\u001b[0m)        │                   │            │                   │\n",
       "├─────────────────────┼───────────────────┼────────────┼───────────────────┤\n",
       "│ shared_layer1       │ (\u001b[38;5;45mNone\u001b[0m, \u001b[38;5;34m64\u001b[0m)        │        \u001b[38;5;34m704\u001b[0m │ input_layer[\u001b[38;5;34m0\u001b[0m][\u001b[38;5;34m0\u001b[0m] │\n",
       "│ (\u001b[38;5;33mDense\u001b[0m)             │                   │            │                   │\n",
       "├─────────────────────┼───────────────────┼────────────┼───────────────────┤\n",
       "│ shared_layer2       │ (\u001b[38;5;45mNone\u001b[0m, \u001b[38;5;34m128\u001b[0m)       │      \u001b[38;5;34m8,320\u001b[0m │ shared_layer1[\u001b[38;5;34m0\u001b[0m]… │\n",
       "│ (\u001b[38;5;33mDense\u001b[0m)             │                   │            │                   │\n",
       "├─────────────────────┼───────────────────┼────────────┼───────────────────┤\n",
       "│ attrition_dense     │ (\u001b[38;5;45mNone\u001b[0m, \u001b[38;5;34m32\u001b[0m)        │      \u001b[38;5;34m4,128\u001b[0m │ shared_layer2[\u001b[38;5;34m0\u001b[0m]… │\n",
       "│ (\u001b[38;5;33mDense\u001b[0m)             │                   │            │                   │\n",
       "├─────────────────────┼───────────────────┼────────────┼───────────────────┤\n",
       "│ department_dense    │ (\u001b[38;5;45mNone\u001b[0m, \u001b[38;5;34m32\u001b[0m)        │      \u001b[38;5;34m4,128\u001b[0m │ shared_layer2[\u001b[38;5;34m0\u001b[0m]… │\n",
       "│ (\u001b[38;5;33mDense\u001b[0m)             │                   │            │                   │\n",
       "├─────────────────────┼───────────────────┼────────────┼───────────────────┤\n",
       "│ attrition_output    │ (\u001b[38;5;45mNone\u001b[0m, \u001b[38;5;34m2\u001b[0m)         │         \u001b[38;5;34m66\u001b[0m │ attrition_dense[\u001b[38;5;34m…\u001b[0m │\n",
       "│ (\u001b[38;5;33mDense\u001b[0m)             │                   │            │                   │\n",
       "├─────────────────────┼───────────────────┼────────────┼───────────────────┤\n",
       "│ department_output   │ (\u001b[38;5;45mNone\u001b[0m, \u001b[38;5;34m3\u001b[0m)         │         \u001b[38;5;34m99\u001b[0m │ department_dense… │\n",
       "│ (\u001b[38;5;33mDense\u001b[0m)             │                   │            │                   │\n",
       "└─────────────────────┴───────────────────┴────────────┴───────────────────┘\n"
      ]
     },
     "metadata": {},
     "output_type": "display_data"
    },
    {
     "data": {
      "text/html": [
       "<pre style=\"white-space:pre;overflow-x:auto;line-height:normal;font-family:Menlo,'DejaVu Sans Mono',consolas,'Courier New',monospace\"><span style=\"font-weight: bold\"> Total params: </span><span style=\"color: #00af00; text-decoration-color: #00af00\">17,445</span> (68.14 KB)\n",
       "</pre>\n"
      ],
      "text/plain": [
       "\u001b[1m Total params: \u001b[0m\u001b[38;5;34m17,445\u001b[0m (68.14 KB)\n"
      ]
     },
     "metadata": {},
     "output_type": "display_data"
    },
    {
     "data": {
      "text/html": [
       "<pre style=\"white-space:pre;overflow-x:auto;line-height:normal;font-family:Menlo,'DejaVu Sans Mono',consolas,'Courier New',monospace\"><span style=\"font-weight: bold\"> Trainable params: </span><span style=\"color: #00af00; text-decoration-color: #00af00\">17,445</span> (68.14 KB)\n",
       "</pre>\n"
      ],
      "text/plain": [
       "\u001b[1m Trainable params: \u001b[0m\u001b[38;5;34m17,445\u001b[0m (68.14 KB)\n"
      ]
     },
     "metadata": {},
     "output_type": "display_data"
    },
    {
     "data": {
      "text/html": [
       "<pre style=\"white-space:pre;overflow-x:auto;line-height:normal;font-family:Menlo,'DejaVu Sans Mono',consolas,'Courier New',monospace\"><span style=\"font-weight: bold\"> Non-trainable params: </span><span style=\"color: #00af00; text-decoration-color: #00af00\">0</span> (0.00 B)\n",
       "</pre>\n"
      ],
      "text/plain": [
       "\u001b[1m Non-trainable params: \u001b[0m\u001b[38;5;34m0\u001b[0m (0.00 B)\n"
      ]
     },
     "metadata": {},
     "output_type": "display_data"
    }
   ],
   "source": [
    "# Create the model\n",
    "model = Model(inputs=input_layer, outputs=[attrition_output, \n",
    "                                           department_output])\n",
    "\n",
    "# Compile the model\n",
    "model.compile(optimizer='adam', \n",
    "              loss={'department_output': 'categorical_crossentropy',\n",
    "                    'attrition_output': 'categorical_crossentropy'}, \n",
    "              metrics={'department_output': 'accuracy', \n",
    "                       'attrition_output': 'accuracy'})\n",
    "\n",
    "\n",
    "\n",
    "\n",
    "# Summarize the model\n",
    "model.summary()"
   ]
  },
  {
   "cell_type": "code",
   "execution_count": 111,
   "metadata": {
    "jupyter": {
     "source_hidden": true
    }
   },
   "outputs": [
    {
     "name": "stdout",
     "output_type": "stream",
     "text": [
      "Department output shape: 3\n",
      "Attrition output shape: 2\n"
     ]
    }
   ],
   "source": [
    "print(\"Department output shape:\", dept_encoded_train_df.shape[1])\n",
    "print(\"Attrition output shape:\", attrition_encoded_train_df.shape[1])"
   ]
  },
  {
   "cell_type": "code",
   "execution_count": 113,
   "metadata": {
    "jupyter": {
     "source_hidden": true
    }
   },
   "outputs": [
    {
     "name": "stdout",
     "output_type": "stream",
     "text": [
      "Department target shape: (1102, 3)\n",
      "Attrition target shape: (1102, 2)\n"
     ]
    }
   ],
   "source": [
    "print(\"Department target shape:\", dept_encoded_train_df.shape)\n",
    "print(\"Attrition target shape:\", attrition_encoded_train_df.shape)"
   ]
  },
  {
   "cell_type": "code",
   "execution_count": 115,
   "metadata": {
    "jupyter": {
     "source_hidden": true
    }
   },
   "outputs": [
    {
     "name": "stdout",
     "output_type": "stream",
     "text": [
      "Input data shape: (1102, 10)\n",
      "Department target shape: (1102, 3)\n",
      "Attrition target shape: (1102, 2)\n"
     ]
    }
   ],
   "source": [
    "print(\"Input data shape:\", X_train_post_scaled.shape)\n",
    "print(\"Department target shape:\", dept_encoded_train_df.shape)  # Should be (num_samples, 3)\n",
    "print(\"Attrition target shape:\", attrition_encoded_train_df.shape)  # Should be (num_samples, 2)"
   ]
  },
  {
   "cell_type": "code",
   "execution_count": 120,
   "metadata": {
    "colab": {
     "base_uri": "https://localhost:8080/"
    },
    "id": "c8oGy0dpGc3U",
    "outputId": "cc667d43-28cf-42d4-d719-c2bc02888d30"
   },
   "outputs": [
    {
     "name": "stdout",
     "output_type": "stream",
     "text": [
      "Epoch 1/100\n",
      "\u001b[1m28/28\u001b[0m \u001b[32m━━━━━━━━━━━━━━━━━━━━\u001b[0m\u001b[37m\u001b[0m \u001b[1m0s\u001b[0m 2ms/step - attrition_output_accuracy: 0.8347 - attrition_output_loss: 0.4628 - department_output_accuracy: 0.6087 - department_output_loss: 0.8400 - loss: 1.3029 - val_attrition_output_accuracy: 0.8281 - val_attrition_output_loss: 0.4966 - val_department_output_accuracy: 0.6063 - val_department_output_loss: 0.8445 - val_loss: 1.3405\n",
      "Epoch 2/100\n",
      "\u001b[1m28/28\u001b[0m \u001b[32m━━━━━━━━━━━━━━━━━━━━\u001b[0m\u001b[37m\u001b[0m \u001b[1m0s\u001b[0m 1ms/step - attrition_output_accuracy: 0.8462 - attrition_output_loss: 0.4074 - department_output_accuracy: 0.6428 - department_output_loss: 0.8093 - loss: 1.2170 - val_attrition_output_accuracy: 0.8371 - val_attrition_output_loss: 0.4648 - val_department_output_accuracy: 0.6335 - val_department_output_loss: 0.8490 - val_loss: 1.3137\n",
      "Epoch 3/100\n",
      "\u001b[1m28/28\u001b[0m \u001b[32m━━━━━━━━━━━━━━━━━━━━\u001b[0m\u001b[37m\u001b[0m \u001b[1m0s\u001b[0m 1ms/step - attrition_output_accuracy: 0.8794 - attrition_output_loss: 0.3418 - department_output_accuracy: 0.6738 - department_output_loss: 0.7329 - loss: 1.0745 - val_attrition_output_accuracy: 0.8371 - val_attrition_output_loss: 0.4522 - val_department_output_accuracy: 0.6335 - val_department_output_loss: 0.8490 - val_loss: 1.3013\n",
      "Epoch 4/100\n",
      "\u001b[1m28/28\u001b[0m \u001b[32m━━━━━━━━━━━━━━━━━━━━\u001b[0m\u001b[37m\u001b[0m \u001b[1m0s\u001b[0m 1ms/step - attrition_output_accuracy: 0.8810 - attrition_output_loss: 0.3195 - department_output_accuracy: 0.6662 - department_output_loss: 0.7492 - loss: 1.0688 - val_attrition_output_accuracy: 0.8281 - val_attrition_output_loss: 0.4544 - val_department_output_accuracy: 0.6018 - val_department_output_loss: 0.8557 - val_loss: 1.3103\n",
      "Epoch 5/100\n",
      "\u001b[1m28/28\u001b[0m \u001b[32m━━━━━━━━━━━━━━━━━━━━\u001b[0m\u001b[37m\u001b[0m \u001b[1m0s\u001b[0m 1ms/step - attrition_output_accuracy: 0.8622 - attrition_output_loss: 0.3391 - department_output_accuracy: 0.6768 - department_output_loss: 0.7267 - loss: 1.0659 - val_attrition_output_accuracy: 0.8235 - val_attrition_output_loss: 0.4731 - val_department_output_accuracy: 0.6335 - val_department_output_loss: 0.8674 - val_loss: 1.3411\n",
      "Epoch 6/100\n",
      "\u001b[1m28/28\u001b[0m \u001b[32m━━━━━━━━━━━━━━━━━━━━\u001b[0m\u001b[37m\u001b[0m \u001b[1m0s\u001b[0m 1ms/step - attrition_output_accuracy: 0.8520 - attrition_output_loss: 0.3606 - department_output_accuracy: 0.6784 - department_output_loss: 0.7121 - loss: 1.0728 - val_attrition_output_accuracy: 0.8235 - val_attrition_output_loss: 0.4850 - val_department_output_accuracy: 0.6109 - val_department_output_loss: 0.8685 - val_loss: 1.3541\n",
      "Epoch 7/100\n",
      "\u001b[1m28/28\u001b[0m \u001b[32m━━━━━━━━━━━━━━━━━━━━\u001b[0m\u001b[37m\u001b[0m \u001b[1m0s\u001b[0m 1ms/step - attrition_output_accuracy: 0.8639 - attrition_output_loss: 0.3188 - department_output_accuracy: 0.6753 - department_output_loss: 0.7125 - loss: 1.0312 - val_attrition_output_accuracy: 0.8235 - val_attrition_output_loss: 0.4974 - val_department_output_accuracy: 0.6154 - val_department_output_loss: 0.8752 - val_loss: 1.3732\n",
      "Epoch 8/100\n",
      "\u001b[1m28/28\u001b[0m \u001b[32m━━━━━━━━━━━━━━━━━━━━\u001b[0m\u001b[37m\u001b[0m \u001b[1m0s\u001b[0m 1ms/step - attrition_output_accuracy: 0.8843 - attrition_output_loss: 0.2830 - department_output_accuracy: 0.6827 - department_output_loss: 0.7044 - loss: 0.9872 - val_attrition_output_accuracy: 0.8326 - val_attrition_output_loss: 0.4842 - val_department_output_accuracy: 0.6244 - val_department_output_loss: 0.8888 - val_loss: 1.3739\n",
      "Epoch 9/100\n",
      "\u001b[1m28/28\u001b[0m \u001b[32m━━━━━━━━━━━━━━━━━━━━\u001b[0m\u001b[37m\u001b[0m \u001b[1m0s\u001b[0m 3ms/step - attrition_output_accuracy: 0.8959 - attrition_output_loss: 0.2778 - department_output_accuracy: 0.6835 - department_output_loss: 0.6732 - loss: 0.9511 - val_attrition_output_accuracy: 0.8190 - val_attrition_output_loss: 0.4870 - val_department_output_accuracy: 0.6018 - val_department_output_loss: 0.8823 - val_loss: 1.3705\n",
      "Epoch 10/100\n",
      "\u001b[1m28/28\u001b[0m \u001b[32m━━━━━━━━━━━━━━━━━━━━\u001b[0m\u001b[37m\u001b[0m \u001b[1m0s\u001b[0m 1ms/step - attrition_output_accuracy: 0.8820 - attrition_output_loss: 0.2795 - department_output_accuracy: 0.7090 - department_output_loss: 0.6399 - loss: 0.9197 - val_attrition_output_accuracy: 0.8281 - val_attrition_output_loss: 0.5024 - val_department_output_accuracy: 0.5656 - val_department_output_loss: 0.8993 - val_loss: 1.4027\n",
      "Epoch 11/100\n",
      "\u001b[1m28/28\u001b[0m \u001b[32m━━━━━━━━━━━━━━━━━━━━\u001b[0m\u001b[37m\u001b[0m \u001b[1m0s\u001b[0m 1ms/step - attrition_output_accuracy: 0.8855 - attrition_output_loss: 0.2865 - department_output_accuracy: 0.7278 - department_output_loss: 0.6624 - loss: 0.9486 - val_attrition_output_accuracy: 0.8326 - val_attrition_output_loss: 0.5108 - val_department_output_accuracy: 0.6063 - val_department_output_loss: 0.9132 - val_loss: 1.4253\n",
      "Epoch 12/100\n",
      "\u001b[1m28/28\u001b[0m \u001b[32m━━━━━━━━━━━━━━━━━━━━\u001b[0m\u001b[37m\u001b[0m \u001b[1m0s\u001b[0m 1ms/step - attrition_output_accuracy: 0.9126 - attrition_output_loss: 0.2453 - department_output_accuracy: 0.6879 - department_output_loss: 0.6802 - loss: 0.9258 - val_attrition_output_accuracy: 0.8190 - val_attrition_output_loss: 0.5180 - val_department_output_accuracy: 0.6063 - val_department_output_loss: 0.9192 - val_loss: 1.4387\n",
      "Epoch 13/100\n",
      "\u001b[1m28/28\u001b[0m \u001b[32m━━━━━━━━━━━━━━━━━━━━\u001b[0m\u001b[37m\u001b[0m \u001b[1m0s\u001b[0m 1ms/step - attrition_output_accuracy: 0.9134 - attrition_output_loss: 0.2266 - department_output_accuracy: 0.7240 - department_output_loss: 0.6238 - loss: 0.8499 - val_attrition_output_accuracy: 0.8190 - val_attrition_output_loss: 0.5028 - val_department_output_accuracy: 0.5520 - val_department_output_loss: 0.9208 - val_loss: 1.4249\n",
      "Epoch 14/100\n",
      "\u001b[1m28/28\u001b[0m \u001b[32m━━━━━━━━━━━━━━━━━━━━\u001b[0m\u001b[37m\u001b[0m \u001b[1m0s\u001b[0m 1ms/step - attrition_output_accuracy: 0.9190 - attrition_output_loss: 0.2324 - department_output_accuracy: 0.7490 - department_output_loss: 0.6029 - loss: 0.8353 - val_attrition_output_accuracy: 0.8326 - val_attrition_output_loss: 0.5285 - val_department_output_accuracy: 0.5566 - val_department_output_loss: 0.9232 - val_loss: 1.4530\n",
      "Epoch 15/100\n",
      "\u001b[1m28/28\u001b[0m \u001b[32m━━━━━━━━━━━━━━━━━━━━\u001b[0m\u001b[37m\u001b[0m \u001b[1m0s\u001b[0m 1ms/step - attrition_output_accuracy: 0.9270 - attrition_output_loss: 0.2117 - department_output_accuracy: 0.7441 - department_output_loss: 0.6044 - loss: 0.8162 - val_attrition_output_accuracy: 0.8281 - val_attrition_output_loss: 0.5394 - val_department_output_accuracy: 0.6063 - val_department_output_loss: 0.9619 - val_loss: 1.5032\n",
      "Epoch 16/100\n",
      "\u001b[1m28/28\u001b[0m \u001b[32m━━━━━━━━━━━━━━━━━━━━\u001b[0m\u001b[37m\u001b[0m \u001b[1m0s\u001b[0m 1ms/step - attrition_output_accuracy: 0.9064 - attrition_output_loss: 0.2330 - department_output_accuracy: 0.7047 - department_output_loss: 0.6212 - loss: 0.8544 - val_attrition_output_accuracy: 0.8281 - val_attrition_output_loss: 0.5351 - val_department_output_accuracy: 0.5882 - val_department_output_loss: 0.9406 - val_loss: 1.4772\n",
      "Epoch 17/100\n",
      "\u001b[1m28/28\u001b[0m \u001b[32m━━━━━━━━━━━━━━━━━━━━\u001b[0m\u001b[37m\u001b[0m \u001b[1m0s\u001b[0m 1ms/step - attrition_output_accuracy: 0.9275 - attrition_output_loss: 0.2309 - department_output_accuracy: 0.7483 - department_output_loss: 0.5906 - loss: 0.8217 - val_attrition_output_accuracy: 0.8100 - val_attrition_output_loss: 0.5423 - val_department_output_accuracy: 0.5928 - val_department_output_loss: 0.9428 - val_loss: 1.4863\n",
      "Epoch 18/100\n",
      "\u001b[1m28/28\u001b[0m \u001b[32m━━━━━━━━━━━━━━━━━━━━\u001b[0m\u001b[37m\u001b[0m \u001b[1m0s\u001b[0m 1ms/step - attrition_output_accuracy: 0.9106 - attrition_output_loss: 0.2383 - department_output_accuracy: 0.7492 - department_output_loss: 0.5746 - loss: 0.8128 - val_attrition_output_accuracy: 0.8190 - val_attrition_output_loss: 0.5663 - val_department_output_accuracy: 0.5339 - val_department_output_loss: 0.9687 - val_loss: 1.5362\n",
      "Epoch 19/100\n",
      "\u001b[1m28/28\u001b[0m \u001b[32m━━━━━━━━━━━━━━━━━━━━\u001b[0m\u001b[37m\u001b[0m \u001b[1m0s\u001b[0m 1ms/step - attrition_output_accuracy: 0.9238 - attrition_output_loss: 0.2195 - department_output_accuracy: 0.7765 - department_output_loss: 0.5502 - loss: 0.7699 - val_attrition_output_accuracy: 0.8054 - val_attrition_output_loss: 0.5807 - val_department_output_accuracy: 0.5520 - val_department_output_loss: 0.9659 - val_loss: 1.5481\n",
      "Epoch 20/100\n",
      "\u001b[1m28/28\u001b[0m \u001b[32m━━━━━━━━━━━━━━━━━━━━\u001b[0m\u001b[37m\u001b[0m \u001b[1m0s\u001b[0m 1ms/step - attrition_output_accuracy: 0.9341 - attrition_output_loss: 0.1930 - department_output_accuracy: 0.7671 - department_output_loss: 0.5560 - loss: 0.7493 - val_attrition_output_accuracy: 0.8100 - val_attrition_output_loss: 0.5582 - val_department_output_accuracy: 0.5656 - val_department_output_loss: 0.9664 - val_loss: 1.5248\n",
      "Epoch 21/100\n",
      "\u001b[1m28/28\u001b[0m \u001b[32m━━━━━━━━━━━━━━━━━━━━\u001b[0m\u001b[37m\u001b[0m \u001b[1m0s\u001b[0m 1ms/step - attrition_output_accuracy: 0.9297 - attrition_output_loss: 0.1772 - department_output_accuracy: 0.7737 - department_output_loss: 0.5073 - loss: 0.6842 - val_attrition_output_accuracy: 0.7828 - val_attrition_output_loss: 0.5846 - val_department_output_accuracy: 0.5520 - val_department_output_loss: 0.9790 - val_loss: 1.5652\n",
      "Epoch 22/100\n",
      "\u001b[1m28/28\u001b[0m \u001b[32m━━━━━━━━━━━━━━━━━━━━\u001b[0m\u001b[37m\u001b[0m \u001b[1m0s\u001b[0m 1ms/step - attrition_output_accuracy: 0.9327 - attrition_output_loss: 0.1987 - department_output_accuracy: 0.7975 - department_output_loss: 0.5322 - loss: 0.7308 - val_attrition_output_accuracy: 0.8054 - val_attrition_output_loss: 0.6163 - val_department_output_accuracy: 0.5475 - val_department_output_loss: 1.0091 - val_loss: 1.6270\n",
      "Epoch 23/100\n",
      "\u001b[1m28/28\u001b[0m \u001b[32m━━━━━━━━━━━━━━━━━━━━\u001b[0m\u001b[37m\u001b[0m \u001b[1m0s\u001b[0m 1ms/step - attrition_output_accuracy: 0.9365 - attrition_output_loss: 0.1727 - department_output_accuracy: 0.8216 - department_output_loss: 0.4781 - loss: 0.6508 - val_attrition_output_accuracy: 0.8009 - val_attrition_output_loss: 0.6257 - val_department_output_accuracy: 0.5430 - val_department_output_loss: 0.9934 - val_loss: 1.6205\n",
      "Epoch 24/100\n",
      "\u001b[1m28/28\u001b[0m \u001b[32m━━━━━━━━━━━━━━━━━━━━\u001b[0m\u001b[37m\u001b[0m \u001b[1m0s\u001b[0m 1ms/step - attrition_output_accuracy: 0.9447 - attrition_output_loss: 0.1579 - department_output_accuracy: 0.8132 - department_output_loss: 0.4998 - loss: 0.6574 - val_attrition_output_accuracy: 0.8145 - val_attrition_output_loss: 0.6546 - val_department_output_accuracy: 0.5973 - val_department_output_loss: 1.0822 - val_loss: 1.7377\n",
      "Epoch 25/100\n",
      "\u001b[1m28/28\u001b[0m \u001b[32m━━━━━━━━━━━━━━━━━━━━\u001b[0m\u001b[37m\u001b[0m \u001b[1m0s\u001b[0m 1ms/step - attrition_output_accuracy: 0.9550 - attrition_output_loss: 0.1500 - department_output_accuracy: 0.8218 - department_output_loss: 0.4499 - loss: 0.5999 - val_attrition_output_accuracy: 0.7919 - val_attrition_output_loss: 0.6355 - val_department_output_accuracy: 0.5204 - val_department_output_loss: 1.0414 - val_loss: 1.6788\n",
      "Epoch 26/100\n",
      "\u001b[1m28/28\u001b[0m \u001b[32m━━━━━━━━━━━━━━━━━━━━\u001b[0m\u001b[37m\u001b[0m \u001b[1m0s\u001b[0m 1ms/step - attrition_output_accuracy: 0.9540 - attrition_output_loss: 0.1414 - department_output_accuracy: 0.8278 - department_output_loss: 0.4506 - loss: 0.5923 - val_attrition_output_accuracy: 0.8054 - val_attrition_output_loss: 0.6603 - val_department_output_accuracy: 0.5566 - val_department_output_loss: 1.0652 - val_loss: 1.7267\n",
      "Epoch 27/100\n",
      "\u001b[1m28/28\u001b[0m \u001b[32m━━━━━━━━━━━━━━━━━━━━\u001b[0m\u001b[37m\u001b[0m \u001b[1m0s\u001b[0m 1ms/step - attrition_output_accuracy: 0.9525 - attrition_output_loss: 0.1549 - department_output_accuracy: 0.8295 - department_output_loss: 0.4253 - loss: 0.5802 - val_attrition_output_accuracy: 0.7964 - val_attrition_output_loss: 0.6828 - val_department_output_accuracy: 0.5882 - val_department_output_loss: 1.1230 - val_loss: 1.8071\n",
      "Epoch 28/100\n",
      "\u001b[1m28/28\u001b[0m \u001b[32m━━━━━━━━━━━━━━━━━━━━\u001b[0m\u001b[37m\u001b[0m \u001b[1m0s\u001b[0m 1ms/step - attrition_output_accuracy: 0.9445 - attrition_output_loss: 0.1537 - department_output_accuracy: 0.7937 - department_output_loss: 0.4912 - loss: 0.6447 - val_attrition_output_accuracy: 0.7828 - val_attrition_output_loss: 0.7025 - val_department_output_accuracy: 0.5339 - val_department_output_loss: 1.1091 - val_loss: 1.8144\n",
      "Epoch 29/100\n",
      "\u001b[1m28/28\u001b[0m \u001b[32m━━━━━━━━━━━━━━━━━━━━\u001b[0m\u001b[37m\u001b[0m \u001b[1m0s\u001b[0m 1ms/step - attrition_output_accuracy: 0.9500 - attrition_output_loss: 0.1669 - department_output_accuracy: 0.8396 - department_output_loss: 0.4240 - loss: 0.5911 - val_attrition_output_accuracy: 0.8145 - val_attrition_output_loss: 0.7263 - val_department_output_accuracy: 0.5204 - val_department_output_loss: 1.1240 - val_loss: 1.8520\n",
      "Epoch 30/100\n",
      "\u001b[1m28/28\u001b[0m \u001b[32m━━━━━━━━━━━━━━━━━━━━\u001b[0m\u001b[37m\u001b[0m \u001b[1m0s\u001b[0m 1ms/step - attrition_output_accuracy: 0.9485 - attrition_output_loss: 0.1382 - department_output_accuracy: 0.8776 - department_output_loss: 0.3860 - loss: 0.5235 - val_attrition_output_accuracy: 0.7919 - val_attrition_output_loss: 0.7086 - val_department_output_accuracy: 0.5747 - val_department_output_loss: 1.1863 - val_loss: 1.8966\n",
      "Epoch 31/100\n",
      "\u001b[1m28/28\u001b[0m \u001b[32m━━━━━━━━━━━━━━━━━━━━\u001b[0m\u001b[37m\u001b[0m \u001b[1m0s\u001b[0m 1ms/step - attrition_output_accuracy: 0.9679 - attrition_output_loss: 0.1125 - department_output_accuracy: 0.8636 - department_output_loss: 0.3974 - loss: 0.5099 - val_attrition_output_accuracy: 0.7828 - val_attrition_output_loss: 0.7336 - val_department_output_accuracy: 0.5023 - val_department_output_loss: 1.1447 - val_loss: 1.8799\n",
      "Epoch 32/100\n",
      "\u001b[1m28/28\u001b[0m \u001b[32m━━━━━━━━━━━━━━━━━━━━\u001b[0m\u001b[37m\u001b[0m \u001b[1m0s\u001b[0m 3ms/step - attrition_output_accuracy: 0.9637 - attrition_output_loss: 0.1211 - department_output_accuracy: 0.8527 - department_output_loss: 0.3774 - loss: 0.4982 - val_attrition_output_accuracy: 0.8100 - val_attrition_output_loss: 0.7742 - val_department_output_accuracy: 0.5882 - val_department_output_loss: 1.2315 - val_loss: 2.0084\n",
      "Epoch 33/100\n",
      "\u001b[1m28/28\u001b[0m \u001b[32m━━━━━━━━━━━━━━━━━━━━\u001b[0m\u001b[37m\u001b[0m \u001b[1m0s\u001b[0m 1ms/step - attrition_output_accuracy: 0.9596 - attrition_output_loss: 0.1186 - department_output_accuracy: 0.8737 - department_output_loss: 0.3489 - loss: 0.4677 - val_attrition_output_accuracy: 0.8009 - val_attrition_output_loss: 0.8096 - val_department_output_accuracy: 0.5204 - val_department_output_loss: 1.1641 - val_loss: 1.9750\n",
      "Epoch 34/100\n",
      "\u001b[1m28/28\u001b[0m \u001b[32m━━━━━━━━━━━━━━━━━━━━\u001b[0m\u001b[37m\u001b[0m \u001b[1m0s\u001b[0m 3ms/step - attrition_output_accuracy: 0.9631 - attrition_output_loss: 0.1230 - department_output_accuracy: 0.8698 - department_output_loss: 0.3404 - loss: 0.4633 - val_attrition_output_accuracy: 0.8054 - val_attrition_output_loss: 0.7894 - val_department_output_accuracy: 0.5611 - val_department_output_loss: 1.2631 - val_loss: 2.0539\n",
      "Epoch 35/100\n",
      "\u001b[1m28/28\u001b[0m \u001b[32m━━━━━━━━━━━━━━━━━━━━\u001b[0m\u001b[37m\u001b[0m \u001b[1m0s\u001b[0m 1ms/step - attrition_output_accuracy: 0.9693 - attrition_output_loss: 0.1053 - department_output_accuracy: 0.8822 - department_output_loss: 0.3415 - loss: 0.4469 - val_attrition_output_accuracy: 0.8100 - val_attrition_output_loss: 0.8002 - val_department_output_accuracy: 0.5249 - val_department_output_loss: 1.2121 - val_loss: 2.0133\n",
      "Epoch 36/100\n",
      "\u001b[1m28/28\u001b[0m \u001b[32m━━━━━━━━━━━━━━━━━━━━\u001b[0m\u001b[37m\u001b[0m \u001b[1m0s\u001b[0m 1ms/step - attrition_output_accuracy: 0.9753 - attrition_output_loss: 0.0974 - department_output_accuracy: 0.8980 - department_output_loss: 0.3124 - loss: 0.4096 - val_attrition_output_accuracy: 0.8054 - val_attrition_output_loss: 0.8599 - val_department_output_accuracy: 0.5430 - val_department_output_loss: 1.3407 - val_loss: 2.2023\n",
      "Epoch 37/100\n",
      "\u001b[1m28/28\u001b[0m \u001b[32m━━━━━━━━━━━━━━━━━━━━\u001b[0m\u001b[37m\u001b[0m \u001b[1m0s\u001b[0m 1ms/step - attrition_output_accuracy: 0.9763 - attrition_output_loss: 0.0842 - department_output_accuracy: 0.8869 - department_output_loss: 0.3188 - loss: 0.4031 - val_attrition_output_accuracy: 0.8145 - val_attrition_output_loss: 0.8777 - val_department_output_accuracy: 0.5520 - val_department_output_loss: 1.3241 - val_loss: 2.2037\n",
      "Epoch 38/100\n",
      "\u001b[1m28/28\u001b[0m \u001b[32m━━━━━━━━━━━━━━━━━━━━\u001b[0m\u001b[37m\u001b[0m \u001b[1m0s\u001b[0m 1ms/step - attrition_output_accuracy: 0.9706 - attrition_output_loss: 0.0894 - department_output_accuracy: 0.8938 - department_output_loss: 0.2890 - loss: 0.3785 - val_attrition_output_accuracy: 0.8100 - val_attrition_output_loss: 0.8451 - val_department_output_accuracy: 0.5566 - val_department_output_loss: 1.2942 - val_loss: 2.1399\n",
      "Epoch 39/100\n",
      "\u001b[1m28/28\u001b[0m \u001b[32m━━━━━━━━━━━━━━━━━━━━\u001b[0m\u001b[37m\u001b[0m \u001b[1m0s\u001b[0m 1ms/step - attrition_output_accuracy: 0.9718 - attrition_output_loss: 0.0902 - department_output_accuracy: 0.8826 - department_output_loss: 0.2971 - loss: 0.3874 - val_attrition_output_accuracy: 0.7964 - val_attrition_output_loss: 0.8585 - val_department_output_accuracy: 0.5520 - val_department_output_loss: 1.3238 - val_loss: 2.1845\n",
      "Epoch 40/100\n",
      "\u001b[1m28/28\u001b[0m \u001b[32m━━━━━━━━━━━━━━━━━━━━\u001b[0m\u001b[37m\u001b[0m \u001b[1m0s\u001b[0m 1ms/step - attrition_output_accuracy: 0.9812 - attrition_output_loss: 0.0775 - department_output_accuracy: 0.9147 - department_output_loss: 0.2545 - loss: 0.3319 - val_attrition_output_accuracy: 0.7964 - val_attrition_output_loss: 0.9035 - val_department_output_accuracy: 0.5113 - val_department_output_loss: 1.3253 - val_loss: 2.2291\n",
      "Epoch 41/100\n",
      "\u001b[1m28/28\u001b[0m \u001b[32m━━━━━━━━━━━━━━━━━━━━\u001b[0m\u001b[37m\u001b[0m \u001b[1m0s\u001b[0m 1ms/step - attrition_output_accuracy: 0.9872 - attrition_output_loss: 0.0689 - department_output_accuracy: 0.9162 - department_output_loss: 0.2594 - loss: 0.3284 - val_attrition_output_accuracy: 0.8009 - val_attrition_output_loss: 0.9155 - val_department_output_accuracy: 0.5158 - val_department_output_loss: 1.3583 - val_loss: 2.2752\n",
      "Epoch 42/100\n",
      "\u001b[1m28/28\u001b[0m \u001b[32m━━━━━━━━━━━━━━━━━━━━\u001b[0m\u001b[37m\u001b[0m \u001b[1m0s\u001b[0m 1ms/step - attrition_output_accuracy: 0.9876 - attrition_output_loss: 0.0659 - department_output_accuracy: 0.9235 - department_output_loss: 0.2380 - loss: 0.3040 - val_attrition_output_accuracy: 0.7919 - val_attrition_output_loss: 0.9261 - val_department_output_accuracy: 0.5475 - val_department_output_loss: 1.4734 - val_loss: 2.4019\n",
      "Epoch 43/100\n",
      "\u001b[1m28/28\u001b[0m \u001b[32m━━━━━━━━━━━━━━━━━━━━\u001b[0m\u001b[37m\u001b[0m \u001b[1m0s\u001b[0m 1ms/step - attrition_output_accuracy: 0.9773 - attrition_output_loss: 0.0723 - department_output_accuracy: 0.9288 - department_output_loss: 0.2468 - loss: 0.3190 - val_attrition_output_accuracy: 0.7873 - val_attrition_output_loss: 0.9162 - val_department_output_accuracy: 0.5656 - val_department_output_loss: 1.4423 - val_loss: 2.3588\n",
      "Epoch 44/100\n",
      "\u001b[1m28/28\u001b[0m \u001b[32m━━━━━━━━━━━━━━━━━━━━\u001b[0m\u001b[37m\u001b[0m \u001b[1m0s\u001b[0m 1ms/step - attrition_output_accuracy: 0.9868 - attrition_output_loss: 0.0627 - department_output_accuracy: 0.9238 - department_output_loss: 0.2198 - loss: 0.2824 - val_attrition_output_accuracy: 0.7919 - val_attrition_output_loss: 0.9560 - val_department_output_accuracy: 0.5430 - val_department_output_loss: 1.4412 - val_loss: 2.3983\n",
      "Epoch 45/100\n",
      "\u001b[1m28/28\u001b[0m \u001b[32m━━━━━━━━━━━━━━━━━━━━\u001b[0m\u001b[37m\u001b[0m \u001b[1m0s\u001b[0m 1ms/step - attrition_output_accuracy: 0.9916 - attrition_output_loss: 0.0520 - department_output_accuracy: 0.9391 - department_output_loss: 0.2111 - loss: 0.2631 - val_attrition_output_accuracy: 0.7828 - val_attrition_output_loss: 0.9818 - val_department_output_accuracy: 0.5339 - val_department_output_loss: 1.4827 - val_loss: 2.4673\n",
      "Epoch 46/100\n",
      "\u001b[1m28/28\u001b[0m \u001b[32m━━━━━━━━━━━━━━━━━━━━\u001b[0m\u001b[37m\u001b[0m \u001b[1m0s\u001b[0m 1ms/step - attrition_output_accuracy: 0.9908 - attrition_output_loss: 0.0506 - department_output_accuracy: 0.9480 - department_output_loss: 0.2099 - loss: 0.2603 - val_attrition_output_accuracy: 0.8145 - val_attrition_output_loss: 1.0408 - val_department_output_accuracy: 0.5249 - val_department_output_loss: 1.5342 - val_loss: 2.5765\n",
      "Epoch 47/100\n",
      "\u001b[1m28/28\u001b[0m \u001b[32m━━━━━━━━━━━━━━━━━━━━\u001b[0m\u001b[37m\u001b[0m \u001b[1m0s\u001b[0m 1ms/step - attrition_output_accuracy: 0.9827 - attrition_output_loss: 0.0579 - department_output_accuracy: 0.9368 - department_output_loss: 0.1874 - loss: 0.2448 - val_attrition_output_accuracy: 0.7557 - val_attrition_output_loss: 1.0298 - val_department_output_accuracy: 0.5023 - val_department_output_loss: 1.6230 - val_loss: 2.6534\n",
      "Epoch 48/100\n",
      "\u001b[1m28/28\u001b[0m \u001b[32m━━━━━━━━━━━━━━━━━━━━\u001b[0m\u001b[37m\u001b[0m \u001b[1m0s\u001b[0m 1ms/step - attrition_output_accuracy: 0.9919 - attrition_output_loss: 0.0492 - department_output_accuracy: 0.9458 - department_output_loss: 0.1992 - loss: 0.2481 - val_attrition_output_accuracy: 0.7919 - val_attrition_output_loss: 1.1094 - val_department_output_accuracy: 0.5430 - val_department_output_loss: 1.6416 - val_loss: 2.7548\n",
      "Epoch 49/100\n",
      "\u001b[1m28/28\u001b[0m \u001b[32m━━━━━━━━━━━━━━━━━━━━\u001b[0m\u001b[37m\u001b[0m \u001b[1m0s\u001b[0m 1ms/step - attrition_output_accuracy: 0.9914 - attrition_output_loss: 0.0447 - department_output_accuracy: 0.9471 - department_output_loss: 0.1878 - loss: 0.2325 - val_attrition_output_accuracy: 0.7919 - val_attrition_output_loss: 1.0963 - val_department_output_accuracy: 0.5339 - val_department_output_loss: 1.6447 - val_loss: 2.7429\n",
      "Epoch 50/100\n",
      "\u001b[1m28/28\u001b[0m \u001b[32m━━━━━━━━━━━━━━━━━━━━\u001b[0m\u001b[37m\u001b[0m \u001b[1m0s\u001b[0m 1ms/step - attrition_output_accuracy: 0.9896 - attrition_output_loss: 0.0509 - department_output_accuracy: 0.9580 - department_output_loss: 0.1694 - loss: 0.2199 - val_attrition_output_accuracy: 0.8054 - val_attrition_output_loss: 1.1508 - val_department_output_accuracy: 0.5113 - val_department_output_loss: 1.6346 - val_loss: 2.7879\n",
      "Epoch 51/100\n",
      "\u001b[1m28/28\u001b[0m \u001b[32m━━━━━━━━━━━━━━━━━━━━\u001b[0m\u001b[37m\u001b[0m \u001b[1m0s\u001b[0m 3ms/step - attrition_output_accuracy: 0.9841 - attrition_output_loss: 0.0551 - department_output_accuracy: 0.9654 - department_output_loss: 0.1568 - loss: 0.2119 - val_attrition_output_accuracy: 0.7919 - val_attrition_output_loss: 1.1495 - val_department_output_accuracy: 0.5158 - val_department_output_loss: 1.6349 - val_loss: 2.7860\n",
      "Epoch 52/100\n",
      "\u001b[1m28/28\u001b[0m \u001b[32m━━━━━━━━━━━━━━━━━━━━\u001b[0m\u001b[37m\u001b[0m \u001b[1m0s\u001b[0m 1ms/step - attrition_output_accuracy: 0.9879 - attrition_output_loss: 0.0464 - department_output_accuracy: 0.9653 - department_output_loss: 0.1509 - loss: 0.1973 - val_attrition_output_accuracy: 0.8009 - val_attrition_output_loss: 1.1224 - val_department_output_accuracy: 0.5204 - val_department_output_loss: 1.6416 - val_loss: 2.7656\n",
      "Epoch 53/100\n",
      "\u001b[1m28/28\u001b[0m \u001b[32m━━━━━━━━━━━━━━━━━━━━\u001b[0m\u001b[37m\u001b[0m \u001b[1m0s\u001b[0m 1ms/step - attrition_output_accuracy: 0.9912 - attrition_output_loss: 0.0397 - department_output_accuracy: 0.9613 - department_output_loss: 0.1473 - loss: 0.1870 - val_attrition_output_accuracy: 0.8054 - val_attrition_output_loss: 1.1381 - val_department_output_accuracy: 0.5204 - val_department_output_loss: 1.7172 - val_loss: 2.8557\n",
      "Epoch 54/100\n",
      "\u001b[1m28/28\u001b[0m \u001b[32m━━━━━━━━━━━━━━━━━━━━\u001b[0m\u001b[37m\u001b[0m \u001b[1m0s\u001b[0m 1ms/step - attrition_output_accuracy: 0.9904 - attrition_output_loss: 0.0365 - department_output_accuracy: 0.9766 - department_output_loss: 0.1350 - loss: 0.1715 - val_attrition_output_accuracy: 0.7783 - val_attrition_output_loss: 1.2261 - val_department_output_accuracy: 0.5385 - val_department_output_loss: 1.7414 - val_loss: 2.9702\n",
      "Epoch 55/100\n",
      "\u001b[1m28/28\u001b[0m \u001b[32m━━━━━━━━━━━━━━━━━━━━\u001b[0m\u001b[37m\u001b[0m \u001b[1m0s\u001b[0m 1ms/step - attrition_output_accuracy: 0.9938 - attrition_output_loss: 0.0406 - department_output_accuracy: 0.9730 - department_output_loss: 0.1193 - loss: 0.1599 - val_attrition_output_accuracy: 0.7964 - val_attrition_output_loss: 1.1795 - val_department_output_accuracy: 0.5113 - val_department_output_loss: 1.7374 - val_loss: 2.9193\n",
      "Epoch 56/100\n",
      "\u001b[1m28/28\u001b[0m \u001b[32m━━━━━━━━━━━━━━━━━━━━\u001b[0m\u001b[37m\u001b[0m \u001b[1m0s\u001b[0m 1ms/step - attrition_output_accuracy: 0.9916 - attrition_output_loss: 0.0346 - department_output_accuracy: 0.9771 - department_output_loss: 0.1169 - loss: 0.1516 - val_attrition_output_accuracy: 0.8145 - val_attrition_output_loss: 1.3047 - val_department_output_accuracy: 0.4887 - val_department_output_loss: 1.7695 - val_loss: 3.0760\n",
      "Epoch 57/100\n",
      "\u001b[1m28/28\u001b[0m \u001b[32m━━━━━━━━━━━━━━━━━━━━\u001b[0m\u001b[37m\u001b[0m \u001b[1m0s\u001b[0m 1ms/step - attrition_output_accuracy: 0.9846 - attrition_output_loss: 0.0469 - department_output_accuracy: 0.9785 - department_output_loss: 0.1080 - loss: 0.1548 - val_attrition_output_accuracy: 0.7964 - val_attrition_output_loss: 1.2687 - val_department_output_accuracy: 0.5339 - val_department_output_loss: 1.8247 - val_loss: 3.0957\n",
      "Epoch 58/100\n",
      "\u001b[1m28/28\u001b[0m \u001b[32m━━━━━━━━━━━━━━━━━━━━\u001b[0m\u001b[37m\u001b[0m \u001b[1m0s\u001b[0m 1ms/step - attrition_output_accuracy: 0.9952 - attrition_output_loss: 0.0269 - department_output_accuracy: 0.9704 - department_output_loss: 0.1237 - loss: 0.1506 - val_attrition_output_accuracy: 0.8009 - val_attrition_output_loss: 1.2771 - val_department_output_accuracy: 0.5204 - val_department_output_loss: 1.8962 - val_loss: 3.1746\n",
      "Epoch 59/100\n",
      "\u001b[1m28/28\u001b[0m \u001b[32m━━━━━━━━━━━━━━━━━━━━\u001b[0m\u001b[37m\u001b[0m \u001b[1m0s\u001b[0m 1ms/step - attrition_output_accuracy: 0.9958 - attrition_output_loss: 0.0265 - department_output_accuracy: 0.9801 - department_output_loss: 0.1182 - loss: 0.1447 - val_attrition_output_accuracy: 0.7919 - val_attrition_output_loss: 1.2973 - val_department_output_accuracy: 0.5023 - val_department_output_loss: 1.8690 - val_loss: 3.1703\n",
      "Epoch 60/100\n",
      "\u001b[1m28/28\u001b[0m \u001b[32m━━━━━━━━━━━━━━━━━━━━\u001b[0m\u001b[37m\u001b[0m \u001b[1m0s\u001b[0m 1ms/step - attrition_output_accuracy: 0.9924 - attrition_output_loss: 0.0284 - department_output_accuracy: 0.9770 - department_output_loss: 0.1102 - loss: 0.1387 - val_attrition_output_accuracy: 0.8009 - val_attrition_output_loss: 1.3248 - val_department_output_accuracy: 0.5158 - val_department_output_loss: 1.9709 - val_loss: 3.2997\n",
      "Epoch 61/100\n",
      "\u001b[1m28/28\u001b[0m \u001b[32m━━━━━━━━━━━━━━━━━━━━\u001b[0m\u001b[37m\u001b[0m \u001b[1m0s\u001b[0m 1ms/step - attrition_output_accuracy: 0.9952 - attrition_output_loss: 0.0232 - department_output_accuracy: 0.9887 - department_output_loss: 0.0881 - loss: 0.1113 - val_attrition_output_accuracy: 0.7919 - val_attrition_output_loss: 1.3251 - val_department_output_accuracy: 0.5158 - val_department_output_loss: 1.9990 - val_loss: 3.3273\n",
      "Epoch 62/100\n",
      "\u001b[1m28/28\u001b[0m \u001b[32m━━━━━━━━━━━━━━━━━━━━\u001b[0m\u001b[37m\u001b[0m \u001b[1m0s\u001b[0m 1ms/step - attrition_output_accuracy: 0.9951 - attrition_output_loss: 0.0200 - department_output_accuracy: 0.9853 - department_output_loss: 0.0770 - loss: 0.0969 - val_attrition_output_accuracy: 0.8009 - val_attrition_output_loss: 1.3739 - val_department_output_accuracy: 0.5113 - val_department_output_loss: 1.9611 - val_loss: 3.3381\n",
      "Epoch 63/100\n",
      "\u001b[1m28/28\u001b[0m \u001b[32m━━━━━━━━━━━━━━━━━━━━\u001b[0m\u001b[37m\u001b[0m \u001b[1m0s\u001b[0m 1ms/step - attrition_output_accuracy: 0.9931 - attrition_output_loss: 0.0262 - department_output_accuracy: 0.9921 - department_output_loss: 0.0760 - loss: 0.1022 - val_attrition_output_accuracy: 0.7919 - val_attrition_output_loss: 1.3743 - val_department_output_accuracy: 0.5068 - val_department_output_loss: 2.0001 - val_loss: 3.3787\n",
      "Epoch 64/100\n",
      "\u001b[1m28/28\u001b[0m \u001b[32m━━━━━━━━━━━━━━━━━━━━\u001b[0m\u001b[37m\u001b[0m \u001b[1m0s\u001b[0m 1ms/step - attrition_output_accuracy: 0.9952 - attrition_output_loss: 0.0211 - department_output_accuracy: 0.9927 - department_output_loss: 0.0745 - loss: 0.0956 - val_attrition_output_accuracy: 0.7964 - val_attrition_output_loss: 1.3820 - val_department_output_accuracy: 0.5113 - val_department_output_loss: 2.0645 - val_loss: 3.4513\n",
      "Epoch 65/100\n",
      "\u001b[1m28/28\u001b[0m \u001b[32m━━━━━━━━━━━━━━━━━━━━\u001b[0m\u001b[37m\u001b[0m \u001b[1m0s\u001b[0m 1ms/step - attrition_output_accuracy: 0.9945 - attrition_output_loss: 0.0200 - department_output_accuracy: 0.9897 - department_output_loss: 0.0726 - loss: 0.0926 - val_attrition_output_accuracy: 0.8009 - val_attrition_output_loss: 1.3889 - val_department_output_accuracy: 0.5294 - val_department_output_loss: 2.0801 - val_loss: 3.4716\n",
      "Epoch 66/100\n",
      "\u001b[1m28/28\u001b[0m \u001b[32m━━━━━━━━━━━━━━━━━━━━\u001b[0m\u001b[37m\u001b[0m \u001b[1m0s\u001b[0m 1ms/step - attrition_output_accuracy: 0.9985 - attrition_output_loss: 0.0179 - department_output_accuracy: 0.9971 - department_output_loss: 0.0614 - loss: 0.0792 - val_attrition_output_accuracy: 0.7919 - val_attrition_output_loss: 1.4566 - val_department_output_accuracy: 0.5204 - val_department_output_loss: 2.0747 - val_loss: 3.5344\n",
      "Epoch 67/100\n",
      "\u001b[1m28/28\u001b[0m \u001b[32m━━━━━━━━━━━━━━━━━━━━\u001b[0m\u001b[37m\u001b[0m \u001b[1m0s\u001b[0m 1ms/step - attrition_output_accuracy: 0.9986 - attrition_output_loss: 0.0142 - department_output_accuracy: 0.9954 - department_output_loss: 0.0682 - loss: 0.0824 - val_attrition_output_accuracy: 0.8009 - val_attrition_output_loss: 1.4802 - val_department_output_accuracy: 0.4887 - val_department_output_loss: 2.0667 - val_loss: 3.5482\n",
      "Epoch 68/100\n",
      "\u001b[1m28/28\u001b[0m \u001b[32m━━━━━━━━━━━━━━━━━━━━\u001b[0m\u001b[37m\u001b[0m \u001b[1m0s\u001b[0m 1ms/step - attrition_output_accuracy: 0.9996 - attrition_output_loss: 0.0161 - department_output_accuracy: 0.9714 - department_output_loss: 0.0950 - loss: 0.1112 - val_attrition_output_accuracy: 0.7873 - val_attrition_output_loss: 1.5072 - val_department_output_accuracy: 0.5023 - val_department_output_loss: 2.1690 - val_loss: 3.6806\n",
      "Epoch 69/100\n",
      "\u001b[1m28/28\u001b[0m \u001b[32m━━━━━━━━━━━━━━━━━━━━\u001b[0m\u001b[37m\u001b[0m \u001b[1m0s\u001b[0m 1ms/step - attrition_output_accuracy: 0.9988 - attrition_output_loss: 0.0152 - department_output_accuracy: 0.9929 - department_output_loss: 0.0672 - loss: 0.0824 - val_attrition_output_accuracy: 0.8054 - val_attrition_output_loss: 1.5269 - val_department_output_accuracy: 0.5113 - val_department_output_loss: 2.3083 - val_loss: 3.8415\n",
      "Epoch 70/100\n",
      "\u001b[1m28/28\u001b[0m \u001b[32m━━━━━━━━━━━━━━━━━━━━\u001b[0m\u001b[37m\u001b[0m \u001b[1m0s\u001b[0m 1ms/step - attrition_output_accuracy: 0.9989 - attrition_output_loss: 0.0180 - department_output_accuracy: 0.9831 - department_output_loss: 0.0814 - loss: 0.0995 - val_attrition_output_accuracy: 0.7783 - val_attrition_output_loss: 1.5068 - val_department_output_accuracy: 0.5204 - val_department_output_loss: 2.1955 - val_loss: 3.7054\n",
      "Epoch 71/100\n",
      "\u001b[1m28/28\u001b[0m \u001b[32m━━━━━━━━━━━━━━━━━━━━\u001b[0m\u001b[37m\u001b[0m \u001b[1m0s\u001b[0m 1ms/step - attrition_output_accuracy: 0.9995 - attrition_output_loss: 0.0142 - department_output_accuracy: 0.9907 - department_output_loss: 0.0581 - loss: 0.0723 - val_attrition_output_accuracy: 0.7964 - val_attrition_output_loss: 1.5333 - val_department_output_accuracy: 0.5158 - val_department_output_loss: 2.2747 - val_loss: 3.8116\n",
      "Epoch 72/100\n",
      "\u001b[1m28/28\u001b[0m \u001b[32m━━━━━━━━━━━━━━━━━━━━\u001b[0m\u001b[37m\u001b[0m \u001b[1m0s\u001b[0m 1ms/step - attrition_output_accuracy: 0.9964 - attrition_output_loss: 0.0161 - department_output_accuracy: 0.9939 - department_output_loss: 0.0525 - loss: 0.0685 - val_attrition_output_accuracy: 0.7828 - val_attrition_output_loss: 1.5454 - val_department_output_accuracy: 0.4842 - val_department_output_loss: 2.2458 - val_loss: 3.7949\n",
      "Epoch 73/100\n",
      "\u001b[1m28/28\u001b[0m \u001b[32m━━━━━━━━━━━━━━━━━━━━\u001b[0m\u001b[37m\u001b[0m \u001b[1m0s\u001b[0m 1ms/step - attrition_output_accuracy: 0.9998 - attrition_output_loss: 0.0123 - department_output_accuracy: 0.9993 - department_output_loss: 0.0506 - loss: 0.0629 - val_attrition_output_accuracy: 0.7919 - val_attrition_output_loss: 1.5996 - val_department_output_accuracy: 0.5430 - val_department_output_loss: 2.3491 - val_loss: 3.9527\n",
      "Epoch 74/100\n",
      "\u001b[1m28/28\u001b[0m \u001b[32m━━━━━━━━━━━━━━━━━━━━\u001b[0m\u001b[37m\u001b[0m \u001b[1m0s\u001b[0m 1ms/step - attrition_output_accuracy: 0.9997 - attrition_output_loss: 0.0091 - department_output_accuracy: 0.9978 - department_output_loss: 0.0448 - loss: 0.0539 - val_attrition_output_accuracy: 0.7873 - val_attrition_output_loss: 1.5677 - val_department_output_accuracy: 0.5294 - val_department_output_loss: 2.3768 - val_loss: 3.9512\n",
      "Epoch 75/100\n",
      "\u001b[1m28/28\u001b[0m \u001b[32m━━━━━━━━━━━━━━━━━━━━\u001b[0m\u001b[37m\u001b[0m \u001b[1m0s\u001b[0m 1ms/step - attrition_output_accuracy: 0.9974 - attrition_output_loss: 0.0158 - department_output_accuracy: 0.9953 - department_output_loss: 0.0510 - loss: 0.0668 - val_attrition_output_accuracy: 0.7964 - val_attrition_output_loss: 1.6370 - val_department_output_accuracy: 0.5204 - val_department_output_loss: 2.4726 - val_loss: 4.1143\n",
      "Epoch 76/100\n",
      "\u001b[1m28/28\u001b[0m \u001b[32m━━━━━━━━━━━━━━━━━━━━\u001b[0m\u001b[37m\u001b[0m \u001b[1m0s\u001b[0m 1ms/step - attrition_output_accuracy: 1.0000 - attrition_output_loss: 0.0103 - department_output_accuracy: 0.9971 - department_output_loss: 0.0434 - loss: 0.0537 - val_attrition_output_accuracy: 0.8054 - val_attrition_output_loss: 1.6636 - val_department_output_accuracy: 0.5249 - val_department_output_loss: 2.4386 - val_loss: 4.1058\n",
      "Epoch 77/100\n",
      "\u001b[1m28/28\u001b[0m \u001b[32m━━━━━━━━━━━━━━━━━━━━\u001b[0m\u001b[37m\u001b[0m \u001b[1m0s\u001b[0m 1ms/step - attrition_output_accuracy: 0.9981 - attrition_output_loss: 0.0105 - department_output_accuracy: 0.9893 - department_output_loss: 0.0502 - loss: 0.0607 - val_attrition_output_accuracy: 0.7964 - val_attrition_output_loss: 1.6060 - val_department_output_accuracy: 0.5204 - val_department_output_loss: 2.4274 - val_loss: 4.0377\n",
      "Epoch 78/100\n",
      "\u001b[1m28/28\u001b[0m \u001b[32m━━━━━━━━━━━━━━━━━━━━\u001b[0m\u001b[37m\u001b[0m \u001b[1m0s\u001b[0m 1ms/step - attrition_output_accuracy: 1.0000 - attrition_output_loss: 0.0076 - department_output_accuracy: 0.9983 - department_output_loss: 0.0373 - loss: 0.0448 - val_attrition_output_accuracy: 0.8009 - val_attrition_output_loss: 1.6374 - val_department_output_accuracy: 0.5249 - val_department_output_loss: 2.3717 - val_loss: 4.0121\n",
      "Epoch 79/100\n",
      "\u001b[1m28/28\u001b[0m \u001b[32m━━━━━━━━━━━━━━━━━━━━\u001b[0m\u001b[37m\u001b[0m \u001b[1m0s\u001b[0m 1ms/step - attrition_output_accuracy: 1.0000 - attrition_output_loss: 0.0093 - department_output_accuracy: 0.9961 - department_output_loss: 0.0433 - loss: 0.0526 - val_attrition_output_accuracy: 0.8009 - val_attrition_output_loss: 1.6939 - val_department_output_accuracy: 0.5023 - val_department_output_loss: 2.3986 - val_loss: 4.0967\n",
      "Epoch 80/100\n",
      "\u001b[1m28/28\u001b[0m \u001b[32m━━━━━━━━━━━━━━━━━━━━\u001b[0m\u001b[37m\u001b[0m \u001b[1m0s\u001b[0m 1ms/step - attrition_output_accuracy: 0.9999 - attrition_output_loss: 0.0082 - department_output_accuracy: 0.9988 - department_output_loss: 0.0386 - loss: 0.0469 - val_attrition_output_accuracy: 0.7919 - val_attrition_output_loss: 1.6945 - val_department_output_accuracy: 0.5204 - val_department_output_loss: 2.3874 - val_loss: 4.0825\n",
      "Epoch 81/100\n",
      "\u001b[1m28/28\u001b[0m \u001b[32m━━━━━━━━━━━━━━━━━━━━\u001b[0m\u001b[37m\u001b[0m \u001b[1m0s\u001b[0m 1ms/step - attrition_output_accuracy: 1.0000 - attrition_output_loss: 0.0069 - department_output_accuracy: 0.9993 - department_output_loss: 0.0327 - loss: 0.0396 - val_attrition_output_accuracy: 0.7964 - val_attrition_output_loss: 1.6772 - val_department_output_accuracy: 0.5068 - val_department_output_loss: 2.4105 - val_loss: 4.0899\n",
      "Epoch 82/100\n",
      "\u001b[1m28/28\u001b[0m \u001b[32m━━━━━━━━━━━━━━━━━━━━\u001b[0m\u001b[37m\u001b[0m \u001b[1m0s\u001b[0m 1ms/step - attrition_output_accuracy: 1.0000 - attrition_output_loss: 0.0075 - department_output_accuracy: 0.9962 - department_output_loss: 0.0407 - loss: 0.0482 - val_attrition_output_accuracy: 0.8009 - val_attrition_output_loss: 1.7386 - val_department_output_accuracy: 0.5158 - val_department_output_loss: 2.5531 - val_loss: 4.2948\n",
      "Epoch 83/100\n",
      "\u001b[1m28/28\u001b[0m \u001b[32m━━━━━━━━━━━━━━━━━━━━\u001b[0m\u001b[37m\u001b[0m \u001b[1m0s\u001b[0m 1ms/step - attrition_output_accuracy: 1.0000 - attrition_output_loss: 0.0072 - department_output_accuracy: 0.9982 - department_output_loss: 0.0315 - loss: 0.0386 - val_attrition_output_accuracy: 0.7919 - val_attrition_output_loss: 1.7441 - val_department_output_accuracy: 0.5249 - val_department_output_loss: 2.5996 - val_loss: 4.3486\n",
      "Epoch 84/100\n",
      "\u001b[1m28/28\u001b[0m \u001b[32m━━━━━━━━━━━━━━━━━━━━\u001b[0m\u001b[37m\u001b[0m \u001b[1m0s\u001b[0m 1ms/step - attrition_output_accuracy: 0.9998 - attrition_output_loss: 0.0065 - department_output_accuracy: 0.9958 - department_output_loss: 0.0327 - loss: 0.0392 - val_attrition_output_accuracy: 0.7873 - val_attrition_output_loss: 1.7591 - val_department_output_accuracy: 0.5023 - val_department_output_loss: 2.6044 - val_loss: 4.3690\n",
      "Epoch 85/100\n",
      "\u001b[1m28/28\u001b[0m \u001b[32m━━━━━━━━━━━━━━━━━━━━\u001b[0m\u001b[37m\u001b[0m \u001b[1m0s\u001b[0m 1ms/step - attrition_output_accuracy: 0.9990 - attrition_output_loss: 0.0100 - department_output_accuracy: 0.9978 - department_output_loss: 0.0282 - loss: 0.0382 - val_attrition_output_accuracy: 0.8009 - val_attrition_output_loss: 1.7861 - val_department_output_accuracy: 0.5204 - val_department_output_loss: 2.5688 - val_loss: 4.3587\n",
      "Epoch 86/100\n",
      "\u001b[1m28/28\u001b[0m \u001b[32m━━━━━━━━━━━━━━━━━━━━\u001b[0m\u001b[37m\u001b[0m \u001b[1m0s\u001b[0m 1ms/step - attrition_output_accuracy: 1.0000 - attrition_output_loss: 0.0057 - department_output_accuracy: 0.9993 - department_output_loss: 0.0245 - loss: 0.0302 - val_attrition_output_accuracy: 0.7873 - val_attrition_output_loss: 1.7911 - val_department_output_accuracy: 0.5113 - val_department_output_loss: 2.6759 - val_loss: 4.4714\n",
      "Epoch 87/100\n",
      "\u001b[1m28/28\u001b[0m \u001b[32m━━━━━━━━━━━━━━━━━━━━\u001b[0m\u001b[37m\u001b[0m \u001b[1m0s\u001b[0m 1ms/step - attrition_output_accuracy: 1.0000 - attrition_output_loss: 0.0053 - department_output_accuracy: 0.9993 - department_output_loss: 0.0241 - loss: 0.0294 - val_attrition_output_accuracy: 0.8054 - val_attrition_output_loss: 1.8502 - val_department_output_accuracy: 0.5249 - val_department_output_loss: 2.5597 - val_loss: 4.4112\n",
      "Epoch 88/100\n",
      "\u001b[1m28/28\u001b[0m \u001b[32m━━━━━━━━━━━━━━━━━━━━\u001b[0m\u001b[37m\u001b[0m \u001b[1m0s\u001b[0m 1ms/step - attrition_output_accuracy: 0.9981 - attrition_output_loss: 0.0082 - department_output_accuracy: 0.9975 - department_output_loss: 0.0321 - loss: 0.0403 - val_attrition_output_accuracy: 0.7964 - val_attrition_output_loss: 1.8338 - val_department_output_accuracy: 0.5294 - val_department_output_loss: 2.6481 - val_loss: 4.4844\n",
      "Epoch 89/100\n",
      "\u001b[1m28/28\u001b[0m \u001b[32m━━━━━━━━━━━━━━━━━━━━\u001b[0m\u001b[37m\u001b[0m \u001b[1m0s\u001b[0m 1ms/step - attrition_output_accuracy: 1.0000 - attrition_output_loss: 0.0083 - department_output_accuracy: 0.9987 - department_output_loss: 0.0278 - loss: 0.0361 - val_attrition_output_accuracy: 0.7828 - val_attrition_output_loss: 1.8656 - val_department_output_accuracy: 0.5249 - val_department_output_loss: 2.6126 - val_loss: 4.4796\n",
      "Epoch 90/100\n",
      "\u001b[1m28/28\u001b[0m \u001b[32m━━━━━━━━━━━━━━━━━━━━\u001b[0m\u001b[37m\u001b[0m \u001b[1m0s\u001b[0m 1ms/step - attrition_output_accuracy: 0.9990 - attrition_output_loss: 0.0071 - department_output_accuracy: 0.9972 - department_output_loss: 0.0263 - loss: 0.0334 - val_attrition_output_accuracy: 0.7873 - val_attrition_output_loss: 1.8957 - val_department_output_accuracy: 0.5068 - val_department_output_loss: 2.7094 - val_loss: 4.6068\n",
      "Epoch 91/100\n",
      "\u001b[1m28/28\u001b[0m \u001b[32m━━━━━━━━━━━━━━━━━━━━\u001b[0m\u001b[37m\u001b[0m \u001b[1m0s\u001b[0m 1ms/step - attrition_output_accuracy: 0.9982 - attrition_output_loss: 0.0060 - department_output_accuracy: 0.9969 - department_output_loss: 0.0243 - loss: 0.0303 - val_attrition_output_accuracy: 0.7919 - val_attrition_output_loss: 1.9198 - val_department_output_accuracy: 0.5204 - val_department_output_loss: 2.6751 - val_loss: 4.5978\n",
      "Epoch 92/100\n",
      "\u001b[1m28/28\u001b[0m \u001b[32m━━━━━━━━━━━━━━━━━━━━\u001b[0m\u001b[37m\u001b[0m \u001b[1m0s\u001b[0m 1ms/step - attrition_output_accuracy: 0.9977 - attrition_output_loss: 0.0085 - department_output_accuracy: 0.9986 - department_output_loss: 0.0231 - loss: 0.0316 - val_attrition_output_accuracy: 0.8145 - val_attrition_output_loss: 1.9274 - val_department_output_accuracy: 0.5339 - val_department_output_loss: 2.8357 - val_loss: 4.7670\n",
      "Epoch 93/100\n",
      "\u001b[1m28/28\u001b[0m \u001b[32m━━━━━━━━━━━━━━━━━━━━\u001b[0m\u001b[37m\u001b[0m \u001b[1m0s\u001b[0m 1ms/step - attrition_output_accuracy: 0.9973 - attrition_output_loss: 0.0109 - department_output_accuracy: 0.9983 - department_output_loss: 0.0245 - loss: 0.0354 - val_attrition_output_accuracy: 0.8054 - val_attrition_output_loss: 1.9512 - val_department_output_accuracy: 0.5068 - val_department_output_loss: 2.8704 - val_loss: 4.8269\n",
      "Epoch 94/100\n",
      "\u001b[1m28/28\u001b[0m \u001b[32m━━━━━━━━━━━━━━━━━━━━\u001b[0m\u001b[37m\u001b[0m \u001b[1m0s\u001b[0m 2ms/step - attrition_output_accuracy: 0.9990 - attrition_output_loss: 0.0077 - department_output_accuracy: 0.9974 - department_output_loss: 0.0235 - loss: 0.0311 - val_attrition_output_accuracy: 0.7738 - val_attrition_output_loss: 2.0060 - val_department_output_accuracy: 0.5339 - val_department_output_loss: 2.8505 - val_loss: 4.8620\n",
      "Epoch 95/100\n",
      "\u001b[1m28/28\u001b[0m \u001b[32m━━━━━━━━━━━━━━━━━━━━\u001b[0m\u001b[37m\u001b[0m \u001b[1m0s\u001b[0m 1ms/step - attrition_output_accuracy: 0.9972 - attrition_output_loss: 0.0137 - department_output_accuracy: 0.9914 - department_output_loss: 0.0390 - loss: 0.0527 - val_attrition_output_accuracy: 0.8190 - val_attrition_output_loss: 1.9837 - val_department_output_accuracy: 0.5475 - val_department_output_loss: 3.0281 - val_loss: 5.0160\n",
      "Epoch 96/100\n",
      "\u001b[1m28/28\u001b[0m \u001b[32m━━━━━━━━━━━━━━━━━━━━\u001b[0m\u001b[37m\u001b[0m \u001b[1m0s\u001b[0m 1ms/step - attrition_output_accuracy: 0.9855 - attrition_output_loss: 0.0481 - department_output_accuracy: 0.9258 - department_output_loss: 0.1696 - loss: 0.2174 - val_attrition_output_accuracy: 0.7783 - val_attrition_output_loss: 1.7750 - val_department_output_accuracy: 0.5475 - val_department_output_loss: 2.9780 - val_loss: 4.7613\n",
      "Epoch 97/100\n",
      "\u001b[1m28/28\u001b[0m \u001b[32m━━━━━━━━━━━━━━━━━━━━\u001b[0m\u001b[37m\u001b[0m \u001b[1m0s\u001b[0m 1ms/step - attrition_output_accuracy: 0.9936 - attrition_output_loss: 0.0308 - department_output_accuracy: 0.9519 - department_output_loss: 0.1222 - loss: 0.1527 - val_attrition_output_accuracy: 0.7828 - val_attrition_output_loss: 1.8723 - val_department_output_accuracy: 0.5339 - val_department_output_loss: 2.9671 - val_loss: 4.8490\n",
      "Epoch 98/100\n",
      "\u001b[1m28/28\u001b[0m \u001b[32m━━━━━━━━━━━━━━━━━━━━\u001b[0m\u001b[37m\u001b[0m \u001b[1m0s\u001b[0m 1ms/step - attrition_output_accuracy: 0.9921 - attrition_output_loss: 0.0182 - department_output_accuracy: 0.9727 - department_output_loss: 0.0778 - loss: 0.0961 - val_attrition_output_accuracy: 0.7738 - val_attrition_output_loss: 1.8613 - val_department_output_accuracy: 0.4977 - val_department_output_loss: 2.7554 - val_loss: 4.6291\n",
      "Epoch 99/100\n",
      "\u001b[1m28/28\u001b[0m \u001b[32m━━━━━━━━━━━━━━━━━━━━\u001b[0m\u001b[37m\u001b[0m \u001b[1m0s\u001b[0m 1ms/step - attrition_output_accuracy: 0.9961 - attrition_output_loss: 0.0159 - department_output_accuracy: 0.9897 - department_output_loss: 0.0395 - loss: 0.0554 - val_attrition_output_accuracy: 0.7873 - val_attrition_output_loss: 1.8930 - val_department_output_accuracy: 0.5475 - val_department_output_loss: 2.7650 - val_loss: 4.6676\n",
      "Epoch 100/100\n",
      "\u001b[1m28/28\u001b[0m \u001b[32m━━━━━━━━━━━━━━━━━━━━\u001b[0m\u001b[37m\u001b[0m \u001b[1m0s\u001b[0m 1ms/step - attrition_output_accuracy: 0.9984 - attrition_output_loss: 0.0116 - department_output_accuracy: 0.9968 - department_output_loss: 0.0290 - loss: 0.0406 - val_attrition_output_accuracy: 0.7964 - val_attrition_output_loss: 1.9817 - val_department_output_accuracy: 0.5249 - val_department_output_loss: 2.7260 - val_loss: 4.7140\n"
     ]
    },
    {
     "data": {
      "text/plain": [
       "<keras.src.callbacks.history.History at 0x318e85dd0>"
      ]
     },
     "execution_count": 120,
     "metadata": {},
     "output_type": "execute_result"
    }
   ],
   "source": [
    "# Train the model\n",
    "model.fit(\n",
    "    X_train_post_scaled,\n",
    "    {\n",
    "        'department_output': dept_encoded_train_df,\n",
    "        'attrition_output': attrition_encoded_train_df,\n",
    "    },\n",
    "    epochs=100,  \n",
    "    batch_size=32, \n",
    "    validation_split=0.2\n",
    ")"
   ]
  },
  {
   "cell_type": "code",
   "execution_count": 126,
   "metadata": {
    "colab": {
     "base_uri": "https://localhost:8080/"
    },
    "id": "VsMoaQlgGc3U",
    "outputId": "1bd4e601-e964-4abc-ad83-aeecf6b696be"
   },
   "outputs": [
    {
     "name": "stdout",
     "output_type": "stream",
     "text": [
      "\u001b[1m12/12\u001b[0m \u001b[32m━━━━━━━━━━━━━━━━━━━━\u001b[0m\u001b[37m\u001b[0m \u001b[1m0s\u001b[0m 1ms/step - attrition_output_accuracy: 0.7898 - attrition_output_loss: 24.9922 - department_output_accuracy: 0.5397 - department_output_loss: 41.5114 - loss: 66.7904\n"
     ]
    },
    {
     "data": {
      "text/plain": [
       "[65.26966094970703,\n",
       " 22.50933265686035,\n",
       " 40.8958625793457,\n",
       " 0.8152173757553101,\n",
       " 0.5570651888847351]"
      ]
     },
     "execution_count": 126,
     "metadata": {},
     "output_type": "execute_result"
    }
   ],
   "source": [
    "# Evaluate the model with the testing data\n",
    "results = model.evaluate(np.array(X_test), {\n",
    "        'department_output': dept_encoded_test_df,\n",
    "        'attrition_output': attrition_encoded_test_df\n",
    "    })\n",
    "results"
   ]
  },
  {
   "cell_type": "code",
   "execution_count": 57,
   "metadata": {
    "colab": {
     "base_uri": "https://localhost:8080/"
    },
    "id": "ZlCtlHi0Vt54",
    "outputId": "bc21ef3e-80c2-4b38-9c29-79515bc23dec"
   },
   "outputs": [],
   "source": [
    "# Print the accuracy for both department and attrition\n"
   ]
  },
  {
   "cell_type": "markdown",
   "metadata": {
    "id": "eGSyfsZfWOQM"
   },
   "source": [
    "# Summary\n",
    "\n",
    "In the provided space below, briefly answer the following questions.\n",
    "\n",
    "1. Is accuracy the best metric to use on this data? Why or why not?\n",
    "\n",
    "2. What activation functions did you choose for your output layers, and why?\n",
    "\n",
    "3. Can you name a few ways that this model might be improved?"
   ]
  },
  {
   "cell_type": "markdown",
   "metadata": {
    "id": "pi9SLpFnWvbF"
   },
   "source": [
    "YOUR ANSWERS HERE\n",
    "\n",
    "1. \n",
    "2. \n",
    "3. "
   ]
  },
  {
   "cell_type": "markdown",
   "metadata": {},
   "source": []
  }
 ],
 "metadata": {
  "colab": {
   "provenance": []
  },
  "kernelspec": {
   "display_name": "Python 3 (ipykernel)",
   "language": "python",
   "name": "python3"
  },
  "language_info": {
   "codemirror_mode": {
    "name": "ipython",
    "version": 3
   },
   "file_extension": ".py",
   "mimetype": "text/x-python",
   "name": "python",
   "nbconvert_exporter": "python",
   "pygments_lexer": "ipython3",
   "version": "3.11.7"
  },
  "vscode": {
   "interpreter": {
    "hash": "31f2aee4e71d21fbe5cf8b01ff0e069b9275f58929596ceb00d14d90e3e16cd6"
   }
  }
 },
 "nbformat": 4,
 "nbformat_minor": 4
}
