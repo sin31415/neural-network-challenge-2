{
 "cells": [
  {
   "cell_type": "markdown",
   "metadata": {
    "id": "alIIEHibGc3M"
   },
   "source": [
    "## Part 1: Preprocessing"
   ]
  },
  {
   "cell_type": "code",
   "execution_count": 2,
   "metadata": {
    "colab": {
     "base_uri": "https://localhost:8080/",
     "height": 325
    },
    "id": "6eDUJ4NtGc3P",
    "outputId": "2480098c-135c-4cbf-9552-018494ee8ff5"
   },
   "outputs": [],
   "source": [
    "# Import our dependencies\n",
    "from sklearn.model_selection import train_test_split\n",
    "from sklearn.preprocessing import StandardScaler\n",
    "import pandas as pd\n",
    "import numpy as np\n",
    "import tensorflow as tf\n",
    "from tensorflow.keras.models import Model\n",
    "from tensorflow.keras import layers\n",
    "from sklearn.preprocessing import OneHotEncoder, LabelEncoder"
   ]
  },
  {
   "cell_type": "code",
   "execution_count": 3,
   "metadata": {
    "colab": {
     "base_uri": "https://localhost:8080/",
     "height": 325
    },
    "id": "6eDUJ4NtGc3P",
    "outputId": "2480098c-135c-4cbf-9552-018494ee8ff5"
   },
   "outputs": [
    {
     "data": {
      "text/html": [
       "<div>\n",
       "<style scoped>\n",
       "    .dataframe tbody tr th:only-of-type {\n",
       "        vertical-align: middle;\n",
       "    }\n",
       "\n",
       "    .dataframe tbody tr th {\n",
       "        vertical-align: top;\n",
       "    }\n",
       "\n",
       "    .dataframe thead th {\n",
       "        text-align: right;\n",
       "    }\n",
       "</style>\n",
       "<table border=\"1\" class=\"dataframe\">\n",
       "  <thead>\n",
       "    <tr style=\"text-align: right;\">\n",
       "      <th></th>\n",
       "      <th>Age</th>\n",
       "      <th>Attrition</th>\n",
       "      <th>BusinessTravel</th>\n",
       "      <th>Department</th>\n",
       "      <th>DistanceFromHome</th>\n",
       "      <th>Education</th>\n",
       "      <th>EducationField</th>\n",
       "      <th>EnvironmentSatisfaction</th>\n",
       "      <th>HourlyRate</th>\n",
       "      <th>JobInvolvement</th>\n",
       "      <th>...</th>\n",
       "      <th>PerformanceRating</th>\n",
       "      <th>RelationshipSatisfaction</th>\n",
       "      <th>StockOptionLevel</th>\n",
       "      <th>TotalWorkingYears</th>\n",
       "      <th>TrainingTimesLastYear</th>\n",
       "      <th>WorkLifeBalance</th>\n",
       "      <th>YearsAtCompany</th>\n",
       "      <th>YearsInCurrentRole</th>\n",
       "      <th>YearsSinceLastPromotion</th>\n",
       "      <th>YearsWithCurrManager</th>\n",
       "    </tr>\n",
       "  </thead>\n",
       "  <tbody>\n",
       "    <tr>\n",
       "      <th>0</th>\n",
       "      <td>41</td>\n",
       "      <td>Yes</td>\n",
       "      <td>Travel_Rarely</td>\n",
       "      <td>Sales</td>\n",
       "      <td>1</td>\n",
       "      <td>2</td>\n",
       "      <td>Life Sciences</td>\n",
       "      <td>2</td>\n",
       "      <td>94</td>\n",
       "      <td>3</td>\n",
       "      <td>...</td>\n",
       "      <td>3</td>\n",
       "      <td>1</td>\n",
       "      <td>0</td>\n",
       "      <td>8</td>\n",
       "      <td>0</td>\n",
       "      <td>1</td>\n",
       "      <td>6</td>\n",
       "      <td>4</td>\n",
       "      <td>0</td>\n",
       "      <td>5</td>\n",
       "    </tr>\n",
       "    <tr>\n",
       "      <th>1</th>\n",
       "      <td>49</td>\n",
       "      <td>No</td>\n",
       "      <td>Travel_Frequently</td>\n",
       "      <td>Research &amp; Development</td>\n",
       "      <td>8</td>\n",
       "      <td>1</td>\n",
       "      <td>Life Sciences</td>\n",
       "      <td>3</td>\n",
       "      <td>61</td>\n",
       "      <td>2</td>\n",
       "      <td>...</td>\n",
       "      <td>4</td>\n",
       "      <td>4</td>\n",
       "      <td>1</td>\n",
       "      <td>10</td>\n",
       "      <td>3</td>\n",
       "      <td>3</td>\n",
       "      <td>10</td>\n",
       "      <td>7</td>\n",
       "      <td>1</td>\n",
       "      <td>7</td>\n",
       "    </tr>\n",
       "    <tr>\n",
       "      <th>2</th>\n",
       "      <td>37</td>\n",
       "      <td>Yes</td>\n",
       "      <td>Travel_Rarely</td>\n",
       "      <td>Research &amp; Development</td>\n",
       "      <td>2</td>\n",
       "      <td>2</td>\n",
       "      <td>Other</td>\n",
       "      <td>4</td>\n",
       "      <td>92</td>\n",
       "      <td>2</td>\n",
       "      <td>...</td>\n",
       "      <td>3</td>\n",
       "      <td>2</td>\n",
       "      <td>0</td>\n",
       "      <td>7</td>\n",
       "      <td>3</td>\n",
       "      <td>3</td>\n",
       "      <td>0</td>\n",
       "      <td>0</td>\n",
       "      <td>0</td>\n",
       "      <td>0</td>\n",
       "    </tr>\n",
       "    <tr>\n",
       "      <th>3</th>\n",
       "      <td>33</td>\n",
       "      <td>No</td>\n",
       "      <td>Travel_Frequently</td>\n",
       "      <td>Research &amp; Development</td>\n",
       "      <td>3</td>\n",
       "      <td>4</td>\n",
       "      <td>Life Sciences</td>\n",
       "      <td>4</td>\n",
       "      <td>56</td>\n",
       "      <td>3</td>\n",
       "      <td>...</td>\n",
       "      <td>3</td>\n",
       "      <td>3</td>\n",
       "      <td>0</td>\n",
       "      <td>8</td>\n",
       "      <td>3</td>\n",
       "      <td>3</td>\n",
       "      <td>8</td>\n",
       "      <td>7</td>\n",
       "      <td>3</td>\n",
       "      <td>0</td>\n",
       "    </tr>\n",
       "    <tr>\n",
       "      <th>4</th>\n",
       "      <td>27</td>\n",
       "      <td>No</td>\n",
       "      <td>Travel_Rarely</td>\n",
       "      <td>Research &amp; Development</td>\n",
       "      <td>2</td>\n",
       "      <td>1</td>\n",
       "      <td>Medical</td>\n",
       "      <td>1</td>\n",
       "      <td>40</td>\n",
       "      <td>3</td>\n",
       "      <td>...</td>\n",
       "      <td>3</td>\n",
       "      <td>4</td>\n",
       "      <td>1</td>\n",
       "      <td>6</td>\n",
       "      <td>3</td>\n",
       "      <td>3</td>\n",
       "      <td>2</td>\n",
       "      <td>2</td>\n",
       "      <td>2</td>\n",
       "      <td>2</td>\n",
       "    </tr>\n",
       "  </tbody>\n",
       "</table>\n",
       "<p>5 rows × 27 columns</p>\n",
       "</div>"
      ],
      "text/plain": [
       "   Age Attrition     BusinessTravel              Department  DistanceFromHome  \\\n",
       "0   41       Yes      Travel_Rarely                   Sales                 1   \n",
       "1   49        No  Travel_Frequently  Research & Development                 8   \n",
       "2   37       Yes      Travel_Rarely  Research & Development                 2   \n",
       "3   33        No  Travel_Frequently  Research & Development                 3   \n",
       "4   27        No      Travel_Rarely  Research & Development                 2   \n",
       "\n",
       "   Education EducationField  EnvironmentSatisfaction  HourlyRate  \\\n",
       "0          2  Life Sciences                        2          94   \n",
       "1          1  Life Sciences                        3          61   \n",
       "2          2          Other                        4          92   \n",
       "3          4  Life Sciences                        4          56   \n",
       "4          1        Medical                        1          40   \n",
       "\n",
       "   JobInvolvement  ...  PerformanceRating RelationshipSatisfaction  \\\n",
       "0               3  ...                  3                        1   \n",
       "1               2  ...                  4                        4   \n",
       "2               2  ...                  3                        2   \n",
       "3               3  ...                  3                        3   \n",
       "4               3  ...                  3                        4   \n",
       "\n",
       "   StockOptionLevel TotalWorkingYears  TrainingTimesLastYear WorkLifeBalance  \\\n",
       "0                 0                 8                      0               1   \n",
       "1                 1                10                      3               3   \n",
       "2                 0                 7                      3               3   \n",
       "3                 0                 8                      3               3   \n",
       "4                 1                 6                      3               3   \n",
       "\n",
       "   YearsAtCompany  YearsInCurrentRole  YearsSinceLastPromotion  \\\n",
       "0               6                   4                        0   \n",
       "1              10                   7                        1   \n",
       "2               0                   0                        0   \n",
       "3               8                   7                        3   \n",
       "4               2                   2                        2   \n",
       "\n",
       "   YearsWithCurrManager  \n",
       "0                     5  \n",
       "1                     7  \n",
       "2                     0  \n",
       "3                     0  \n",
       "4                     2  \n",
       "\n",
       "[5 rows x 27 columns]"
      ]
     },
     "execution_count": 3,
     "metadata": {},
     "output_type": "execute_result"
    }
   ],
   "source": [
    "#  Import and read the attrition data\n",
    "attrition_df = pd.read_csv('https://static.bc-edx.com/ai/ail-v-1-0/m19/lms/datasets/attrition.csv')\n",
    "attrition_df.head()"
   ]
  },
  {
   "cell_type": "code",
   "execution_count": 4,
   "metadata": {
    "colab": {
     "base_uri": "https://localhost:8080/"
    },
    "id": "g22aQSY4Gc3Q",
    "outputId": "1f5c13c1-b981-4e40-a7ed-dd3fe6f1b81e"
   },
   "outputs": [
    {
     "data": {
      "text/plain": [
       "Age                         43\n",
       "Attrition                    2\n",
       "BusinessTravel               3\n",
       "Department                   3\n",
       "DistanceFromHome            29\n",
       "Education                    5\n",
       "EducationField               6\n",
       "EnvironmentSatisfaction      4\n",
       "HourlyRate                  71\n",
       "JobInvolvement               4\n",
       "JobLevel                     5\n",
       "JobRole                      9\n",
       "JobSatisfaction              4\n",
       "MaritalStatus                3\n",
       "NumCompaniesWorked          10\n",
       "OverTime                     2\n",
       "PercentSalaryHike           15\n",
       "PerformanceRating            2\n",
       "RelationshipSatisfaction     4\n",
       "StockOptionLevel             4\n",
       "TotalWorkingYears           40\n",
       "TrainingTimesLastYear        7\n",
       "WorkLifeBalance              4\n",
       "YearsAtCompany              37\n",
       "YearsInCurrentRole          19\n",
       "YearsSinceLastPromotion     16\n",
       "YearsWithCurrManager        18\n",
       "dtype: int64"
      ]
     },
     "execution_count": 4,
     "metadata": {},
     "output_type": "execute_result"
    }
   ],
   "source": [
    "# Determine the number of unique values in each column.\n",
    "attrition_df.nunique()"
   ]
  },
  {
   "cell_type": "code",
   "execution_count": 5,
   "metadata": {
    "id": "50vMgBEnJbfM"
   },
   "outputs": [
    {
     "data": {
      "text/html": [
       "<div>\n",
       "<style scoped>\n",
       "    .dataframe tbody tr th:only-of-type {\n",
       "        vertical-align: middle;\n",
       "    }\n",
       "\n",
       "    .dataframe tbody tr th {\n",
       "        vertical-align: top;\n",
       "    }\n",
       "\n",
       "    .dataframe thead th {\n",
       "        text-align: right;\n",
       "    }\n",
       "</style>\n",
       "<table border=\"1\" class=\"dataframe\">\n",
       "  <thead>\n",
       "    <tr style=\"text-align: right;\">\n",
       "      <th></th>\n",
       "      <th>Attrition</th>\n",
       "      <th>Department</th>\n",
       "    </tr>\n",
       "  </thead>\n",
       "  <tbody>\n",
       "    <tr>\n",
       "      <th>0</th>\n",
       "      <td>Yes</td>\n",
       "      <td>Sales</td>\n",
       "    </tr>\n",
       "    <tr>\n",
       "      <th>1</th>\n",
       "      <td>No</td>\n",
       "      <td>Research &amp; Development</td>\n",
       "    </tr>\n",
       "    <tr>\n",
       "      <th>2</th>\n",
       "      <td>Yes</td>\n",
       "      <td>Research &amp; Development</td>\n",
       "    </tr>\n",
       "    <tr>\n",
       "      <th>3</th>\n",
       "      <td>No</td>\n",
       "      <td>Research &amp; Development</td>\n",
       "    </tr>\n",
       "    <tr>\n",
       "      <th>4</th>\n",
       "      <td>No</td>\n",
       "      <td>Research &amp; Development</td>\n",
       "    </tr>\n",
       "  </tbody>\n",
       "</table>\n",
       "</div>"
      ],
      "text/plain": [
       "  Attrition              Department\n",
       "0       Yes                   Sales\n",
       "1        No  Research & Development\n",
       "2       Yes  Research & Development\n",
       "3        No  Research & Development\n",
       "4        No  Research & Development"
      ]
     },
     "execution_count": 5,
     "metadata": {},
     "output_type": "execute_result"
    }
   ],
   "source": [
    "# Create y_df with the Attrition and Department columns\n",
    "y_df = attrition_df[['Attrition', 'Department']]\n",
    "y_df.head()"
   ]
  },
  {
   "cell_type": "code",
   "execution_count": 6,
   "metadata": {
    "colab": {
     "base_uri": "https://localhost:8080/"
    },
    "id": "Virka0zLGc3R",
    "outputId": "dd5aee3a-9458-4ba6-e857-1b234de40915"
   },
   "outputs": [
    {
     "data": {
      "text/plain": [
       "Education                   int64\n",
       "Age                         int64\n",
       "DistanceFromHome            int64\n",
       "JobSatisfaction             int64\n",
       "OverTime                   object\n",
       "StockOptionLevel            int64\n",
       "WorkLifeBalance             int64\n",
       "YearsAtCompany              int64\n",
       "YearsSinceLastPromotion     int64\n",
       "NumCompaniesWorked          int64\n",
       "dtype: object"
      ]
     },
     "execution_count": 6,
     "metadata": {},
     "output_type": "execute_result"
    }
   ],
   "source": [
    "# Create a list of at least 10 column names to use as X data\n",
    "features_list = ['Education', 'Age', 'DistanceFromHome', 'JobSatisfaction', 'OverTime', 'StockOptionLevel', 'WorkLifeBalance', 'YearsAtCompany', 'YearsSinceLastPromotion', 'NumCompaniesWorked']\n",
    "\n",
    "\n",
    "# Create X_df using your selected columns\n",
    "X_df = attrition_df[features_list]\n",
    "\n",
    "# Show the data types for X_df\n",
    "X_df.dtypes\n"
   ]
  },
  {
   "cell_type": "code",
   "execution_count": 7,
   "metadata": {},
   "outputs": [
    {
     "name": "stderr",
     "output_type": "stream",
     "text": [
      "/var/folders/h4/xm09cdqx717237dwyz2xxbbw0000gn/T/ipykernel_16606/3266550616.py:1: SettingWithCopyWarning: \n",
      "A value is trying to be set on a copy of a slice from a DataFrame.\n",
      "Try using .loc[row_indexer,col_indexer] = value instead\n",
      "\n",
      "See the caveats in the documentation: https://pandas.pydata.org/pandas-docs/stable/user_guide/indexing.html#returning-a-view-versus-a-copy\n",
      "  X_df['OverTime'] = X_df['OverTime'].map({'Yes': 1, 'No': 0})\n"
     ]
    },
    {
     "data": {
      "text/plain": [
       "OverTime\n",
       "0    1054\n",
       "1     416\n",
       "Name: count, dtype: int64"
      ]
     },
     "execution_count": 7,
     "metadata": {},
     "output_type": "execute_result"
    }
   ],
   "source": [
    "X_df['OverTime'] = X_df['OverTime'].map({'Yes': 1, 'No': 0})\n",
    "X_df['OverTime'].value_counts()"
   ]
  },
  {
   "cell_type": "code",
   "execution_count": 8,
   "metadata": {
    "id": "KaJfdOGUMHMR"
   },
   "outputs": [],
   "source": [
    "# Split the data into training and testing sets\n",
    "from sklearn.model_selection import train_test_split\n",
    "\n",
    "X_train, X_test, y_train, y_test = train_test_split(X_df, y_df, random_state=1)"
   ]
  },
  {
   "cell_type": "code",
   "execution_count": 9,
   "metadata": {
    "colab": {
     "base_uri": "https://localhost:8080/"
    },
    "id": "NYubUJqiLCSp",
    "outputId": "53f31721-571c-4c94-d13e-25a715749593"
   },
   "outputs": [
    {
     "data": {
      "text/plain": [
       "OverTime\n",
       "0    798\n",
       "1    304\n",
       "Name: count, dtype: int64"
      ]
     },
     "execution_count": 9,
     "metadata": {},
     "output_type": "execute_result"
    }
   ],
   "source": [
    "# Convert your X data to numeric data types however you see fit\n",
    "# Add new code cells as necessary\n",
    "\n",
    "### I dont know why we would do this here so I am going to do this before the split so that the test data also follows the same structure...\n",
    "X_train['OverTime'].value_counts()"
   ]
  },
  {
   "cell_type": "code",
   "execution_count": 10,
   "metadata": {},
   "outputs": [
    {
     "data": {
      "text/plain": [
       "dtype('int64')"
      ]
     },
     "execution_count": 10,
     "metadata": {},
     "output_type": "execute_result"
    }
   ],
   "source": [
    "X_train['OverTime'].dtypes"
   ]
  },
  {
   "cell_type": "code",
   "execution_count": 11,
   "metadata": {},
   "outputs": [],
   "source": [
    "X_train_scaling = X_train.drop(columns='OverTime')\n",
    "X_test_scaling = X_test.drop(columns='OverTime')"
   ]
  },
  {
   "cell_type": "code",
   "execution_count": 12,
   "metadata": {
    "id": "EWA-aIA5Gc3T"
   },
   "outputs": [],
   "source": [
    "# Create a StandardScaler\n",
    "X_scaler = StandardScaler()\n",
    "\n",
    "# Fit the StandardScaler to the training data\n",
    "X_scaler.fit(X_train_scaling)\n",
    "\n",
    "# Scale the training and testing data\n",
    "X_train_scaled = X_scaler.transform(X_train_scaling)\n",
    "X_test_scaled = X_scaler.transform(X_test_scaling)\n",
    "\n",
    "X_train_scaled_df = pd.DataFrame(X_train_scaled, columns = X_train_scaling.columns)\n",
    "X_test_scaled_df = pd.DataFrame(X_test_scaled, columns = X_test_scaling.columns)"
   ]
  },
  {
   "cell_type": "code",
   "execution_count": 13,
   "metadata": {},
   "outputs": [],
   "source": [
    "X_train_post_scaled = pd.concat([X_train_scaled_df, X_train['OverTime'].reset_index()], axis=1)\n",
    "X_test_post_scaled = pd.concat([X_test_scaled_df, X_test['OverTime'].reset_index()], axis=1)"
   ]
  },
  {
   "cell_type": "code",
   "execution_count": 14,
   "metadata": {},
   "outputs": [],
   "source": [
    "X_train_post_scaled = X_train_post_scaled.set_index('index')\n",
    "X_test_post_scaled = X_test_post_scaled.set_index('index')"
   ]
  },
  {
   "cell_type": "code",
   "execution_count": 15,
   "metadata": {},
   "outputs": [
    {
     "data": {
      "text/html": [
       "<div>\n",
       "<style scoped>\n",
       "    .dataframe tbody tr th:only-of-type {\n",
       "        vertical-align: middle;\n",
       "    }\n",
       "\n",
       "    .dataframe tbody tr th {\n",
       "        vertical-align: top;\n",
       "    }\n",
       "\n",
       "    .dataframe thead th {\n",
       "        text-align: right;\n",
       "    }\n",
       "</style>\n",
       "<table border=\"1\" class=\"dataframe\">\n",
       "  <thead>\n",
       "    <tr style=\"text-align: right;\">\n",
       "      <th></th>\n",
       "      <th>Education</th>\n",
       "      <th>Age</th>\n",
       "      <th>DistanceFromHome</th>\n",
       "      <th>JobSatisfaction</th>\n",
       "      <th>StockOptionLevel</th>\n",
       "      <th>WorkLifeBalance</th>\n",
       "      <th>YearsAtCompany</th>\n",
       "      <th>YearsSinceLastPromotion</th>\n",
       "      <th>NumCompaniesWorked</th>\n",
       "      <th>OverTime</th>\n",
       "    </tr>\n",
       "    <tr>\n",
       "      <th>index</th>\n",
       "      <th></th>\n",
       "      <th></th>\n",
       "      <th></th>\n",
       "      <th></th>\n",
       "      <th></th>\n",
       "      <th></th>\n",
       "      <th></th>\n",
       "      <th></th>\n",
       "      <th></th>\n",
       "      <th></th>\n",
       "    </tr>\n",
       "  </thead>\n",
       "  <tbody>\n",
       "    <tr>\n",
       "      <th>464</th>\n",
       "      <td>0.080843</td>\n",
       "      <td>-0.000597</td>\n",
       "      <td>-1.009337</td>\n",
       "      <td>1.167247</td>\n",
       "      <td>-0.929636</td>\n",
       "      <td>1.790592</td>\n",
       "      <td>-0.142174</td>\n",
       "      <td>-0.350760</td>\n",
       "      <td>0.505016</td>\n",
       "      <td>0</td>\n",
       "    </tr>\n",
       "    <tr>\n",
       "      <th>512</th>\n",
       "      <td>1.070722</td>\n",
       "      <td>-1.097736</td>\n",
       "      <td>-0.761501</td>\n",
       "      <td>1.167247</td>\n",
       "      <td>-0.929636</td>\n",
       "      <td>0.356557</td>\n",
       "      <td>-0.483145</td>\n",
       "      <td>-0.350760</td>\n",
       "      <td>-1.093053</td>\n",
       "      <td>0</td>\n",
       "    </tr>\n",
       "    <tr>\n",
       "      <th>480</th>\n",
       "      <td>1.070722</td>\n",
       "      <td>-0.768595</td>\n",
       "      <td>0.353763</td>\n",
       "      <td>-1.589124</td>\n",
       "      <td>0.253342</td>\n",
       "      <td>1.790592</td>\n",
       "      <td>-0.994602</td>\n",
       "      <td>-0.663492</td>\n",
       "      <td>-0.693536</td>\n",
       "      <td>0</td>\n",
       "    </tr>\n",
       "    <tr>\n",
       "      <th>680</th>\n",
       "      <td>1.070722</td>\n",
       "      <td>-0.110311</td>\n",
       "      <td>-0.265828</td>\n",
       "      <td>1.167247</td>\n",
       "      <td>-0.929636</td>\n",
       "      <td>0.356557</td>\n",
       "      <td>-0.142174</td>\n",
       "      <td>-0.663492</td>\n",
       "      <td>-0.294019</td>\n",
       "      <td>0</td>\n",
       "    </tr>\n",
       "    <tr>\n",
       "      <th>1023</th>\n",
       "      <td>-0.909036</td>\n",
       "      <td>2.083967</td>\n",
       "      <td>-1.009337</td>\n",
       "      <td>-1.589124</td>\n",
       "      <td>0.253342</td>\n",
       "      <td>1.790592</td>\n",
       "      <td>-0.653631</td>\n",
       "      <td>-0.350760</td>\n",
       "      <td>-0.294019</td>\n",
       "      <td>0</td>\n",
       "    </tr>\n",
       "  </tbody>\n",
       "</table>\n",
       "</div>"
      ],
      "text/plain": [
       "       Education       Age  DistanceFromHome  JobSatisfaction  \\\n",
       "index                                                           \n",
       "464     0.080843 -0.000597         -1.009337         1.167247   \n",
       "512     1.070722 -1.097736         -0.761501         1.167247   \n",
       "480     1.070722 -0.768595          0.353763        -1.589124   \n",
       "680     1.070722 -0.110311         -0.265828         1.167247   \n",
       "1023   -0.909036  2.083967         -1.009337        -1.589124   \n",
       "\n",
       "       StockOptionLevel  WorkLifeBalance  YearsAtCompany  \\\n",
       "index                                                      \n",
       "464           -0.929636         1.790592       -0.142174   \n",
       "512           -0.929636         0.356557       -0.483145   \n",
       "480            0.253342         1.790592       -0.994602   \n",
       "680           -0.929636         0.356557       -0.142174   \n",
       "1023           0.253342         1.790592       -0.653631   \n",
       "\n",
       "       YearsSinceLastPromotion  NumCompaniesWorked  OverTime  \n",
       "index                                                         \n",
       "464                  -0.350760            0.505016         0  \n",
       "512                  -0.350760           -1.093053         0  \n",
       "480                  -0.663492           -0.693536         0  \n",
       "680                  -0.663492           -0.294019         0  \n",
       "1023                 -0.350760           -0.294019         0  "
      ]
     },
     "metadata": {},
     "output_type": "display_data"
    },
    {
     "data": {
      "text/html": [
       "<div>\n",
       "<style scoped>\n",
       "    .dataframe tbody tr th:only-of-type {\n",
       "        vertical-align: middle;\n",
       "    }\n",
       "\n",
       "    .dataframe tbody tr th {\n",
       "        vertical-align: top;\n",
       "    }\n",
       "\n",
       "    .dataframe thead th {\n",
       "        text-align: right;\n",
       "    }\n",
       "</style>\n",
       "<table border=\"1\" class=\"dataframe\">\n",
       "  <thead>\n",
       "    <tr style=\"text-align: right;\">\n",
       "      <th></th>\n",
       "      <th>Education</th>\n",
       "      <th>Age</th>\n",
       "      <th>DistanceFromHome</th>\n",
       "      <th>JobSatisfaction</th>\n",
       "      <th>StockOptionLevel</th>\n",
       "      <th>WorkLifeBalance</th>\n",
       "      <th>YearsAtCompany</th>\n",
       "      <th>YearsSinceLastPromotion</th>\n",
       "      <th>NumCompaniesWorked</th>\n",
       "      <th>OverTime</th>\n",
       "    </tr>\n",
       "    <tr>\n",
       "      <th>index</th>\n",
       "      <th></th>\n",
       "      <th></th>\n",
       "      <th></th>\n",
       "      <th></th>\n",
       "      <th></th>\n",
       "      <th></th>\n",
       "      <th></th>\n",
       "      <th></th>\n",
       "      <th></th>\n",
       "      <th></th>\n",
       "    </tr>\n",
       "  </thead>\n",
       "  <tbody>\n",
       "    <tr>\n",
       "      <th>1291</th>\n",
       "      <td>1.070722</td>\n",
       "      <td>-0.000597</td>\n",
       "      <td>0.105926</td>\n",
       "      <td>-1.589124</td>\n",
       "      <td>-0.929636</td>\n",
       "      <td>-2.511514</td>\n",
       "      <td>0.539768</td>\n",
       "      <td>-0.663492</td>\n",
       "      <td>-0.693536</td>\n",
       "      <td>0</td>\n",
       "    </tr>\n",
       "    <tr>\n",
       "      <th>1153</th>\n",
       "      <td>-0.909036</td>\n",
       "      <td>-2.085162</td>\n",
       "      <td>-0.761501</td>\n",
       "      <td>1.167247</td>\n",
       "      <td>-0.929636</td>\n",
       "      <td>1.790592</td>\n",
       "      <td>-1.165088</td>\n",
       "      <td>-0.663492</td>\n",
       "      <td>-0.693536</td>\n",
       "      <td>1</td>\n",
       "    </tr>\n",
       "    <tr>\n",
       "      <th>720</th>\n",
       "      <td>0.080843</td>\n",
       "      <td>-0.768595</td>\n",
       "      <td>1.592945</td>\n",
       "      <td>0.248457</td>\n",
       "      <td>-0.929636</td>\n",
       "      <td>0.356557</td>\n",
       "      <td>-0.312660</td>\n",
       "      <td>-0.663492</td>\n",
       "      <td>0.505016</td>\n",
       "      <td>1</td>\n",
       "    </tr>\n",
       "    <tr>\n",
       "      <th>763</th>\n",
       "      <td>1.070722</td>\n",
       "      <td>-0.329739</td>\n",
       "      <td>0.105926</td>\n",
       "      <td>0.248457</td>\n",
       "      <td>0.253342</td>\n",
       "      <td>0.356557</td>\n",
       "      <td>-0.994602</td>\n",
       "      <td>-0.663492</td>\n",
       "      <td>-0.693536</td>\n",
       "      <td>1</td>\n",
       "    </tr>\n",
       "    <tr>\n",
       "      <th>976</th>\n",
       "      <td>0.080843</td>\n",
       "      <td>2.083967</td>\n",
       "      <td>1.716863</td>\n",
       "      <td>-0.670333</td>\n",
       "      <td>0.253342</td>\n",
       "      <td>0.356557</td>\n",
       "      <td>2.074137</td>\n",
       "      <td>4.027495</td>\n",
       "      <td>0.505016</td>\n",
       "      <td>1</td>\n",
       "    </tr>\n",
       "  </tbody>\n",
       "</table>\n",
       "</div>"
      ],
      "text/plain": [
       "       Education       Age  DistanceFromHome  JobSatisfaction  \\\n",
       "index                                                           \n",
       "1291    1.070722 -0.000597          0.105926        -1.589124   \n",
       "1153   -0.909036 -2.085162         -0.761501         1.167247   \n",
       "720     0.080843 -0.768595          1.592945         0.248457   \n",
       "763     1.070722 -0.329739          0.105926         0.248457   \n",
       "976     0.080843  2.083967          1.716863        -0.670333   \n",
       "\n",
       "       StockOptionLevel  WorkLifeBalance  YearsAtCompany  \\\n",
       "index                                                      \n",
       "1291          -0.929636        -2.511514        0.539768   \n",
       "1153          -0.929636         1.790592       -1.165088   \n",
       "720           -0.929636         0.356557       -0.312660   \n",
       "763            0.253342         0.356557       -0.994602   \n",
       "976            0.253342         0.356557        2.074137   \n",
       "\n",
       "       YearsSinceLastPromotion  NumCompaniesWorked  OverTime  \n",
       "index                                                         \n",
       "1291                 -0.663492           -0.693536         0  \n",
       "1153                 -0.663492           -0.693536         1  \n",
       "720                  -0.663492            0.505016         1  \n",
       "763                  -0.663492           -0.693536         1  \n",
       "976                   4.027495            0.505016         1  "
      ]
     },
     "metadata": {},
     "output_type": "display_data"
    }
   ],
   "source": [
    "display(X_train_post_scaled.head())\n",
    "display(X_test_post_scaled.head())"
   ]
  },
  {
   "cell_type": "code",
   "execution_count": 16,
   "metadata": {
    "colab": {
     "base_uri": "https://localhost:8080/"
    },
    "id": "-z0Mky8vQSz4",
    "outputId": "debefc85-c20b-48f5-f4d9-91eadd65d36a"
   },
   "outputs": [],
   "source": [
    "# Create a OneHotEncoder for the Department column\n",
    "dept_encoder = OneHotEncoder(sparse_output=False)\n",
    "\n",
    "# Fit the encoder to the training data\n",
    "dept_encoded = dept_encoder.fit(y_train[['Department']])\n",
    "\n",
    "# Create two new variables by applying the encoder\n",
    "# to the training and testing data\n",
    "dept_encoded_train = dept_encoder.transform(y_train[['Department']])\n",
    "dept_encoded_test = dept_encoder.transform(y_test[['Department']])\n",
    "\n",
    "dept_colums = dept_encoder.get_feature_names_out(['Department'])\n",
    "\n",
    "dept_encoded_train_df = pd.DataFrame(dept_encoded_train, columns=dept_colums)\n",
    "dept_encoded_test_df = pd.DataFrame(dept_encoded_test, columns=dept_colums)"
   ]
  },
  {
   "cell_type": "code",
   "execution_count": 17,
   "metadata": {
    "colab": {
     "base_uri": "https://localhost:8080/"
    },
    "id": "-G4DSpvFRrk4",
    "outputId": "9842e948-8a55-4b80-8fac-f96714e85589"
   },
   "outputs": [],
   "source": [
    "# Create a OneHotEncoder for the Attrition column\n",
    "attrition_encoder = OneHotEncoder(sparse_output=False)\n",
    "\n",
    "# Fit the encoder to the training data\n",
    "attrition_encoded = attrition_encoder.fit(y_train[['Attrition']])\n",
    "\n",
    "# Create two new variables by applying the encoder\n",
    "# to the training and testing data\n",
    "attrition_encoded_train = attrition_encoder.transform(y_train[['Attrition']])\n",
    "attrition_encoded_test = attrition_encoder.transform(y_test[['Attrition']])\n",
    "\n",
    "attrition_colums = attrition_encoder.get_feature_names_out(['Attrition'])\n",
    "\n",
    "attrition_encoded_train_df = pd.DataFrame(attrition_encoded_train, columns=attrition_colums)\n",
    "attrition_encoded_test_df = pd.DataFrame(attrition_encoded_test, columns=attrition_colums)"
   ]
  },
  {
   "cell_type": "code",
   "execution_count": 18,
   "metadata": {},
   "outputs": [],
   "source": [
    "### COMBINING ALL Y encoded dfs\n",
    "\n",
    "y_train_processed_df = pd.concat([\n",
    "    dept_encoded_train_df,\n",
    "    attrition_encoded_train_df],\n",
    "    axis=1\n",
    "    )\n",
    "\n",
    "y_test_processed_df = pd.concat([\n",
    "    dept_encoded_test_df,\n",
    "    attrition_encoded_test_df],\n",
    "    axis=1\n",
    "    )"
   ]
  },
  {
   "cell_type": "code",
   "execution_count": 19,
   "metadata": {},
   "outputs": [],
   "source": [
    "dept_encoded_train_df = np.array(dept_encoded_train_df)\n",
    "attrition_encoded_train_df = np.array(attrition_encoded_train_df)"
   ]
  },
  {
   "cell_type": "code",
   "execution_count": 20,
   "metadata": {},
   "outputs": [],
   "source": [
    "dept_encoded_train_df = dept_encoded_train_df.reshape(-1, 3)\n",
    "attrition_encoded_train_df = attrition_encoded_train_df.reshape(-1, 2)"
   ]
  },
  {
   "cell_type": "code",
   "execution_count": 21,
   "metadata": {},
   "outputs": [
    {
     "name": "stdout",
     "output_type": "stream",
     "text": [
      "Reshaped Department target shape: (1102, 3)\n",
      "Reshaped Attrition target shape: (1102, 2)\n"
     ]
    }
   ],
   "source": [
    "print(\"Reshaped Department target shape:\", dept_encoded_train_df.shape)\n",
    "print(\"Reshaped Attrition target shape:\", attrition_encoded_train_df.shape)"
   ]
  },
  {
   "cell_type": "markdown",
   "metadata": {
    "id": "ykNmu_WWGc3T"
   },
   "source": [
    "## Create, Compile, and Train the Model"
   ]
  },
  {
   "cell_type": "code",
   "execution_count": 23,
   "metadata": {},
   "outputs": [],
   "source": [
    "tf.keras.backend.clear_session()"
   ]
  },
  {
   "cell_type": "code",
   "execution_count": null,
   "metadata": {},
   "outputs": [],
   "source": []
  },
  {
   "cell_type": "code",
   "execution_count": 24,
   "metadata": {
    "id": "WUptZqmSGc3T"
   },
   "outputs": [],
   "source": [
    "# Find the number of columns in the X training data\n",
    "num_features = X_train_post_scaled.shape[1]\n",
    "\n",
    "# Create the input layer\n",
    "input_layer = layers.Input(shape=(num_features,), name='input_layer')\n",
    "\n",
    "# Create at least two shared layers\n",
    "shared_layer1 = layers.Dense(64, activation='relu', name='shared_layer1')(input_layer)\n",
    "shared_layer2 = layers.Dense(128, activation='relu', name='shared_layer2')(shared_layer1)"
   ]
  },
  {
   "cell_type": "code",
   "execution_count": 25,
   "metadata": {
    "id": "JukjTm2yTEqd"
   },
   "outputs": [
    {
     "name": "stdout",
     "output_type": "stream",
     "text": [
      "Expected department output shape: (None, 3)\n"
     ]
    }
   ],
   "source": [
    "# Create a branch for Department\n",
    "# with a hidden layer and an output layer\n",
    "\n",
    "# Create the hidden layer\n",
    "department_dense = layers.Dense(32, activation='relu', name='department_dense')(shared_layer2)\n",
    "\n",
    "# Create the output layer\n",
    "department_output = layers.Dense(3, activation='softmax', name='department_output')(department_dense)\n",
    "\n",
    "print(\"Expected department output shape:\", department_output.shape)"
   ]
  },
  {
   "cell_type": "code",
   "execution_count": 26,
   "metadata": {
    "id": "9OqhUiOJUBkR"
   },
   "outputs": [
    {
     "name": "stdout",
     "output_type": "stream",
     "text": [
      "Expected attrition output shape: (None, 2)\n"
     ]
    }
   ],
   "source": [
    "## Create a branch for Attrition\n",
    "# with a hidden layer and an output layer\n",
    "\n",
    "# Create the hidden layer\n",
    "attrition_dense = layers.Dense(32, activation='relu', name = 'attrition_dense')(shared_layer2)\n",
    "\n",
    "# Create the output layer\n",
    "attrition_output = layers.Dense(2, activation='softmax', name='attrition_output')(attrition_dense)\n",
    "\n",
    "print(\"Expected attrition output shape:\", attrition_output.shape)"
   ]
  },
  {
   "cell_type": "code",
   "execution_count": 27,
   "metadata": {
    "colab": {
     "base_uri": "https://localhost:8080/"
    },
    "id": "twmuejdxGc3T",
    "outputId": "25096308-b68b-42e4-e4ea-ae82e97c435a"
   },
   "outputs": [
    {
     "data": {
      "text/html": [
       "<pre style=\"white-space:pre;overflow-x:auto;line-height:normal;font-family:Menlo,'DejaVu Sans Mono',consolas,'Courier New',monospace\"><span style=\"font-weight: bold\">Model: \"functional\"</span>\n",
       "</pre>\n"
      ],
      "text/plain": [
       "\u001b[1mModel: \"functional\"\u001b[0m\n"
      ]
     },
     "metadata": {},
     "output_type": "display_data"
    },
    {
     "data": {
      "text/html": [
       "<pre style=\"white-space:pre;overflow-x:auto;line-height:normal;font-family:Menlo,'DejaVu Sans Mono',consolas,'Courier New',monospace\">┏━━━━━━━━━━━━━━━━━━━━━┳━━━━━━━━━━━━━━━━━━━┳━━━━━━━━━━━━┳━━━━━━━━━━━━━━━━━━━┓\n",
       "┃<span style=\"font-weight: bold\"> Layer (type)        </span>┃<span style=\"font-weight: bold\"> Output Shape      </span>┃<span style=\"font-weight: bold\">    Param # </span>┃<span style=\"font-weight: bold\"> Connected to      </span>┃\n",
       "┡━━━━━━━━━━━━━━━━━━━━━╇━━━━━━━━━━━━━━━━━━━╇━━━━━━━━━━━━╇━━━━━━━━━━━━━━━━━━━┩\n",
       "│ input_layer         │ (<span style=\"color: #00d7ff; text-decoration-color: #00d7ff\">None</span>, <span style=\"color: #00af00; text-decoration-color: #00af00\">10</span>)        │          <span style=\"color: #00af00; text-decoration-color: #00af00\">0</span> │ -                 │\n",
       "│ (<span style=\"color: #0087ff; text-decoration-color: #0087ff\">InputLayer</span>)        │                   │            │                   │\n",
       "├─────────────────────┼───────────────────┼────────────┼───────────────────┤\n",
       "│ shared_layer1       │ (<span style=\"color: #00d7ff; text-decoration-color: #00d7ff\">None</span>, <span style=\"color: #00af00; text-decoration-color: #00af00\">64</span>)        │        <span style=\"color: #00af00; text-decoration-color: #00af00\">704</span> │ input_layer[<span style=\"color: #00af00; text-decoration-color: #00af00\">0</span>][<span style=\"color: #00af00; text-decoration-color: #00af00\">0</span>] │\n",
       "│ (<span style=\"color: #0087ff; text-decoration-color: #0087ff\">Dense</span>)             │                   │            │                   │\n",
       "├─────────────────────┼───────────────────┼────────────┼───────────────────┤\n",
       "│ shared_layer2       │ (<span style=\"color: #00d7ff; text-decoration-color: #00d7ff\">None</span>, <span style=\"color: #00af00; text-decoration-color: #00af00\">128</span>)       │      <span style=\"color: #00af00; text-decoration-color: #00af00\">8,320</span> │ shared_layer1[<span style=\"color: #00af00; text-decoration-color: #00af00\">0</span>]… │\n",
       "│ (<span style=\"color: #0087ff; text-decoration-color: #0087ff\">Dense</span>)             │                   │            │                   │\n",
       "├─────────────────────┼───────────────────┼────────────┼───────────────────┤\n",
       "│ attrition_dense     │ (<span style=\"color: #00d7ff; text-decoration-color: #00d7ff\">None</span>, <span style=\"color: #00af00; text-decoration-color: #00af00\">32</span>)        │      <span style=\"color: #00af00; text-decoration-color: #00af00\">4,128</span> │ shared_layer2[<span style=\"color: #00af00; text-decoration-color: #00af00\">0</span>]… │\n",
       "│ (<span style=\"color: #0087ff; text-decoration-color: #0087ff\">Dense</span>)             │                   │            │                   │\n",
       "├─────────────────────┼───────────────────┼────────────┼───────────────────┤\n",
       "│ department_dense    │ (<span style=\"color: #00d7ff; text-decoration-color: #00d7ff\">None</span>, <span style=\"color: #00af00; text-decoration-color: #00af00\">32</span>)        │      <span style=\"color: #00af00; text-decoration-color: #00af00\">4,128</span> │ shared_layer2[<span style=\"color: #00af00; text-decoration-color: #00af00\">0</span>]… │\n",
       "│ (<span style=\"color: #0087ff; text-decoration-color: #0087ff\">Dense</span>)             │                   │            │                   │\n",
       "├─────────────────────┼───────────────────┼────────────┼───────────────────┤\n",
       "│ attrition_output    │ (<span style=\"color: #00d7ff; text-decoration-color: #00d7ff\">None</span>, <span style=\"color: #00af00; text-decoration-color: #00af00\">2</span>)         │         <span style=\"color: #00af00; text-decoration-color: #00af00\">66</span> │ attrition_dense[<span style=\"color: #00af00; text-decoration-color: #00af00\">…</span> │\n",
       "│ (<span style=\"color: #0087ff; text-decoration-color: #0087ff\">Dense</span>)             │                   │            │                   │\n",
       "├─────────────────────┼───────────────────┼────────────┼───────────────────┤\n",
       "│ department_output   │ (<span style=\"color: #00d7ff; text-decoration-color: #00d7ff\">None</span>, <span style=\"color: #00af00; text-decoration-color: #00af00\">3</span>)         │         <span style=\"color: #00af00; text-decoration-color: #00af00\">99</span> │ department_dense… │\n",
       "│ (<span style=\"color: #0087ff; text-decoration-color: #0087ff\">Dense</span>)             │                   │            │                   │\n",
       "└─────────────────────┴───────────────────┴────────────┴───────────────────┘\n",
       "</pre>\n"
      ],
      "text/plain": [
       "┏━━━━━━━━━━━━━━━━━━━━━┳━━━━━━━━━━━━━━━━━━━┳━━━━━━━━━━━━┳━━━━━━━━━━━━━━━━━━━┓\n",
       "┃\u001b[1m \u001b[0m\u001b[1mLayer (type)       \u001b[0m\u001b[1m \u001b[0m┃\u001b[1m \u001b[0m\u001b[1mOutput Shape     \u001b[0m\u001b[1m \u001b[0m┃\u001b[1m \u001b[0m\u001b[1m   Param #\u001b[0m\u001b[1m \u001b[0m┃\u001b[1m \u001b[0m\u001b[1mConnected to     \u001b[0m\u001b[1m \u001b[0m┃\n",
       "┡━━━━━━━━━━━━━━━━━━━━━╇━━━━━━━━━━━━━━━━━━━╇━━━━━━━━━━━━╇━━━━━━━━━━━━━━━━━━━┩\n",
       "│ input_layer         │ (\u001b[38;5;45mNone\u001b[0m, \u001b[38;5;34m10\u001b[0m)        │          \u001b[38;5;34m0\u001b[0m │ -                 │\n",
       "│ (\u001b[38;5;33mInputLayer\u001b[0m)        │                   │            │                   │\n",
       "├─────────────────────┼───────────────────┼────────────┼───────────────────┤\n",
       "│ shared_layer1       │ (\u001b[38;5;45mNone\u001b[0m, \u001b[38;5;34m64\u001b[0m)        │        \u001b[38;5;34m704\u001b[0m │ input_layer[\u001b[38;5;34m0\u001b[0m][\u001b[38;5;34m0\u001b[0m] │\n",
       "│ (\u001b[38;5;33mDense\u001b[0m)             │                   │            │                   │\n",
       "├─────────────────────┼───────────────────┼────────────┼───────────────────┤\n",
       "│ shared_layer2       │ (\u001b[38;5;45mNone\u001b[0m, \u001b[38;5;34m128\u001b[0m)       │      \u001b[38;5;34m8,320\u001b[0m │ shared_layer1[\u001b[38;5;34m0\u001b[0m]… │\n",
       "│ (\u001b[38;5;33mDense\u001b[0m)             │                   │            │                   │\n",
       "├─────────────────────┼───────────────────┼────────────┼───────────────────┤\n",
       "│ attrition_dense     │ (\u001b[38;5;45mNone\u001b[0m, \u001b[38;5;34m32\u001b[0m)        │      \u001b[38;5;34m4,128\u001b[0m │ shared_layer2[\u001b[38;5;34m0\u001b[0m]… │\n",
       "│ (\u001b[38;5;33mDense\u001b[0m)             │                   │            │                   │\n",
       "├─────────────────────┼───────────────────┼────────────┼───────────────────┤\n",
       "│ department_dense    │ (\u001b[38;5;45mNone\u001b[0m, \u001b[38;5;34m32\u001b[0m)        │      \u001b[38;5;34m4,128\u001b[0m │ shared_layer2[\u001b[38;5;34m0\u001b[0m]… │\n",
       "│ (\u001b[38;5;33mDense\u001b[0m)             │                   │            │                   │\n",
       "├─────────────────────┼───────────────────┼────────────┼───────────────────┤\n",
       "│ attrition_output    │ (\u001b[38;5;45mNone\u001b[0m, \u001b[38;5;34m2\u001b[0m)         │         \u001b[38;5;34m66\u001b[0m │ attrition_dense[\u001b[38;5;34m…\u001b[0m │\n",
       "│ (\u001b[38;5;33mDense\u001b[0m)             │                   │            │                   │\n",
       "├─────────────────────┼───────────────────┼────────────┼───────────────────┤\n",
       "│ department_output   │ (\u001b[38;5;45mNone\u001b[0m, \u001b[38;5;34m3\u001b[0m)         │         \u001b[38;5;34m99\u001b[0m │ department_dense… │\n",
       "│ (\u001b[38;5;33mDense\u001b[0m)             │                   │            │                   │\n",
       "└─────────────────────┴───────────────────┴────────────┴───────────────────┘\n"
      ]
     },
     "metadata": {},
     "output_type": "display_data"
    },
    {
     "data": {
      "text/html": [
       "<pre style=\"white-space:pre;overflow-x:auto;line-height:normal;font-family:Menlo,'DejaVu Sans Mono',consolas,'Courier New',monospace\"><span style=\"font-weight: bold\"> Total params: </span><span style=\"color: #00af00; text-decoration-color: #00af00\">17,445</span> (68.14 KB)\n",
       "</pre>\n"
      ],
      "text/plain": [
       "\u001b[1m Total params: \u001b[0m\u001b[38;5;34m17,445\u001b[0m (68.14 KB)\n"
      ]
     },
     "metadata": {},
     "output_type": "display_data"
    },
    {
     "data": {
      "text/html": [
       "<pre style=\"white-space:pre;overflow-x:auto;line-height:normal;font-family:Menlo,'DejaVu Sans Mono',consolas,'Courier New',monospace\"><span style=\"font-weight: bold\"> Trainable params: </span><span style=\"color: #00af00; text-decoration-color: #00af00\">17,445</span> (68.14 KB)\n",
       "</pre>\n"
      ],
      "text/plain": [
       "\u001b[1m Trainable params: \u001b[0m\u001b[38;5;34m17,445\u001b[0m (68.14 KB)\n"
      ]
     },
     "metadata": {},
     "output_type": "display_data"
    },
    {
     "data": {
      "text/html": [
       "<pre style=\"white-space:pre;overflow-x:auto;line-height:normal;font-family:Menlo,'DejaVu Sans Mono',consolas,'Courier New',monospace\"><span style=\"font-weight: bold\"> Non-trainable params: </span><span style=\"color: #00af00; text-decoration-color: #00af00\">0</span> (0.00 B)\n",
       "</pre>\n"
      ],
      "text/plain": [
       "\u001b[1m Non-trainable params: \u001b[0m\u001b[38;5;34m0\u001b[0m (0.00 B)\n"
      ]
     },
     "metadata": {},
     "output_type": "display_data"
    }
   ],
   "source": [
    "# Create the model\n",
    "model = Model(inputs=input_layer, outputs=[attrition_output, \n",
    "                                           department_output])\n",
    "\n",
    "# Compile the model\n",
    "model.compile(optimizer='adam', \n",
    "              loss={'department_output': 'categorical_crossentropy',\n",
    "                    'attrition_output': 'categorical_crossentropy'}, \n",
    "              metrics={'department_output': 'accuracy', \n",
    "                       'attrition_output': 'accuracy'})\n",
    "\n",
    "\n",
    "\n",
    "\n",
    "# Summarize the model\n",
    "model.summary()"
   ]
  },
  {
   "cell_type": "code",
   "execution_count": 28,
   "metadata": {
    "jupyter": {
     "source_hidden": true
    }
   },
   "outputs": [
    {
     "name": "stdout",
     "output_type": "stream",
     "text": [
      "Department output shape: 3\n",
      "Attrition output shape: 2\n"
     ]
    }
   ],
   "source": [
    "print(\"Department output shape:\", dept_encoded_train_df.shape[1])\n",
    "print(\"Attrition output shape:\", attrition_encoded_train_df.shape[1])"
   ]
  },
  {
   "cell_type": "code",
   "execution_count": 29,
   "metadata": {
    "jupyter": {
     "source_hidden": true
    }
   },
   "outputs": [
    {
     "name": "stdout",
     "output_type": "stream",
     "text": [
      "Department target shape: (1102, 3)\n",
      "Attrition target shape: (1102, 2)\n"
     ]
    }
   ],
   "source": [
    "print(\"Department target shape:\", dept_encoded_train_df.shape)\n",
    "print(\"Attrition target shape:\", attrition_encoded_train_df.shape)"
   ]
  },
  {
   "cell_type": "code",
   "execution_count": 30,
   "metadata": {
    "jupyter": {
     "source_hidden": true
    }
   },
   "outputs": [
    {
     "name": "stdout",
     "output_type": "stream",
     "text": [
      "Input data shape: (1102, 10)\n",
      "Department target shape: (1102, 3)\n",
      "Attrition target shape: (1102, 2)\n"
     ]
    }
   ],
   "source": [
    "print(\"Input data shape:\", X_train_post_scaled.shape)\n",
    "print(\"Department target shape:\", dept_encoded_train_df.shape)  # Should be (num_samples, 3)\n",
    "print(\"Attrition target shape:\", attrition_encoded_train_df.shape)  # Should be (num_samples, 2)"
   ]
  },
  {
   "cell_type": "code",
   "execution_count": 31,
   "metadata": {
    "colab": {
     "base_uri": "https://localhost:8080/"
    },
    "id": "c8oGy0dpGc3U",
    "outputId": "cc667d43-28cf-42d4-d719-c2bc02888d30"
   },
   "outputs": [
    {
     "name": "stdout",
     "output_type": "stream",
     "text": [
      "Epoch 1/100\n",
      "\u001b[1m28/28\u001b[0m \u001b[32m━━━━━━━━━━━━━━━━━━━━\u001b[0m\u001b[37m\u001b[0m \u001b[1m1s\u001b[0m 5ms/step - attrition_output_accuracy: 0.6295 - attrition_output_loss: 0.6179 - department_output_accuracy: 0.5119 - department_output_loss: 0.9761 - loss: 1.5946 - val_attrition_output_accuracy: 0.8281 - val_attrition_output_loss: 0.4896 - val_department_output_accuracy: 0.6335 - val_department_output_loss: 0.8585 - val_loss: 1.3496\n",
      "Epoch 2/100\n",
      "\u001b[1m28/28\u001b[0m \u001b[32m━━━━━━━━━━━━━━━━━━━━\u001b[0m\u001b[37m\u001b[0m \u001b[1m0s\u001b[0m 1ms/step - attrition_output_accuracy: 0.8540 - attrition_output_loss: 0.4110 - department_output_accuracy: 0.6494 - department_output_loss: 0.8017 - loss: 1.2130 - val_attrition_output_accuracy: 0.8281 - val_attrition_output_loss: 0.4643 - val_department_output_accuracy: 0.6335 - val_department_output_loss: 0.8497 - val_loss: 1.3146\n",
      "Epoch 3/100\n",
      "\u001b[1m28/28\u001b[0m \u001b[32m━━━━━━━━━━━━━━━━━━━━\u001b[0m\u001b[37m\u001b[0m \u001b[1m0s\u001b[0m 1ms/step - attrition_output_accuracy: 0.8570 - attrition_output_loss: 0.3720 - department_output_accuracy: 0.6322 - department_output_loss: 0.7924 - loss: 1.1646 - val_attrition_output_accuracy: 0.8281 - val_attrition_output_loss: 0.4565 - val_department_output_accuracy: 0.6335 - val_department_output_loss: 0.8584 - val_loss: 1.3154\n",
      "Epoch 4/100\n",
      "\u001b[1m28/28\u001b[0m \u001b[32m━━━━━━━━━━━━━━━━━━━━\u001b[0m\u001b[37m\u001b[0m \u001b[1m0s\u001b[0m 2ms/step - attrition_output_accuracy: 0.8621 - attrition_output_loss: 0.3464 - department_output_accuracy: 0.6567 - department_output_loss: 0.7671 - loss: 1.1139 - val_attrition_output_accuracy: 0.8371 - val_attrition_output_loss: 0.4540 - val_department_output_accuracy: 0.6335 - val_department_output_loss: 0.8548 - val_loss: 1.3092\n",
      "Epoch 5/100\n",
      "\u001b[1m28/28\u001b[0m \u001b[32m━━━━━━━━━━━━━━━━━━━━\u001b[0m\u001b[37m\u001b[0m \u001b[1m0s\u001b[0m 1ms/step - attrition_output_accuracy: 0.8553 - attrition_output_loss: 0.3462 - department_output_accuracy: 0.6581 - department_output_loss: 0.7431 - loss: 1.0891 - val_attrition_output_accuracy: 0.8371 - val_attrition_output_loss: 0.4551 - val_department_output_accuracy: 0.6335 - val_department_output_loss: 0.8654 - val_loss: 1.3211\n",
      "Epoch 6/100\n",
      "\u001b[1m28/28\u001b[0m \u001b[32m━━━━━━━━━━━━━━━━━━━━\u001b[0m\u001b[37m\u001b[0m \u001b[1m0s\u001b[0m 1ms/step - attrition_output_accuracy: 0.8745 - attrition_output_loss: 0.3305 - department_output_accuracy: 0.6612 - department_output_loss: 0.7318 - loss: 1.0626 - val_attrition_output_accuracy: 0.8326 - val_attrition_output_loss: 0.4450 - val_department_output_accuracy: 0.6335 - val_department_output_loss: 0.8724 - val_loss: 1.3183\n",
      "Epoch 7/100\n",
      "\u001b[1m28/28\u001b[0m \u001b[32m━━━━━━━━━━━━━━━━━━━━\u001b[0m\u001b[37m\u001b[0m \u001b[1m0s\u001b[0m 1ms/step - attrition_output_accuracy: 0.8862 - attrition_output_loss: 0.3150 - department_output_accuracy: 0.6613 - department_output_loss: 0.7229 - loss: 1.0379 - val_attrition_output_accuracy: 0.8371 - val_attrition_output_loss: 0.4482 - val_department_output_accuracy: 0.6199 - val_department_output_loss: 0.8715 - val_loss: 1.3205\n",
      "Epoch 8/100\n",
      "\u001b[1m28/28\u001b[0m \u001b[32m━━━━━━━━━━━━━━━━━━━━\u001b[0m\u001b[37m\u001b[0m \u001b[1m0s\u001b[0m 1ms/step - attrition_output_accuracy: 0.8824 - attrition_output_loss: 0.3278 - department_output_accuracy: 0.6640 - department_output_loss: 0.7102 - loss: 1.0382 - val_attrition_output_accuracy: 0.8416 - val_attrition_output_loss: 0.4458 - val_department_output_accuracy: 0.6154 - val_department_output_loss: 0.8663 - val_loss: 1.3131\n",
      "Epoch 9/100\n",
      "\u001b[1m28/28\u001b[0m \u001b[32m━━━━━━━━━━━━━━━━━━━━\u001b[0m\u001b[37m\u001b[0m \u001b[1m0s\u001b[0m 2ms/step - attrition_output_accuracy: 0.8968 - attrition_output_loss: 0.2816 - department_output_accuracy: 0.6709 - department_output_loss: 0.7146 - loss: 0.9962 - val_attrition_output_accuracy: 0.8371 - val_attrition_output_loss: 0.4459 - val_department_output_accuracy: 0.6063 - val_department_output_loss: 0.8701 - val_loss: 1.3172\n",
      "Epoch 10/100\n",
      "\u001b[1m28/28\u001b[0m \u001b[32m━━━━━━━━━━━━━━━━━━━━\u001b[0m\u001b[37m\u001b[0m \u001b[1m0s\u001b[0m 1ms/step - attrition_output_accuracy: 0.8795 - attrition_output_loss: 0.3135 - department_output_accuracy: 0.6825 - department_output_loss: 0.6981 - loss: 1.0118 - val_attrition_output_accuracy: 0.8190 - val_attrition_output_loss: 0.4631 - val_department_output_accuracy: 0.6109 - val_department_output_loss: 0.8844 - val_loss: 1.3487\n",
      "Epoch 11/100\n",
      "\u001b[1m28/28\u001b[0m \u001b[32m━━━━━━━━━━━━━━━━━━━━\u001b[0m\u001b[37m\u001b[0m \u001b[1m0s\u001b[0m 1ms/step - attrition_output_accuracy: 0.8929 - attrition_output_loss: 0.2790 - department_output_accuracy: 0.6701 - department_output_loss: 0.7114 - loss: 0.9907 - val_attrition_output_accuracy: 0.8416 - val_attrition_output_loss: 0.4470 - val_department_output_accuracy: 0.6154 - val_department_output_loss: 0.8816 - val_loss: 1.3299\n",
      "Epoch 12/100\n",
      "\u001b[1m28/28\u001b[0m \u001b[32m━━━━━━━━━━━━━━━━━━━━\u001b[0m\u001b[37m\u001b[0m \u001b[1m0s\u001b[0m 1ms/step - attrition_output_accuracy: 0.9160 - attrition_output_loss: 0.2664 - department_output_accuracy: 0.7068 - department_output_loss: 0.6650 - loss: 0.9313 - val_attrition_output_accuracy: 0.8326 - val_attrition_output_loss: 0.4662 - val_department_output_accuracy: 0.6109 - val_department_output_loss: 0.8818 - val_loss: 1.3494\n",
      "Epoch 13/100\n",
      "\u001b[1m28/28\u001b[0m \u001b[32m━━━━━━━━━━━━━━━━━━━━\u001b[0m\u001b[37m\u001b[0m \u001b[1m0s\u001b[0m 1ms/step - attrition_output_accuracy: 0.8953 - attrition_output_loss: 0.2801 - department_output_accuracy: 0.7025 - department_output_loss: 0.6580 - loss: 0.9380 - val_attrition_output_accuracy: 0.8281 - val_attrition_output_loss: 0.4840 - val_department_output_accuracy: 0.6063 - val_department_output_loss: 0.8938 - val_loss: 1.3794\n",
      "Epoch 14/100\n",
      "\u001b[1m28/28\u001b[0m \u001b[32m━━━━━━━━━━━━━━━━━━━━\u001b[0m\u001b[37m\u001b[0m \u001b[1m0s\u001b[0m 1ms/step - attrition_output_accuracy: 0.9054 - attrition_output_loss: 0.2494 - department_output_accuracy: 0.6950 - department_output_loss: 0.6799 - loss: 0.9292 - val_attrition_output_accuracy: 0.8371 - val_attrition_output_loss: 0.4715 - val_department_output_accuracy: 0.6109 - val_department_output_loss: 0.8997 - val_loss: 1.3728\n",
      "Epoch 15/100\n",
      "\u001b[1m28/28\u001b[0m \u001b[32m━━━━━━━━━━━━━━━━━━━━\u001b[0m\u001b[37m\u001b[0m \u001b[1m0s\u001b[0m 1ms/step - attrition_output_accuracy: 0.9265 - attrition_output_loss: 0.2191 - department_output_accuracy: 0.7383 - department_output_loss: 0.6023 - loss: 0.8215 - val_attrition_output_accuracy: 0.8281 - val_attrition_output_loss: 0.4728 - val_department_output_accuracy: 0.6109 - val_department_output_loss: 0.9096 - val_loss: 1.3840\n",
      "Epoch 16/100\n",
      "\u001b[1m28/28\u001b[0m \u001b[32m━━━━━━━━━━━━━━━━━━━━\u001b[0m\u001b[37m\u001b[0m \u001b[1m0s\u001b[0m 1ms/step - attrition_output_accuracy: 0.9350 - attrition_output_loss: 0.2154 - department_output_accuracy: 0.6915 - department_output_loss: 0.6611 - loss: 0.8762 - val_attrition_output_accuracy: 0.8371 - val_attrition_output_loss: 0.4926 - val_department_output_accuracy: 0.5973 - val_department_output_loss: 0.9099 - val_loss: 1.4041\n",
      "Epoch 17/100\n",
      "\u001b[1m28/28\u001b[0m \u001b[32m━━━━━━━━━━━━━━━━━━━━\u001b[0m\u001b[37m\u001b[0m \u001b[1m0s\u001b[0m 1ms/step - attrition_output_accuracy: 0.9131 - attrition_output_loss: 0.2263 - department_output_accuracy: 0.7366 - department_output_loss: 0.6211 - loss: 0.8474 - val_attrition_output_accuracy: 0.8371 - val_attrition_output_loss: 0.4710 - val_department_output_accuracy: 0.5475 - val_department_output_loss: 0.9180 - val_loss: 1.3906\n",
      "Epoch 18/100\n",
      "\u001b[1m28/28\u001b[0m \u001b[32m━━━━━━━━━━━━━━━━━━━━\u001b[0m\u001b[37m\u001b[0m \u001b[1m0s\u001b[0m 1ms/step - attrition_output_accuracy: 0.9194 - attrition_output_loss: 0.2403 - department_output_accuracy: 0.7510 - department_output_loss: 0.6223 - loss: 0.8621 - val_attrition_output_accuracy: 0.8371 - val_attrition_output_loss: 0.5121 - val_department_output_accuracy: 0.5973 - val_department_output_loss: 0.9279 - val_loss: 1.4415\n",
      "Epoch 19/100\n",
      "\u001b[1m28/28\u001b[0m \u001b[32m━━━━━━━━━━━━━━━━━━━━\u001b[0m\u001b[37m\u001b[0m \u001b[1m0s\u001b[0m 2ms/step - attrition_output_accuracy: 0.9097 - attrition_output_loss: 0.2355 - department_output_accuracy: 0.7452 - department_output_loss: 0.5924 - loss: 0.8279 - val_attrition_output_accuracy: 0.8416 - val_attrition_output_loss: 0.5099 - val_department_output_accuracy: 0.5882 - val_department_output_loss: 0.9351 - val_loss: 1.4469\n",
      "Epoch 20/100\n",
      "\u001b[1m28/28\u001b[0m \u001b[32m━━━━━━━━━━━━━━━━━━━━\u001b[0m\u001b[37m\u001b[0m \u001b[1m0s\u001b[0m 1ms/step - attrition_output_accuracy: 0.9336 - attrition_output_loss: 0.1879 - department_output_accuracy: 0.7635 - department_output_loss: 0.5933 - loss: 0.7811 - val_attrition_output_accuracy: 0.8326 - val_attrition_output_loss: 0.5164 - val_department_output_accuracy: 0.6154 - val_department_output_loss: 0.9559 - val_loss: 1.4736\n",
      "Epoch 21/100\n",
      "\u001b[1m28/28\u001b[0m \u001b[32m━━━━━━━━━━━━━━━━━━━━\u001b[0m\u001b[37m\u001b[0m \u001b[1m0s\u001b[0m 1ms/step - attrition_output_accuracy: 0.9360 - attrition_output_loss: 0.1962 - department_output_accuracy: 0.7576 - department_output_loss: 0.5769 - loss: 0.7726 - val_attrition_output_accuracy: 0.8326 - val_attrition_output_loss: 0.5006 - val_department_output_accuracy: 0.5701 - val_department_output_loss: 0.9456 - val_loss: 1.4481\n",
      "Epoch 22/100\n",
      "\u001b[1m28/28\u001b[0m \u001b[32m━━━━━━━━━━━━━━━━━━━━\u001b[0m\u001b[37m\u001b[0m \u001b[1m0s\u001b[0m 1ms/step - attrition_output_accuracy: 0.9241 - attrition_output_loss: 0.2071 - department_output_accuracy: 0.7438 - department_output_loss: 0.6061 - loss: 0.8132 - val_attrition_output_accuracy: 0.8326 - val_attrition_output_loss: 0.5019 - val_department_output_accuracy: 0.5837 - val_department_output_loss: 0.9805 - val_loss: 1.4844\n",
      "Epoch 23/100\n",
      "\u001b[1m28/28\u001b[0m \u001b[32m━━━━━━━━━━━━━━━━━━━━\u001b[0m\u001b[37m\u001b[0m \u001b[1m0s\u001b[0m 1ms/step - attrition_output_accuracy: 0.9221 - attrition_output_loss: 0.1921 - department_output_accuracy: 0.8045 - department_output_loss: 0.5127 - loss: 0.7049 - val_attrition_output_accuracy: 0.8326 - val_attrition_output_loss: 0.5366 - val_department_output_accuracy: 0.5701 - val_department_output_loss: 0.9610 - val_loss: 1.4988\n",
      "Epoch 24/100\n",
      "\u001b[1m28/28\u001b[0m \u001b[32m━━━━━━━━━━━━━━━━━━━━\u001b[0m\u001b[37m\u001b[0m \u001b[1m0s\u001b[0m 1ms/step - attrition_output_accuracy: 0.9201 - attrition_output_loss: 0.1925 - department_output_accuracy: 0.8143 - department_output_loss: 0.4894 - loss: 0.6816 - val_attrition_output_accuracy: 0.8326 - val_attrition_output_loss: 0.5387 - val_department_output_accuracy: 0.5882 - val_department_output_loss: 0.9885 - val_loss: 1.5287\n",
      "Epoch 25/100\n",
      "\u001b[1m28/28\u001b[0m \u001b[32m━━━━━━━━━━━━━━━━━━━━\u001b[0m\u001b[37m\u001b[0m \u001b[1m0s\u001b[0m 1ms/step - attrition_output_accuracy: 0.9325 - attrition_output_loss: 0.1788 - department_output_accuracy: 0.7932 - department_output_loss: 0.5359 - loss: 0.7149 - val_attrition_output_accuracy: 0.8371 - val_attrition_output_loss: 0.5310 - val_department_output_accuracy: 0.5701 - val_department_output_loss: 1.0081 - val_loss: 1.5416\n",
      "Epoch 26/100\n",
      "\u001b[1m28/28\u001b[0m \u001b[32m━━━━━━━━━━━━━━━━━━━━\u001b[0m\u001b[37m\u001b[0m \u001b[1m0s\u001b[0m 1ms/step - attrition_output_accuracy: 0.9336 - attrition_output_loss: 0.1825 - department_output_accuracy: 0.7772 - department_output_loss: 0.5175 - loss: 0.6997 - val_attrition_output_accuracy: 0.8371 - val_attrition_output_loss: 0.6009 - val_department_output_accuracy: 0.5837 - val_department_output_loss: 1.0175 - val_loss: 1.6201\n",
      "Epoch 27/100\n",
      "\u001b[1m28/28\u001b[0m \u001b[32m━━━━━━━━━━━━━━━━━━━━\u001b[0m\u001b[37m\u001b[0m \u001b[1m0s\u001b[0m 1ms/step - attrition_output_accuracy: 0.9258 - attrition_output_loss: 0.1503 - department_output_accuracy: 0.8003 - department_output_loss: 0.4986 - loss: 0.6486 - val_attrition_output_accuracy: 0.8281 - val_attrition_output_loss: 0.5939 - val_department_output_accuracy: 0.5520 - val_department_output_loss: 1.0521 - val_loss: 1.6481\n",
      "Epoch 28/100\n",
      "\u001b[1m28/28\u001b[0m \u001b[32m━━━━━━━━━━━━━━━━━━━━\u001b[0m\u001b[37m\u001b[0m \u001b[1m0s\u001b[0m 1ms/step - attrition_output_accuracy: 0.9401 - attrition_output_loss: 0.1562 - department_output_accuracy: 0.8323 - department_output_loss: 0.4728 - loss: 0.6290 - val_attrition_output_accuracy: 0.8326 - val_attrition_output_loss: 0.5484 - val_department_output_accuracy: 0.5656 - val_department_output_loss: 1.0166 - val_loss: 1.5663\n",
      "Epoch 29/100\n",
      "\u001b[1m28/28\u001b[0m \u001b[32m━━━━━━━━━━━━━━━━━━━━\u001b[0m\u001b[37m\u001b[0m \u001b[1m0s\u001b[0m 1ms/step - attrition_output_accuracy: 0.9162 - attrition_output_loss: 0.1743 - department_output_accuracy: 0.8309 - department_output_loss: 0.4678 - loss: 0.6418 - val_attrition_output_accuracy: 0.8100 - val_attrition_output_loss: 0.6289 - val_department_output_accuracy: 0.5747 - val_department_output_loss: 1.0414 - val_loss: 1.6715\n",
      "Epoch 30/100\n",
      "\u001b[1m28/28\u001b[0m \u001b[32m━━━━━━━━━━━━━━━━━━━━\u001b[0m\u001b[37m\u001b[0m \u001b[1m0s\u001b[0m 1ms/step - attrition_output_accuracy: 0.9501 - attrition_output_loss: 0.1422 - department_output_accuracy: 0.8284 - department_output_loss: 0.4671 - loss: 0.6093 - val_attrition_output_accuracy: 0.8235 - val_attrition_output_loss: 0.5619 - val_department_output_accuracy: 0.5656 - val_department_output_loss: 1.0774 - val_loss: 1.6418\n",
      "Epoch 31/100\n",
      "\u001b[1m28/28\u001b[0m \u001b[32m━━━━━━━━━━━━━━━━━━━━\u001b[0m\u001b[37m\u001b[0m \u001b[1m0s\u001b[0m 1ms/step - attrition_output_accuracy: 0.9630 - attrition_output_loss: 0.1384 - department_output_accuracy: 0.8500 - department_output_loss: 0.4257 - loss: 0.5639 - val_attrition_output_accuracy: 0.8100 - val_attrition_output_loss: 0.6050 - val_department_output_accuracy: 0.5747 - val_department_output_loss: 1.0821 - val_loss: 1.6892\n",
      "Epoch 32/100\n",
      "\u001b[1m28/28\u001b[0m \u001b[32m━━━━━━━━━━━━━━━━━━━━\u001b[0m\u001b[37m\u001b[0m \u001b[1m0s\u001b[0m 1ms/step - attrition_output_accuracy: 0.9581 - attrition_output_loss: 0.1275 - department_output_accuracy: 0.8525 - department_output_loss: 0.4108 - loss: 0.5384 - val_attrition_output_accuracy: 0.8281 - val_attrition_output_loss: 0.6511 - val_department_output_accuracy: 0.5520 - val_department_output_loss: 1.0931 - val_loss: 1.7465\n",
      "Epoch 33/100\n",
      "\u001b[1m28/28\u001b[0m \u001b[32m━━━━━━━━━━━━━━━━━━━━\u001b[0m\u001b[37m\u001b[0m \u001b[1m0s\u001b[0m 1ms/step - attrition_output_accuracy: 0.9455 - attrition_output_loss: 0.1366 - department_output_accuracy: 0.8713 - department_output_loss: 0.4027 - loss: 0.5392 - val_attrition_output_accuracy: 0.8009 - val_attrition_output_loss: 0.6426 - val_department_output_accuracy: 0.5249 - val_department_output_loss: 1.1610 - val_loss: 1.8077\n",
      "Epoch 34/100\n",
      "\u001b[1m28/28\u001b[0m \u001b[32m━━━━━━━━━━━━━━━━━━━━\u001b[0m\u001b[37m\u001b[0m \u001b[1m0s\u001b[0m 1ms/step - attrition_output_accuracy: 0.9553 - attrition_output_loss: 0.1165 - department_output_accuracy: 0.8560 - department_output_loss: 0.3957 - loss: 0.5123 - val_attrition_output_accuracy: 0.8235 - val_attrition_output_loss: 0.6768 - val_department_output_accuracy: 0.5701 - val_department_output_loss: 1.1309 - val_loss: 1.8100\n",
      "Epoch 35/100\n",
      "\u001b[1m28/28\u001b[0m \u001b[32m━━━━━━━━━━━━━━━━━━━━\u001b[0m\u001b[37m\u001b[0m \u001b[1m0s\u001b[0m 1ms/step - attrition_output_accuracy: 0.9571 - attrition_output_loss: 0.1311 - department_output_accuracy: 0.8683 - department_output_loss: 0.3838 - loss: 0.5149 - val_attrition_output_accuracy: 0.8145 - val_attrition_output_loss: 0.6660 - val_department_output_accuracy: 0.5928 - val_department_output_loss: 1.1637 - val_loss: 1.8321\n",
      "Epoch 36/100\n",
      "\u001b[1m28/28\u001b[0m \u001b[32m━━━━━━━━━━━━━━━━━━━━\u001b[0m\u001b[37m\u001b[0m \u001b[1m0s\u001b[0m 2ms/step - attrition_output_accuracy: 0.9631 - attrition_output_loss: 0.1204 - department_output_accuracy: 0.8492 - department_output_loss: 0.3849 - loss: 0.5055 - val_attrition_output_accuracy: 0.8054 - val_attrition_output_loss: 0.7307 - val_department_output_accuracy: 0.5204 - val_department_output_loss: 1.2308 - val_loss: 1.9648\n",
      "Epoch 37/100\n",
      "\u001b[1m28/28\u001b[0m \u001b[32m━━━━━━━━━━━━━━━━━━━━\u001b[0m\u001b[37m\u001b[0m \u001b[1m0s\u001b[0m 1ms/step - attrition_output_accuracy: 0.9683 - attrition_output_loss: 0.1146 - department_output_accuracy: 0.8793 - department_output_loss: 0.3588 - loss: 0.4735 - val_attrition_output_accuracy: 0.8054 - val_attrition_output_loss: 0.7408 - val_department_output_accuracy: 0.5928 - val_department_output_loss: 1.2035 - val_loss: 1.9458\n",
      "Epoch 38/100\n",
      "\u001b[1m28/28\u001b[0m \u001b[32m━━━━━━━━━━━━━━━━━━━━\u001b[0m\u001b[37m\u001b[0m \u001b[1m0s\u001b[0m 1ms/step - attrition_output_accuracy: 0.9521 - attrition_output_loss: 0.1017 - department_output_accuracy: 0.8704 - department_output_loss: 0.3632 - loss: 0.4647 - val_attrition_output_accuracy: 0.8281 - val_attrition_output_loss: 0.6795 - val_department_output_accuracy: 0.5747 - val_department_output_loss: 1.1787 - val_loss: 1.8608\n",
      "Epoch 39/100\n",
      "\u001b[1m28/28\u001b[0m \u001b[32m━━━━━━━━━━━━━━━━━━━━\u001b[0m\u001b[37m\u001b[0m \u001b[1m0s\u001b[0m 1ms/step - attrition_output_accuracy: 0.9589 - attrition_output_loss: 0.0997 - department_output_accuracy: 0.9036 - department_output_loss: 0.3064 - loss: 0.4062 - val_attrition_output_accuracy: 0.8145 - val_attrition_output_loss: 0.7947 - val_department_output_accuracy: 0.5023 - val_department_output_loss: 1.2482 - val_loss: 2.0452\n",
      "Epoch 40/100\n",
      "\u001b[1m28/28\u001b[0m \u001b[32m━━━━━━━━━━━━━━━━━━━━\u001b[0m\u001b[37m\u001b[0m \u001b[1m0s\u001b[0m 1ms/step - attrition_output_accuracy: 0.9634 - attrition_output_loss: 0.0988 - department_output_accuracy: 0.8957 - department_output_loss: 0.3165 - loss: 0.4152 - val_attrition_output_accuracy: 0.8145 - val_attrition_output_loss: 0.7590 - val_department_output_accuracy: 0.5611 - val_department_output_loss: 1.2246 - val_loss: 1.9867\n",
      "Epoch 41/100\n",
      "\u001b[1m28/28\u001b[0m \u001b[32m━━━━━━━━━━━━━━━━━━━━\u001b[0m\u001b[37m\u001b[0m \u001b[1m0s\u001b[0m 1ms/step - attrition_output_accuracy: 0.9746 - attrition_output_loss: 0.0889 - department_output_accuracy: 0.8971 - department_output_loss: 0.2989 - loss: 0.3878 - val_attrition_output_accuracy: 0.8190 - val_attrition_output_loss: 0.7853 - val_department_output_accuracy: 0.5701 - val_department_output_loss: 1.3141 - val_loss: 2.1028\n",
      "Epoch 42/100\n",
      "\u001b[1m28/28\u001b[0m \u001b[32m━━━━━━━━━━━━━━━━━━━━\u001b[0m\u001b[37m\u001b[0m \u001b[1m0s\u001b[0m 1ms/step - attrition_output_accuracy: 0.9845 - attrition_output_loss: 0.0711 - department_output_accuracy: 0.9137 - department_output_loss: 0.2753 - loss: 0.3462 - val_attrition_output_accuracy: 0.8100 - val_attrition_output_loss: 0.8261 - val_department_output_accuracy: 0.5430 - val_department_output_loss: 1.3482 - val_loss: 2.1774\n",
      "Epoch 43/100\n",
      "\u001b[1m28/28\u001b[0m \u001b[32m━━━━━━━━━━━━━━━━━━━━\u001b[0m\u001b[37m\u001b[0m \u001b[1m0s\u001b[0m 1ms/step - attrition_output_accuracy: 0.9783 - attrition_output_loss: 0.0941 - department_output_accuracy: 0.9263 - department_output_loss: 0.2646 - loss: 0.3589 - val_attrition_output_accuracy: 0.8145 - val_attrition_output_loss: 0.8695 - val_department_output_accuracy: 0.5294 - val_department_output_loss: 1.3118 - val_loss: 2.1844\n",
      "Epoch 44/100\n",
      "\u001b[1m28/28\u001b[0m \u001b[32m━━━━━━━━━━━━━━━━━━━━\u001b[0m\u001b[37m\u001b[0m \u001b[1m0s\u001b[0m 2ms/step - attrition_output_accuracy: 0.9851 - attrition_output_loss: 0.0587 - department_output_accuracy: 0.9177 - department_output_loss: 0.2560 - loss: 0.3147 - val_attrition_output_accuracy: 0.8190 - val_attrition_output_loss: 0.8901 - val_department_output_accuracy: 0.5385 - val_department_output_loss: 1.3776 - val_loss: 2.2696\n",
      "Epoch 45/100\n",
      "\u001b[1m28/28\u001b[0m \u001b[32m━━━━━━━━━━━━━━━━━━━━\u001b[0m\u001b[37m\u001b[0m \u001b[1m0s\u001b[0m 1ms/step - attrition_output_accuracy: 0.9806 - attrition_output_loss: 0.0682 - department_output_accuracy: 0.9353 - department_output_loss: 0.2389 - loss: 0.3072 - val_attrition_output_accuracy: 0.8100 - val_attrition_output_loss: 0.8569 - val_department_output_accuracy: 0.5204 - val_department_output_loss: 1.3688 - val_loss: 2.2291\n",
      "Epoch 46/100\n",
      "\u001b[1m28/28\u001b[0m \u001b[32m━━━━━━━━━━━━━━━━━━━━\u001b[0m\u001b[37m\u001b[0m \u001b[1m0s\u001b[0m 1ms/step - attrition_output_accuracy: 0.9888 - attrition_output_loss: 0.0585 - department_output_accuracy: 0.9230 - department_output_loss: 0.2463 - loss: 0.3048 - val_attrition_output_accuracy: 0.8100 - val_attrition_output_loss: 0.9167 - val_department_output_accuracy: 0.5339 - val_department_output_loss: 1.3769 - val_loss: 2.2969\n",
      "Epoch 47/100\n",
      "\u001b[1m28/28\u001b[0m \u001b[32m━━━━━━━━━━━━━━━━━━━━\u001b[0m\u001b[37m\u001b[0m \u001b[1m0s\u001b[0m 1ms/step - attrition_output_accuracy: 0.9867 - attrition_output_loss: 0.0595 - department_output_accuracy: 0.9336 - department_output_loss: 0.2248 - loss: 0.2844 - val_attrition_output_accuracy: 0.8145 - val_attrition_output_loss: 0.9720 - val_department_output_accuracy: 0.5249 - val_department_output_loss: 1.4400 - val_loss: 2.4151\n",
      "Epoch 48/100\n",
      "\u001b[1m28/28\u001b[0m \u001b[32m━━━━━━━━━━━━━━━━━━━━\u001b[0m\u001b[37m\u001b[0m \u001b[1m0s\u001b[0m 1ms/step - attrition_output_accuracy: 0.9841 - attrition_output_loss: 0.0620 - department_output_accuracy: 0.9384 - department_output_loss: 0.2157 - loss: 0.2777 - val_attrition_output_accuracy: 0.8009 - val_attrition_output_loss: 0.9138 - val_department_output_accuracy: 0.5249 - val_department_output_loss: 1.4426 - val_loss: 2.3601\n",
      "Epoch 49/100\n",
      "\u001b[1m28/28\u001b[0m \u001b[32m━━━━━━━━━━━━━━━━━━━━\u001b[0m\u001b[37m\u001b[0m \u001b[1m0s\u001b[0m 1ms/step - attrition_output_accuracy: 0.9863 - attrition_output_loss: 0.0450 - department_output_accuracy: 0.9355 - department_output_loss: 0.2122 - loss: 0.2572 - val_attrition_output_accuracy: 0.8100 - val_attrition_output_loss: 0.9837 - val_department_output_accuracy: 0.5158 - val_department_output_loss: 1.5175 - val_loss: 2.5054\n",
      "Epoch 50/100\n",
      "\u001b[1m28/28\u001b[0m \u001b[32m━━━━━━━━━━━━━━━━━━━━\u001b[0m\u001b[37m\u001b[0m \u001b[1m0s\u001b[0m 2ms/step - attrition_output_accuracy: 0.9839 - attrition_output_loss: 0.0713 - department_output_accuracy: 0.9415 - department_output_loss: 0.2022 - loss: 0.2734 - val_attrition_output_accuracy: 0.8145 - val_attrition_output_loss: 0.9725 - val_department_output_accuracy: 0.5430 - val_department_output_loss: 1.5770 - val_loss: 2.5523\n",
      "Epoch 51/100\n",
      "\u001b[1m28/28\u001b[0m \u001b[32m━━━━━━━━━━━━━━━━━━━━\u001b[0m\u001b[37m\u001b[0m \u001b[1m0s\u001b[0m 1ms/step - attrition_output_accuracy: 0.9862 - attrition_output_loss: 0.0574 - department_output_accuracy: 0.9234 - department_output_loss: 0.2098 - loss: 0.2671 - val_attrition_output_accuracy: 0.8235 - val_attrition_output_loss: 1.0012 - val_department_output_accuracy: 0.5475 - val_department_output_loss: 1.5286 - val_loss: 2.5344\n",
      "Epoch 52/100\n",
      "\u001b[1m28/28\u001b[0m \u001b[32m━━━━━━━━━━━━━━━━━━━━\u001b[0m\u001b[37m\u001b[0m \u001b[1m0s\u001b[0m 1ms/step - attrition_output_accuracy: 0.9924 - attrition_output_loss: 0.0386 - department_output_accuracy: 0.9539 - department_output_loss: 0.1796 - loss: 0.2182 - val_attrition_output_accuracy: 0.8100 - val_attrition_output_loss: 1.0515 - val_department_output_accuracy: 0.5113 - val_department_output_loss: 1.5859 - val_loss: 2.6416\n",
      "Epoch 53/100\n",
      "\u001b[1m28/28\u001b[0m \u001b[32m━━━━━━━━━━━━━━━━━━━━\u001b[0m\u001b[37m\u001b[0m \u001b[1m0s\u001b[0m 1ms/step - attrition_output_accuracy: 0.9932 - attrition_output_loss: 0.0442 - department_output_accuracy: 0.9573 - department_output_loss: 0.1670 - loss: 0.2110 - val_attrition_output_accuracy: 0.8190 - val_attrition_output_loss: 1.0682 - val_department_output_accuracy: 0.5339 - val_department_output_loss: 1.5970 - val_loss: 2.6683\n",
      "Epoch 54/100\n",
      "\u001b[1m28/28\u001b[0m \u001b[32m━━━━━━━━━━━━━━━━━━━━\u001b[0m\u001b[37m\u001b[0m \u001b[1m0s\u001b[0m 2ms/step - attrition_output_accuracy: 0.9927 - attrition_output_loss: 0.0350 - department_output_accuracy: 0.9655 - department_output_loss: 0.1494 - loss: 0.1844 - val_attrition_output_accuracy: 0.8145 - val_attrition_output_loss: 1.0697 - val_department_output_accuracy: 0.5204 - val_department_output_loss: 1.6179 - val_loss: 2.6911\n",
      "Epoch 55/100\n",
      "\u001b[1m28/28\u001b[0m \u001b[32m━━━━━━━━━━━━━━━━━━━━\u001b[0m\u001b[37m\u001b[0m \u001b[1m0s\u001b[0m 1ms/step - attrition_output_accuracy: 0.9910 - attrition_output_loss: 0.0373 - department_output_accuracy: 0.9452 - department_output_loss: 0.1915 - loss: 0.2285 - val_attrition_output_accuracy: 0.8190 - val_attrition_output_loss: 1.1320 - val_department_output_accuracy: 0.5158 - val_department_output_loss: 1.6507 - val_loss: 2.7863\n",
      "Epoch 56/100\n",
      "\u001b[1m28/28\u001b[0m \u001b[32m━━━━━━━━━━━━━━━━━━━━\u001b[0m\u001b[37m\u001b[0m \u001b[1m0s\u001b[0m 1ms/step - attrition_output_accuracy: 0.9941 - attrition_output_loss: 0.0310 - department_output_accuracy: 0.9738 - department_output_loss: 0.1410 - loss: 0.1718 - val_attrition_output_accuracy: 0.8281 - val_attrition_output_loss: 1.1333 - val_department_output_accuracy: 0.5204 - val_department_output_loss: 1.6671 - val_loss: 2.8039\n",
      "Epoch 57/100\n",
      "\u001b[1m28/28\u001b[0m \u001b[32m━━━━━━━━━━━━━━━━━━━━\u001b[0m\u001b[37m\u001b[0m \u001b[1m0s\u001b[0m 1ms/step - attrition_output_accuracy: 0.9973 - attrition_output_loss: 0.0352 - department_output_accuracy: 0.9754 - department_output_loss: 0.1228 - loss: 0.1581 - val_attrition_output_accuracy: 0.8100 - val_attrition_output_loss: 1.1850 - val_department_output_accuracy: 0.5068 - val_department_output_loss: 1.6994 - val_loss: 2.8893\n",
      "Epoch 58/100\n",
      "\u001b[1m28/28\u001b[0m \u001b[32m━━━━━━━━━━━━━━━━━━━━\u001b[0m\u001b[37m\u001b[0m \u001b[1m0s\u001b[0m 1ms/step - attrition_output_accuracy: 0.9960 - attrition_output_loss: 0.0294 - department_output_accuracy: 0.9834 - department_output_loss: 0.1241 - loss: 0.1534 - val_attrition_output_accuracy: 0.8235 - val_attrition_output_loss: 1.2058 - val_department_output_accuracy: 0.4887 - val_department_output_loss: 1.7981 - val_loss: 3.0086\n",
      "Epoch 59/100\n",
      "\u001b[1m28/28\u001b[0m \u001b[32m━━━━━━━━━━━━━━━━━━━━\u001b[0m\u001b[37m\u001b[0m \u001b[1m0s\u001b[0m 1ms/step - attrition_output_accuracy: 0.9969 - attrition_output_loss: 0.0247 - department_output_accuracy: 0.9654 - department_output_loss: 0.1289 - loss: 0.1537 - val_attrition_output_accuracy: 0.7964 - val_attrition_output_loss: 1.2069 - val_department_output_accuracy: 0.5113 - val_department_output_loss: 1.8002 - val_loss: 3.0123\n",
      "Epoch 60/100\n",
      "\u001b[1m28/28\u001b[0m \u001b[32m━━━━━━━━━━━━━━━━━━━━\u001b[0m\u001b[37m\u001b[0m \u001b[1m0s\u001b[0m 2ms/step - attrition_output_accuracy: 0.9934 - attrition_output_loss: 0.0346 - department_output_accuracy: 0.9693 - department_output_loss: 0.1286 - loss: 0.1632 - val_attrition_output_accuracy: 0.8145 - val_attrition_output_loss: 1.2708 - val_department_output_accuracy: 0.5294 - val_department_output_loss: 1.7659 - val_loss: 3.0409\n",
      "Epoch 61/100\n",
      "\u001b[1m28/28\u001b[0m \u001b[32m━━━━━━━━━━━━━━━━━━━━\u001b[0m\u001b[37m\u001b[0m \u001b[1m0s\u001b[0m 1ms/step - attrition_output_accuracy: 0.9961 - attrition_output_loss: 0.0208 - department_output_accuracy: 0.9895 - department_output_loss: 0.1069 - loss: 0.1277 - val_attrition_output_accuracy: 0.8054 - val_attrition_output_loss: 1.2788 - val_department_output_accuracy: 0.5385 - val_department_output_loss: 1.8201 - val_loss: 3.1046\n",
      "Epoch 62/100\n",
      "\u001b[1m28/28\u001b[0m \u001b[32m━━━━━━━━━━━━━━━━━━━━\u001b[0m\u001b[37m\u001b[0m \u001b[1m0s\u001b[0m 1ms/step - attrition_output_accuracy: 0.9963 - attrition_output_loss: 0.0206 - department_output_accuracy: 0.9877 - department_output_loss: 0.0978 - loss: 0.1183 - val_attrition_output_accuracy: 0.8054 - val_attrition_output_loss: 1.2809 - val_department_output_accuracy: 0.5158 - val_department_output_loss: 1.8630 - val_loss: 3.1483\n",
      "Epoch 63/100\n",
      "\u001b[1m28/28\u001b[0m \u001b[32m━━━━━━━━━━━━━━━━━━━━\u001b[0m\u001b[37m\u001b[0m \u001b[1m0s\u001b[0m 1ms/step - attrition_output_accuracy: 0.9940 - attrition_output_loss: 0.0222 - department_output_accuracy: 0.9855 - department_output_loss: 0.0939 - loss: 0.1161 - val_attrition_output_accuracy: 0.8145 - val_attrition_output_loss: 1.3309 - val_department_output_accuracy: 0.5294 - val_department_output_loss: 1.9272 - val_loss: 3.2649\n",
      "Epoch 64/100\n",
      "\u001b[1m28/28\u001b[0m \u001b[32m━━━━━━━━━━━━━━━━━━━━\u001b[0m\u001b[37m\u001b[0m \u001b[1m0s\u001b[0m 1ms/step - attrition_output_accuracy: 0.9928 - attrition_output_loss: 0.0211 - department_output_accuracy: 0.9870 - department_output_loss: 0.0862 - loss: 0.1072 - val_attrition_output_accuracy: 0.8100 - val_attrition_output_loss: 1.3379 - val_department_output_accuracy: 0.5385 - val_department_output_loss: 1.9365 - val_loss: 3.2810\n",
      "Epoch 65/100\n",
      "\u001b[1m28/28\u001b[0m \u001b[32m━━━━━━━━━━━━━━━━━━━━\u001b[0m\u001b[37m\u001b[0m \u001b[1m0s\u001b[0m 2ms/step - attrition_output_accuracy: 0.9967 - attrition_output_loss: 0.0181 - department_output_accuracy: 0.9835 - department_output_loss: 0.0988 - loss: 0.1169 - val_attrition_output_accuracy: 0.8326 - val_attrition_output_loss: 1.3996 - val_department_output_accuracy: 0.4932 - val_department_output_loss: 1.9294 - val_loss: 3.3346\n",
      "Epoch 66/100\n",
      "\u001b[1m28/28\u001b[0m \u001b[32m━━━━━━━━━━━━━━━━━━━━\u001b[0m\u001b[37m\u001b[0m \u001b[1m0s\u001b[0m 1ms/step - attrition_output_accuracy: 0.9956 - attrition_output_loss: 0.0187 - department_output_accuracy: 0.9936 - department_output_loss: 0.0819 - loss: 0.1006 - val_attrition_output_accuracy: 0.8054 - val_attrition_output_loss: 1.3680 - val_department_output_accuracy: 0.5294 - val_department_output_loss: 2.0157 - val_loss: 3.3917\n",
      "Epoch 67/100\n",
      "\u001b[1m28/28\u001b[0m \u001b[32m━━━━━━━━━━━━━━━━━━━━\u001b[0m\u001b[37m\u001b[0m \u001b[1m0s\u001b[0m 1ms/step - attrition_output_accuracy: 0.9955 - attrition_output_loss: 0.0193 - department_output_accuracy: 0.9849 - department_output_loss: 0.0765 - loss: 0.0959 - val_attrition_output_accuracy: 0.8100 - val_attrition_output_loss: 1.4442 - val_department_output_accuracy: 0.5294 - val_department_output_loss: 2.0594 - val_loss: 3.5088\n",
      "Epoch 68/100\n",
      "\u001b[1m28/28\u001b[0m \u001b[32m━━━━━━━━━━━━━━━━━━━━\u001b[0m\u001b[37m\u001b[0m \u001b[1m0s\u001b[0m 1ms/step - attrition_output_accuracy: 0.9983 - attrition_output_loss: 0.0134 - department_output_accuracy: 0.9877 - department_output_loss: 0.0713 - loss: 0.0848 - val_attrition_output_accuracy: 0.8054 - val_attrition_output_loss: 1.4506 - val_department_output_accuracy: 0.4887 - val_department_output_loss: 2.0616 - val_loss: 3.5180\n",
      "Epoch 69/100\n",
      "\u001b[1m28/28\u001b[0m \u001b[32m━━━━━━━━━━━━━━━━━━━━\u001b[0m\u001b[37m\u001b[0m \u001b[1m0s\u001b[0m 1ms/step - attrition_output_accuracy: 0.9980 - attrition_output_loss: 0.0140 - department_output_accuracy: 0.9917 - department_output_loss: 0.0757 - loss: 0.0897 - val_attrition_output_accuracy: 0.8054 - val_attrition_output_loss: 1.4701 - val_department_output_accuracy: 0.4932 - val_department_output_loss: 2.1207 - val_loss: 3.5974\n",
      "Epoch 70/100\n",
      "\u001b[1m28/28\u001b[0m \u001b[32m━━━━━━━━━━━━━━━━━━━━\u001b[0m\u001b[37m\u001b[0m \u001b[1m0s\u001b[0m 2ms/step - attrition_output_accuracy: 0.9983 - attrition_output_loss: 0.0133 - department_output_accuracy: 0.9887 - department_output_loss: 0.0668 - loss: 0.0801 - val_attrition_output_accuracy: 0.8054 - val_attrition_output_loss: 1.4862 - val_department_output_accuracy: 0.4842 - val_department_output_loss: 2.1374 - val_loss: 3.6284\n",
      "Epoch 71/100\n",
      "\u001b[1m28/28\u001b[0m \u001b[32m━━━━━━━━━━━━━━━━━━━━\u001b[0m\u001b[37m\u001b[0m \u001b[1m0s\u001b[0m 1ms/step - attrition_output_accuracy: 1.0000 - attrition_output_loss: 0.0108 - department_output_accuracy: 0.9886 - department_output_loss: 0.0744 - loss: 0.0852 - val_attrition_output_accuracy: 0.8100 - val_attrition_output_loss: 1.5145 - val_department_output_accuracy: 0.5204 - val_department_output_loss: 2.1156 - val_loss: 3.6368\n",
      "Epoch 72/100\n",
      "\u001b[1m28/28\u001b[0m \u001b[32m━━━━━━━━━━━━━━━━━━━━\u001b[0m\u001b[37m\u001b[0m \u001b[1m0s\u001b[0m 1ms/step - attrition_output_accuracy: 0.9999 - attrition_output_loss: 0.0109 - department_output_accuracy: 0.9910 - department_output_loss: 0.0589 - loss: 0.0698 - val_attrition_output_accuracy: 0.8009 - val_attrition_output_loss: 1.4835 - val_department_output_accuracy: 0.5204 - val_department_output_loss: 2.1745 - val_loss: 3.6638\n",
      "Epoch 73/100\n",
      "\u001b[1m28/28\u001b[0m \u001b[32m━━━━━━━━━━━━━━━━━━━━\u001b[0m\u001b[37m\u001b[0m \u001b[1m0s\u001b[0m 1ms/step - attrition_output_accuracy: 0.9976 - attrition_output_loss: 0.0130 - department_output_accuracy: 0.9951 - department_output_loss: 0.0702 - loss: 0.0832 - val_attrition_output_accuracy: 0.8190 - val_attrition_output_loss: 1.5690 - val_department_output_accuracy: 0.5294 - val_department_output_loss: 2.2513 - val_loss: 3.8247\n",
      "Epoch 74/100\n",
      "\u001b[1m28/28\u001b[0m \u001b[32m━━━━━━━━━━━━━━━━━━━━\u001b[0m\u001b[37m\u001b[0m \u001b[1m0s\u001b[0m 1ms/step - attrition_output_accuracy: 1.0000 - attrition_output_loss: 0.0182 - department_output_accuracy: 0.9849 - department_output_loss: 0.0589 - loss: 0.0770 - val_attrition_output_accuracy: 0.8145 - val_attrition_output_loss: 1.6012 - val_department_output_accuracy: 0.5113 - val_department_output_loss: 2.2409 - val_loss: 3.8501\n",
      "Epoch 75/100\n",
      "\u001b[1m28/28\u001b[0m \u001b[32m━━━━━━━━━━━━━━━━━━━━\u001b[0m\u001b[37m\u001b[0m \u001b[1m0s\u001b[0m 2ms/step - attrition_output_accuracy: 0.9994 - attrition_output_loss: 0.0107 - department_output_accuracy: 0.9952 - department_output_loss: 0.0559 - loss: 0.0666 - val_attrition_output_accuracy: 0.8235 - val_attrition_output_loss: 1.5953 - val_department_output_accuracy: 0.5249 - val_department_output_loss: 2.2963 - val_loss: 3.8980\n",
      "Epoch 76/100\n",
      "\u001b[1m28/28\u001b[0m \u001b[32m━━━━━━━━━━━━━━━━━━━━\u001b[0m\u001b[37m\u001b[0m \u001b[1m0s\u001b[0m 1ms/step - attrition_output_accuracy: 0.9975 - attrition_output_loss: 0.0111 - department_output_accuracy: 0.9984 - department_output_loss: 0.0519 - loss: 0.0630 - val_attrition_output_accuracy: 0.8009 - val_attrition_output_loss: 1.6458 - val_department_output_accuracy: 0.5113 - val_department_output_loss: 2.2638 - val_loss: 3.9167\n",
      "Epoch 77/100\n",
      "\u001b[1m28/28\u001b[0m \u001b[32m━━━━━━━━━━━━━━━━━━━━\u001b[0m\u001b[37m\u001b[0m \u001b[1m0s\u001b[0m 1ms/step - attrition_output_accuracy: 1.0000 - attrition_output_loss: 0.0094 - department_output_accuracy: 0.9948 - department_output_loss: 0.0433 - loss: 0.0527 - val_attrition_output_accuracy: 0.8190 - val_attrition_output_loss: 1.6592 - val_department_output_accuracy: 0.5113 - val_department_output_loss: 2.3037 - val_loss: 3.9690\n",
      "Epoch 78/100\n",
      "\u001b[1m28/28\u001b[0m \u001b[32m━━━━━━━━━━━━━━━━━━━━\u001b[0m\u001b[37m\u001b[0m \u001b[1m0s\u001b[0m 1ms/step - attrition_output_accuracy: 0.9968 - attrition_output_loss: 0.0101 - department_output_accuracy: 0.9943 - department_output_loss: 0.0452 - loss: 0.0553 - val_attrition_output_accuracy: 0.8100 - val_attrition_output_loss: 1.6626 - val_department_output_accuracy: 0.5204 - val_department_output_loss: 2.3361 - val_loss: 4.0059\n",
      "Epoch 79/100\n",
      "\u001b[1m28/28\u001b[0m \u001b[32m━━━━━━━━━━━━━━━━━━━━\u001b[0m\u001b[37m\u001b[0m \u001b[1m0s\u001b[0m 1ms/step - attrition_output_accuracy: 0.9953 - attrition_output_loss: 0.0141 - department_output_accuracy: 0.9943 - department_output_loss: 0.0472 - loss: 0.0613 - val_attrition_output_accuracy: 0.7964 - val_attrition_output_loss: 1.8403 - val_department_output_accuracy: 0.5158 - val_department_output_loss: 2.3533 - val_loss: 4.2006\n",
      "Epoch 80/100\n",
      "\u001b[1m28/28\u001b[0m \u001b[32m━━━━━━━━━━━━━━━━━━━━\u001b[0m\u001b[37m\u001b[0m \u001b[1m0s\u001b[0m 2ms/step - attrition_output_accuracy: 0.9902 - attrition_output_loss: 0.0237 - department_output_accuracy: 0.9930 - department_output_loss: 0.0390 - loss: 0.0626 - val_attrition_output_accuracy: 0.8054 - val_attrition_output_loss: 1.7241 - val_department_output_accuracy: 0.4977 - val_department_output_loss: 2.3999 - val_loss: 4.1320\n",
      "Epoch 81/100\n",
      "\u001b[1m28/28\u001b[0m \u001b[32m━━━━━━━━━━━━━━━━━━━━\u001b[0m\u001b[37m\u001b[0m \u001b[1m0s\u001b[0m 1ms/step - attrition_output_accuracy: 0.9987 - attrition_output_loss: 0.0108 - department_output_accuracy: 0.9961 - department_output_loss: 0.0463 - loss: 0.0571 - val_attrition_output_accuracy: 0.8190 - val_attrition_output_loss: 1.6937 - val_department_output_accuracy: 0.5204 - val_department_output_loss: 2.4814 - val_loss: 4.1837\n",
      "Epoch 82/100\n",
      "\u001b[1m28/28\u001b[0m \u001b[32m━━━━━━━━━━━━━━━━━━━━\u001b[0m\u001b[37m\u001b[0m \u001b[1m0s\u001b[0m 1ms/step - attrition_output_accuracy: 0.9994 - attrition_output_loss: 0.0073 - department_output_accuracy: 0.9930 - department_output_loss: 0.0465 - loss: 0.0537 - val_attrition_output_accuracy: 0.8009 - val_attrition_output_loss: 1.7446 - val_department_output_accuracy: 0.5158 - val_department_output_loss: 2.4180 - val_loss: 4.1704\n",
      "Epoch 83/100\n",
      "\u001b[1m28/28\u001b[0m \u001b[32m━━━━━━━━━━━━━━━━━━━━\u001b[0m\u001b[37m\u001b[0m \u001b[1m0s\u001b[0m 1ms/step - attrition_output_accuracy: 0.9926 - attrition_output_loss: 0.0198 - department_output_accuracy: 0.9950 - department_output_loss: 0.0428 - loss: 0.0626 - val_attrition_output_accuracy: 0.8100 - val_attrition_output_loss: 1.7267 - val_department_output_accuracy: 0.5204 - val_department_output_loss: 2.4780 - val_loss: 4.2123\n",
      "Epoch 84/100\n",
      "\u001b[1m28/28\u001b[0m \u001b[32m━━━━━━━━━━━━━━━━━━━━\u001b[0m\u001b[37m\u001b[0m \u001b[1m0s\u001b[0m 1ms/step - attrition_output_accuracy: 0.9964 - attrition_output_loss: 0.0113 - department_output_accuracy: 0.9958 - department_output_loss: 0.0488 - loss: 0.0599 - val_attrition_output_accuracy: 0.8100 - val_attrition_output_loss: 1.7527 - val_department_output_accuracy: 0.5204 - val_department_output_loss: 2.4839 - val_loss: 4.2427\n",
      "Epoch 85/100\n",
      "\u001b[1m28/28\u001b[0m \u001b[32m━━━━━━━━━━━━━━━━━━━━\u001b[0m\u001b[37m\u001b[0m \u001b[1m0s\u001b[0m 2ms/step - attrition_output_accuracy: 0.9984 - attrition_output_loss: 0.0123 - department_output_accuracy: 0.9955 - department_output_loss: 0.0430 - loss: 0.0553 - val_attrition_output_accuracy: 0.8009 - val_attrition_output_loss: 1.7941 - val_department_output_accuracy: 0.4932 - val_department_output_loss: 2.6207 - val_loss: 4.4223\n",
      "Epoch 86/100\n",
      "\u001b[1m28/28\u001b[0m \u001b[32m━━━━━━━━━━━━━━━━━━━━\u001b[0m\u001b[37m\u001b[0m \u001b[1m0s\u001b[0m 1ms/step - attrition_output_accuracy: 1.0000 - attrition_output_loss: 0.0066 - department_output_accuracy: 0.9934 - department_output_loss: 0.0420 - loss: 0.0486 - val_attrition_output_accuracy: 0.8100 - val_attrition_output_loss: 1.7862 - val_department_output_accuracy: 0.5023 - val_department_output_loss: 2.5682 - val_loss: 4.3649\n",
      "Epoch 87/100\n",
      "\u001b[1m28/28\u001b[0m \u001b[32m━━━━━━━━━━━━━━━━━━━━\u001b[0m\u001b[37m\u001b[0m \u001b[1m0s\u001b[0m 1ms/step - attrition_output_accuracy: 1.0000 - attrition_output_loss: 0.0066 - department_output_accuracy: 0.9997 - department_output_loss: 0.0350 - loss: 0.0417 - val_attrition_output_accuracy: 0.8100 - val_attrition_output_loss: 1.8263 - val_department_output_accuracy: 0.4977 - val_department_output_loss: 2.5592 - val_loss: 4.3948\n",
      "Epoch 88/100\n",
      "\u001b[1m28/28\u001b[0m \u001b[32m━━━━━━━━━━━━━━━━━━━━\u001b[0m\u001b[37m\u001b[0m \u001b[1m0s\u001b[0m 1ms/step - attrition_output_accuracy: 1.0000 - attrition_output_loss: 0.0037 - department_output_accuracy: 0.9904 - department_output_loss: 0.0338 - loss: 0.0375 - val_attrition_output_accuracy: 0.8100 - val_attrition_output_loss: 1.8626 - val_department_output_accuracy: 0.5068 - val_department_output_loss: 2.5838 - val_loss: 4.4540\n",
      "Epoch 89/100\n",
      "\u001b[1m28/28\u001b[0m \u001b[32m━━━━━━━━━━━━━━━━━━━━\u001b[0m\u001b[37m\u001b[0m \u001b[1m0s\u001b[0m 1ms/step - attrition_output_accuracy: 1.0000 - attrition_output_loss: 0.0049 - department_output_accuracy: 0.9920 - department_output_loss: 0.0348 - loss: 0.0398 - val_attrition_output_accuracy: 0.8054 - val_attrition_output_loss: 1.8974 - val_department_output_accuracy: 0.4977 - val_department_output_loss: 2.6421 - val_loss: 4.5465\n",
      "Epoch 90/100\n",
      "\u001b[1m28/28\u001b[0m \u001b[32m━━━━━━━━━━━━━━━━━━━━\u001b[0m\u001b[37m\u001b[0m \u001b[1m0s\u001b[0m 1ms/step - attrition_output_accuracy: 1.0000 - attrition_output_loss: 0.0053 - department_output_accuracy: 0.9950 - department_output_loss: 0.0307 - loss: 0.0360 - val_attrition_output_accuracy: 0.8100 - val_attrition_output_loss: 1.8876 - val_department_output_accuracy: 0.5113 - val_department_output_loss: 2.6691 - val_loss: 4.5650\n",
      "Epoch 91/100\n",
      "\u001b[1m28/28\u001b[0m \u001b[32m━━━━━━━━━━━━━━━━━━━━\u001b[0m\u001b[37m\u001b[0m \u001b[1m0s\u001b[0m 1ms/step - attrition_output_accuracy: 1.0000 - attrition_output_loss: 0.0050 - department_output_accuracy: 0.9987 - department_output_loss: 0.0219 - loss: 0.0269 - val_attrition_output_accuracy: 0.8145 - val_attrition_output_loss: 1.9443 - val_department_output_accuracy: 0.5385 - val_department_output_loss: 2.6476 - val_loss: 4.6004\n",
      "Epoch 92/100\n",
      "\u001b[1m28/28\u001b[0m \u001b[32m━━━━━━━━━━━━━━━━━━━━\u001b[0m\u001b[37m\u001b[0m \u001b[1m0s\u001b[0m 1ms/step - attrition_output_accuracy: 1.0000 - attrition_output_loss: 0.0047 - department_output_accuracy: 1.0000 - department_output_loss: 0.0215 - loss: 0.0262 - val_attrition_output_accuracy: 0.8190 - val_attrition_output_loss: 1.9349 - val_department_output_accuracy: 0.5023 - val_department_output_loss: 2.7121 - val_loss: 4.6554\n",
      "Epoch 93/100\n",
      "\u001b[1m28/28\u001b[0m \u001b[32m━━━━━━━━━━━━━━━━━━━━\u001b[0m\u001b[37m\u001b[0m \u001b[1m0s\u001b[0m 1ms/step - attrition_output_accuracy: 1.0000 - attrition_output_loss: 0.0040 - department_output_accuracy: 0.9999 - department_output_loss: 0.0182 - loss: 0.0222 - val_attrition_output_accuracy: 0.8054 - val_attrition_output_loss: 1.9479 - val_department_output_accuracy: 0.5113 - val_department_output_loss: 2.7083 - val_loss: 4.6637\n",
      "Epoch 94/100\n",
      "\u001b[1m28/28\u001b[0m \u001b[32m━━━━━━━━━━━━━━━━━━━━\u001b[0m\u001b[37m\u001b[0m \u001b[1m0s\u001b[0m 2ms/step - attrition_output_accuracy: 1.0000 - attrition_output_loss: 0.0035 - department_output_accuracy: 0.9984 - department_output_loss: 0.0177 - loss: 0.0212 - val_attrition_output_accuracy: 0.8009 - val_attrition_output_loss: 1.9452 - val_department_output_accuracy: 0.5294 - val_department_output_loss: 2.7581 - val_loss: 4.7116\n",
      "Epoch 95/100\n",
      "\u001b[1m28/28\u001b[0m \u001b[32m━━━━━━━━━━━━━━━━━━━━\u001b[0m\u001b[37m\u001b[0m \u001b[1m0s\u001b[0m 1ms/step - attrition_output_accuracy: 0.9974 - attrition_output_loss: 0.0061 - department_output_accuracy: 0.9977 - department_output_loss: 0.0177 - loss: 0.0237 - val_attrition_output_accuracy: 0.7964 - val_attrition_output_loss: 1.9758 - val_department_output_accuracy: 0.5023 - val_department_output_loss: 2.8217 - val_loss: 4.8070\n",
      "Epoch 96/100\n",
      "\u001b[1m28/28\u001b[0m \u001b[32m━━━━━━━━━━━━━━━━━━━━\u001b[0m\u001b[37m\u001b[0m \u001b[1m0s\u001b[0m 1ms/step - attrition_output_accuracy: 0.9989 - attrition_output_loss: 0.0067 - department_output_accuracy: 1.0000 - department_output_loss: 0.0184 - loss: 0.0251 - val_attrition_output_accuracy: 0.8145 - val_attrition_output_loss: 1.9480 - val_department_output_accuracy: 0.5158 - val_department_output_loss: 2.8017 - val_loss: 4.7572\n",
      "Epoch 97/100\n",
      "\u001b[1m28/28\u001b[0m \u001b[32m━━━━━━━━━━━━━━━━━━━━\u001b[0m\u001b[37m\u001b[0m \u001b[1m0s\u001b[0m 1ms/step - attrition_output_accuracy: 0.9981 - attrition_output_loss: 0.0050 - department_output_accuracy: 0.9986 - department_output_loss: 0.0176 - loss: 0.0226 - val_attrition_output_accuracy: 0.8100 - val_attrition_output_loss: 2.0264 - val_department_output_accuracy: 0.5113 - val_department_output_loss: 2.8432 - val_loss: 4.8797\n",
      "Epoch 98/100\n",
      "\u001b[1m28/28\u001b[0m \u001b[32m━━━━━━━━━━━━━━━━━━━━\u001b[0m\u001b[37m\u001b[0m \u001b[1m0s\u001b[0m 1ms/step - attrition_output_accuracy: 1.0000 - attrition_output_loss: 0.0043 - department_output_accuracy: 0.9975 - department_output_loss: 0.0195 - loss: 0.0237 - val_attrition_output_accuracy: 0.8145 - val_attrition_output_loss: 2.0052 - val_department_output_accuracy: 0.5158 - val_department_output_loss: 2.8583 - val_loss: 4.8723\n",
      "Epoch 99/100\n",
      "\u001b[1m28/28\u001b[0m \u001b[32m━━━━━━━━━━━━━━━━━━━━\u001b[0m\u001b[37m\u001b[0m \u001b[1m0s\u001b[0m 2ms/step - attrition_output_accuracy: 1.0000 - attrition_output_loss: 0.0025 - department_output_accuracy: 0.9990 - department_output_loss: 0.0180 - loss: 0.0206 - val_attrition_output_accuracy: 0.8100 - val_attrition_output_loss: 2.0467 - val_department_output_accuracy: 0.5158 - val_department_output_loss: 2.8747 - val_loss: 4.9289\n",
      "Epoch 100/100\n",
      "\u001b[1m28/28\u001b[0m \u001b[32m━━━━━━━━━━━━━━━━━━━━\u001b[0m\u001b[37m\u001b[0m \u001b[1m0s\u001b[0m 1ms/step - attrition_output_accuracy: 1.0000 - attrition_output_loss: 0.0026 - department_output_accuracy: 0.9996 - department_output_loss: 0.0133 - loss: 0.0159 - val_attrition_output_accuracy: 0.8009 - val_attrition_output_loss: 2.0533 - val_department_output_accuracy: 0.5294 - val_department_output_loss: 2.8845 - val_loss: 4.9472\n"
     ]
    },
    {
     "data": {
      "text/plain": [
       "<keras.src.callbacks.history.History at 0x17f8bd250>"
      ]
     },
     "execution_count": 31,
     "metadata": {},
     "output_type": "execute_result"
    }
   ],
   "source": [
    "# Train the model\n",
    "model.fit(\n",
    "    X_train_post_scaled,\n",
    "    {\n",
    "        'attrition_output': attrition_encoded_train_df,\n",
    "        'department_output': dept_encoded_train_df\n",
    "    },\n",
    "    epochs=100,  \n",
    "    batch_size=32, \n",
    "    validation_split=0.2\n",
    ")"
   ]
  },
  {
   "cell_type": "code",
   "execution_count": 32,
   "metadata": {
    "colab": {
     "base_uri": "https://localhost:8080/"
    },
    "id": "VsMoaQlgGc3U",
    "outputId": "1bd4e601-e964-4abc-ad83-aeecf6b696be"
   },
   "outputs": [
    {
     "name": "stdout",
     "output_type": "stream",
     "text": [
      "\u001b[1m12/12\u001b[0m \u001b[32m━━━━━━━━━━━━━━━━━━━━\u001b[0m\u001b[37m\u001b[0m \u001b[1m0s\u001b[0m 917us/step - attrition_output_accuracy: 0.7755 - attrition_output_loss: 1.6847 - department_output_accuracy: 0.5438 - department_output_loss: 2.7912 - loss: 4.4902\n"
     ]
    },
    {
     "data": {
      "text/plain": [
       "[4.581243515014648,\n",
       " 1.7144274711608887,\n",
       " 2.774519681930542,\n",
       " 0.801630437374115,\n",
       " 0.54347825050354]"
      ]
     },
     "execution_count": 32,
     "metadata": {},
     "output_type": "execute_result"
    }
   ],
   "source": [
    "# Evaluate the model with the testing data\n",
    "results = model.evaluate(np.array(X_test_post_scaled), {\n",
    "        'attrition_output': attrition_encoded_test_df, \n",
    "        'department_output': dept_encoded_test_df\n",
    "    })\n",
    "results"
   ]
  },
  {
   "cell_type": "code",
   "execution_count": 33,
   "metadata": {
    "colab": {
     "base_uri": "https://localhost:8080/"
    },
    "id": "ZlCtlHi0Vt54",
    "outputId": "bc21ef3e-80c2-4b38-9c29-79515bc23dec"
   },
   "outputs": [
    {
     "name": "stdout",
     "output_type": "stream",
     "text": [
      "Attrition Accuracy: 80.16%\n",
      "Department Accuracy: 54.35%\n"
     ]
    }
   ],
   "source": [
    "# Print the accuracy for both department and attrition\n",
    "print(f'Attrition Accuracy: {round((results[3] * 100),2)}%\\nDepartment Accuracy: {round((results[4] * 100),2)}%')"
   ]
  },
  {
   "cell_type": "markdown",
   "metadata": {
    "id": "eGSyfsZfWOQM"
   },
   "source": [
    "# Summary\n",
    "\n",
    "In the provided space below, briefly answer the following questions.\n",
    "\n",
    "1. Is accuracy the best metric to use on this data? Why or why not?\n",
    "\n",
    "2. What activation functions did you choose for your output layers, and why?\n",
    "\n",
    "3. Can you name a few ways that this model might be improved?"
   ]
  },
  {
   "cell_type": "markdown",
   "metadata": {
    "id": "pi9SLpFnWvbF"
   },
   "source": [
    "YOUR ANSWERS HERE\n",
    "\n",
    "1. Accuracy is an ok metric to test the prediction on this data. The best way would be a classification report. It would give us insights on precision and recall. It is more important to understand the realtion between features for the False Positives and True Negatives. Knowing those would help us increase our understanding of how the model is infering predictions and help us tune it further to improve test/validation accuracy while preventing overfitting.\n",
    "2. Softmax for department and attrition both. Since the output layers are fed with categorical-crossentropy loss factor inputs. I would have liked to use sigmoid for attrition and have kept a binary output using binary-crossentropy but the instructions provided made me encode attrition from a binary to a categorical structure.\n",
    "3. Firstly, way more data. Considering this a neural network, it is obvious that it is overfitting the data since the training accuracy is coming out to be 100% but the test accuracy is only 80% which indicates that there isnt enough data to fit the layers. Secondly, provinding unrestricted features. There is no reason to restrict the features to 10 when there are 28. Given there arent even close to enough samples, there should be no reason to restrict features."
   ]
  },
  {
   "cell_type": "markdown",
   "metadata": {},
   "source": []
  }
 ],
 "metadata": {
  "colab": {
   "provenance": []
  },
  "kernelspec": {
   "display_name": "Python 3 (ipykernel)",
   "language": "python",
   "name": "python3"
  },
  "language_info": {
   "codemirror_mode": {
    "name": "ipython",
    "version": 3
   },
   "file_extension": ".py",
   "mimetype": "text/x-python",
   "name": "python",
   "nbconvert_exporter": "python",
   "pygments_lexer": "ipython3",
   "version": "3.11.7"
  },
  "vscode": {
   "interpreter": {
    "hash": "31f2aee4e71d21fbe5cf8b01ff0e069b9275f58929596ceb00d14d90e3e16cd6"
   }
  }
 },
 "nbformat": 4,
 "nbformat_minor": 4
}
